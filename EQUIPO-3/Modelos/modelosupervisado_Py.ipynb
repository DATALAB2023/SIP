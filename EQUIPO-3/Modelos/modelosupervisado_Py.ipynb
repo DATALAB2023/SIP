{
 "cells": [
  {
   "cell_type": "code",
   "execution_count": 1,
   "id": "initial_id",
   "metadata": {
    "collapsed": true,
    "ExecuteTime": {
     "end_time": "2023-11-30T13:40:05.538075900Z",
     "start_time": "2023-11-30T13:40:05.527079100Z"
    }
   },
   "outputs": [],
   "source": [
    "import pandas as pd"
   ]
  },
  {
   "cell_type": "markdown",
   "source": [
    "# OBJETIVO. Asociar los factores maternos y del parto con el apgar bajo"
   ],
   "metadata": {
    "collapsed": false
   },
   "id": "fe3908370723299e"
  },
  {
   "cell_type": "code",
   "execution_count": 2,
   "outputs": [],
   "source": [
    "sip_df=pd.read_excel('sip_base_SE.xlsx')"
   ],
   "metadata": {
    "collapsed": false,
    "ExecuteTime": {
     "end_time": "2023-11-30T13:43:18.789154700Z",
     "start_time": "2023-11-30T13:40:05.534083Z"
    }
   },
   "id": "e4ec5f9601fbf33a"
  },
  {
   "cell_type": "markdown",
   "source": [
    "## Describir características generales del parto utilizando las bases de datos del SIP para el año 2021"
   ],
   "metadata": {
    "collapsed": false
   },
   "id": "c0da185eceb15b05"
  },
  {
   "cell_type": "markdown",
   "source": [
    "### Comprensión del dataset"
   ],
   "metadata": {
    "collapsed": false
   },
   "id": "d3ea82c9d969d671"
  },
  {
   "cell_type": "code",
   "execution_count": 4,
   "outputs": [
    {
     "data": {
      "text/plain": "Index(['ID_anonimo', 'VAR_0009', 'VAR_0012', 'VAR_0013', 'VAR_0015',\n       'VAR_0016', 'VAR_0036', 'VAR_0182', 'VAR_0183', 'VAR_0185', 'VAR_0186',\n       'VAR_0187', 'VAR_0188', 'VAR_0189', 'VAR_0190', 'VAR_0191', 'VAR_0198',\n       'VAR_0199', 'VAR_0200', 'VAR_0201', 'VAR_0202', 'VAR_0203', 'VAR_0204',\n       'VAR_0205', 'VAR_0206', 'VAR_0282', 'VAR_0285', 'VAR_0287', 'VAR_0288',\n       'VAR_0291', 'VAR_0292', 'VAR_0293', 'VAR_0294', 'VAR_0295', 'VAR_0296',\n       'VAR_0297', 'VAR_0298', 'VAR_0299', 'VAR_0300', 'VAR_0301', 'VAR_0302',\n       'VAR_0303', 'VAR_0304', 'VAR_0305', 'VAR_0310', 'VAR_0311', 'VAR_0312',\n       'VAR_0313', 'VAR_0314', 'VAR_0315', 'VAR_0316', 'VAR_0319', 'VAR_0320',\n       'VAR_0321', 'VAR_0322', 'VAR_0323', 'VAR_0324', 'VAR_0325', 'VAR_0326',\n       'VAR_0327', 'VAR_0328', 'VAR_0331', 'VAR_0333', 'VAR_0335', 'VAR_0336',\n       'VAR_0337', 'VAR_0339', 'VAR_0341', 'VAR_0329', 'VAR_0330', 'VAR_0258',\n       'VAR_0260', 'VAR_0266', 'VAR_0261', 'VAR_0267', 'VAR_0273', 'VAR_0274',\n       'VAR_0275', 'VAR_0430', 'VAR_0431'],\n      dtype='object')"
     },
     "execution_count": 4,
     "metadata": {},
     "output_type": "execute_result"
    }
   ],
   "source": [
    "sip_df.columns"
   ],
   "metadata": {
    "collapsed": false,
    "ExecuteTime": {
     "end_time": "2023-11-29T23:39:54.323248400Z",
     "start_time": "2023-11-29T23:39:54.312687100Z"
    }
   },
   "id": "875dfb08c97ffdbe"
  },
  {
   "cell_type": "code",
   "execution_count": 5,
   "outputs": [
    {
     "data": {
      "text/plain": "(214197, 80)"
     },
     "execution_count": 5,
     "metadata": {},
     "output_type": "execute_result"
    }
   ],
   "source": [
    "#Entendiendo la dimensión del dataset\n",
    "sip_df.shape"
   ],
   "metadata": {
    "collapsed": false,
    "ExecuteTime": {
     "end_time": "2023-11-29T23:39:58.257182300Z",
     "start_time": "2023-11-29T23:39:58.251133200Z"
    }
   },
   "id": "77ba1eb30583ad30"
  },
  {
   "cell_type": "code",
   "execution_count": 6,
   "outputs": [
    {
     "data": {
      "text/plain": "   ID_anonimo  VAR_0009  VAR_0012 VAR_0013 VAR_0015  VAR_0016  VAR_0036   \n0      969167       4.0       1.0        C        B       0.0       0.0  \\\n1      188942       4.0       1.0        C        B       0.0       0.0   \n2      134058       3.0       1.0        C        B       0.0       0.0   \n3      124022       3.0       0.0        B        B       0.0       0.0   \n4      685285       4.0       1.0        C        B       0.0       0.0   \n\n  VAR_0182 VAR_0183  VAR_0185  ...  VAR_0258  VAR_0260 VAR_0266 VAR_0261   \n0        A  09/2021       9.0  ...       0.0       0.0      NaN      0.0  \\\n1        A  02/2021       NaN  ...       1.0       1.0      NaN      0.0   \n2        A  11/2021       8.0  ...       0.0       0.0      NaN      0.0   \n3        A  11/2021       5.0  ...       0.0       0.0      NaN      0.0   \n4        A  10/2021      10.0  ...       0.0       0.0      NaN      0.0   \n\n  VAR_0267  VAR_0273  VAR_0274  VAR_0275 VAR_0430 VAR_0431  \n0      NaN       0.0       0.0       0.0      PBA  CONE II  \n1      NaN       0.0       0.0       0.0      PBA  CONE II  \n2      NaN       0.0       0.0       0.0      PBA  CONE II  \n3      NaN       0.0       0.0       0.0      PBA  CONE II  \n4      NaN       0.0       0.0       0.0      PBA  CONE II  \n\n[5 rows x 80 columns]",
      "text/html": "<div>\n<style scoped>\n    .dataframe tbody tr th:only-of-type {\n        vertical-align: middle;\n    }\n\n    .dataframe tbody tr th {\n        vertical-align: top;\n    }\n\n    .dataframe thead th {\n        text-align: right;\n    }\n</style>\n<table border=\"1\" class=\"dataframe\">\n  <thead>\n    <tr style=\"text-align: right;\">\n      <th></th>\n      <th>ID_anonimo</th>\n      <th>VAR_0009</th>\n      <th>VAR_0012</th>\n      <th>VAR_0013</th>\n      <th>VAR_0015</th>\n      <th>VAR_0016</th>\n      <th>VAR_0036</th>\n      <th>VAR_0182</th>\n      <th>VAR_0183</th>\n      <th>VAR_0185</th>\n      <th>...</th>\n      <th>VAR_0258</th>\n      <th>VAR_0260</th>\n      <th>VAR_0266</th>\n      <th>VAR_0261</th>\n      <th>VAR_0267</th>\n      <th>VAR_0273</th>\n      <th>VAR_0274</th>\n      <th>VAR_0275</th>\n      <th>VAR_0430</th>\n      <th>VAR_0431</th>\n    </tr>\n  </thead>\n  <tbody>\n    <tr>\n      <th>0</th>\n      <td>969167</td>\n      <td>4.0</td>\n      <td>1.0</td>\n      <td>C</td>\n      <td>B</td>\n      <td>0.0</td>\n      <td>0.0</td>\n      <td>A</td>\n      <td>09/2021</td>\n      <td>9.0</td>\n      <td>...</td>\n      <td>0.0</td>\n      <td>0.0</td>\n      <td>NaN</td>\n      <td>0.0</td>\n      <td>NaN</td>\n      <td>0.0</td>\n      <td>0.0</td>\n      <td>0.0</td>\n      <td>PBA</td>\n      <td>CONE II</td>\n    </tr>\n    <tr>\n      <th>1</th>\n      <td>188942</td>\n      <td>4.0</td>\n      <td>1.0</td>\n      <td>C</td>\n      <td>B</td>\n      <td>0.0</td>\n      <td>0.0</td>\n      <td>A</td>\n      <td>02/2021</td>\n      <td>NaN</td>\n      <td>...</td>\n      <td>1.0</td>\n      <td>1.0</td>\n      <td>NaN</td>\n      <td>0.0</td>\n      <td>NaN</td>\n      <td>0.0</td>\n      <td>0.0</td>\n      <td>0.0</td>\n      <td>PBA</td>\n      <td>CONE II</td>\n    </tr>\n    <tr>\n      <th>2</th>\n      <td>134058</td>\n      <td>3.0</td>\n      <td>1.0</td>\n      <td>C</td>\n      <td>B</td>\n      <td>0.0</td>\n      <td>0.0</td>\n      <td>A</td>\n      <td>11/2021</td>\n      <td>8.0</td>\n      <td>...</td>\n      <td>0.0</td>\n      <td>0.0</td>\n      <td>NaN</td>\n      <td>0.0</td>\n      <td>NaN</td>\n      <td>0.0</td>\n      <td>0.0</td>\n      <td>0.0</td>\n      <td>PBA</td>\n      <td>CONE II</td>\n    </tr>\n    <tr>\n      <th>3</th>\n      <td>124022</td>\n      <td>3.0</td>\n      <td>0.0</td>\n      <td>B</td>\n      <td>B</td>\n      <td>0.0</td>\n      <td>0.0</td>\n      <td>A</td>\n      <td>11/2021</td>\n      <td>5.0</td>\n      <td>...</td>\n      <td>0.0</td>\n      <td>0.0</td>\n      <td>NaN</td>\n      <td>0.0</td>\n      <td>NaN</td>\n      <td>0.0</td>\n      <td>0.0</td>\n      <td>0.0</td>\n      <td>PBA</td>\n      <td>CONE II</td>\n    </tr>\n    <tr>\n      <th>4</th>\n      <td>685285</td>\n      <td>4.0</td>\n      <td>1.0</td>\n      <td>C</td>\n      <td>B</td>\n      <td>0.0</td>\n      <td>0.0</td>\n      <td>A</td>\n      <td>10/2021</td>\n      <td>10.0</td>\n      <td>...</td>\n      <td>0.0</td>\n      <td>0.0</td>\n      <td>NaN</td>\n      <td>0.0</td>\n      <td>NaN</td>\n      <td>0.0</td>\n      <td>0.0</td>\n      <td>0.0</td>\n      <td>PBA</td>\n      <td>CONE II</td>\n    </tr>\n  </tbody>\n</table>\n<p>5 rows × 80 columns</p>\n</div>"
     },
     "execution_count": 6,
     "metadata": {},
     "output_type": "execute_result"
    }
   ],
   "source": [
    "sip_df.head()"
   ],
   "metadata": {
    "collapsed": false,
    "ExecuteTime": {
     "end_time": "2023-11-29T23:40:04.264721300Z",
     "start_time": "2023-11-29T23:40:04.249256800Z"
    }
   },
   "id": "baeea5226c75cb49"
  },
  {
   "cell_type": "markdown",
   "source": [
    "## Reestructuración del data set"
   ],
   "metadata": {
    "collapsed": false
   },
   "id": "26d0299a8d1ecfa4"
  },
  {
   "cell_type": "markdown",
   "source": [
    "### Acotar el dataset según las Variables seleccionadas\n",
    "\n",
    "Se espera tomar como variable maestra a :\n",
    "VAR_0322\tApgar 5to. Minuto\n",
    "\n",
    "VAR_0009\tGrupo de edad materna\n",
    "VAR_0185\tConsultas prenatales\n",
    "VAR_0198\tEdad gestacional al parto\n",
    "VAR_0258\tTrastornos hipertensivos\n",
    "VAR_0260\tPreeclampsia\n",
    "VAR_0261\tEclampsia\n",
    "VAR_0267\tInfección genital\n",
    "VAR_0311\tPeso al nacer\n"
   ],
   "metadata": {
    "collapsed": false
   },
   "id": "d2866e70feaf2e2b"
  },
  {
   "cell_type": "code",
   "execution_count": 11,
   "outputs": [],
   "source": [
    "vars_selec=['VAR_0009',\n",
    "'VAR_0185',\n",
    "'VAR_0198',\n",
    "'VAR_0258',\n",
    "'VAR_0260',\n",
    "'VAR_0261',\n",
    "'VAR_0266',\n",
    "'VAR_0267',\n",
    "'VAR_0311',\n",
    "'VAR_0322'\n",
    "]\t"
   ],
   "metadata": {
    "collapsed": false,
    "ExecuteTime": {
     "end_time": "2023-11-30T14:01:46.484502700Z",
     "start_time": "2023-11-30T14:01:46.476678600Z"
    }
   },
   "id": "83ebf257621504ab"
  },
  {
   "cell_type": "code",
   "execution_count": 9,
   "outputs": [
    {
     "name": "stdout",
     "output_type": "stream",
     "text": [
      "['VAR_0009', 'VAR_0185', 'VAR_0198', 'VAR_0258', 'VAR_0260', 'VAR_0261', 'VAR_0266', 'VAR_0267', 'VAR_0311', 'VAR_0322']\n"
     ]
    }
   ],
   "source": [
    "print(vars_selec)"
   ],
   "metadata": {
    "collapsed": false,
    "ExecuteTime": {
     "end_time": "2023-11-29T23:40:29.792099300Z",
     "start_time": "2023-11-29T23:40:29.781047600Z"
    }
   },
   "id": "def4a67aba9e5923"
  },
  {
   "cell_type": "code",
   "execution_count": 8,
   "outputs": [
    {
     "data": {
      "text/plain": "VAR_0009            1.0    2.0    3.0    4.0    5.0    6.0   7.0  8.0\nVAR_0182 VAR_0258                                                    \nA        0.0       1020  19593  43669  39275  25297  12778  3698  169\n         1.0         72   1163   2595   2786   2336   1771   751   56\nB        0.0         22    103    235    243    193    143    74    1\n         1.0          0      0      2      0      3      2     1    0\n\\        0.0          0      0      1      1      2      0     0    0",
      "text/html": "<div>\n<style scoped>\n    .dataframe tbody tr th:only-of-type {\n        vertical-align: middle;\n    }\n\n    .dataframe tbody tr th {\n        vertical-align: top;\n    }\n\n    .dataframe thead th {\n        text-align: right;\n    }\n</style>\n<table border=\"1\" class=\"dataframe\">\n  <thead>\n    <tr style=\"text-align: right;\">\n      <th></th>\n      <th>VAR_0009</th>\n      <th>1.0</th>\n      <th>2.0</th>\n      <th>3.0</th>\n      <th>4.0</th>\n      <th>5.0</th>\n      <th>6.0</th>\n      <th>7.0</th>\n      <th>8.0</th>\n    </tr>\n    <tr>\n      <th>VAR_0182</th>\n      <th>VAR_0258</th>\n      <th></th>\n      <th></th>\n      <th></th>\n      <th></th>\n      <th></th>\n      <th></th>\n      <th></th>\n      <th></th>\n    </tr>\n  </thead>\n  <tbody>\n    <tr>\n      <th rowspan=\"2\" valign=\"top\">A</th>\n      <th>0.0</th>\n      <td>1020</td>\n      <td>19593</td>\n      <td>43669</td>\n      <td>39275</td>\n      <td>25297</td>\n      <td>12778</td>\n      <td>3698</td>\n      <td>169</td>\n    </tr>\n    <tr>\n      <th>1.0</th>\n      <td>72</td>\n      <td>1163</td>\n      <td>2595</td>\n      <td>2786</td>\n      <td>2336</td>\n      <td>1771</td>\n      <td>751</td>\n      <td>56</td>\n    </tr>\n    <tr>\n      <th rowspan=\"2\" valign=\"top\">B</th>\n      <th>0.0</th>\n      <td>22</td>\n      <td>103</td>\n      <td>235</td>\n      <td>243</td>\n      <td>193</td>\n      <td>143</td>\n      <td>74</td>\n      <td>1</td>\n    </tr>\n    <tr>\n      <th>1.0</th>\n      <td>0</td>\n      <td>0</td>\n      <td>2</td>\n      <td>0</td>\n      <td>3</td>\n      <td>2</td>\n      <td>1</td>\n      <td>0</td>\n    </tr>\n    <tr>\n      <th>\\</th>\n      <th>0.0</th>\n      <td>0</td>\n      <td>0</td>\n      <td>1</td>\n      <td>1</td>\n      <td>2</td>\n      <td>0</td>\n      <td>0</td>\n      <td>0</td>\n    </tr>\n  </tbody>\n</table>\n</div>"
     },
     "execution_count": 8,
     "metadata": {},
     "output_type": "execute_result"
    }
   ],
   "source": [
    "#tabla de cruce - var 1 y var2 - conteo por categoria **** DISTRIBUCIONES DE CATEGORIAS\n",
    "# verificacion de inconsistencias\n",
    "pd.crosstab([sip_df['VAR_0182'], sip_df['VAR_0258']], sip_df['VAR_0009']).to_clipboard()\n",
    "pd.crosstab([sip_df['VAR_0182'], sip_df['VAR_0258']], sip_df['VAR_0009'])"
   ],
   "metadata": {
    "collapsed": false,
    "ExecuteTime": {
     "end_time": "2023-11-30T13:53:14.973540Z",
     "start_time": "2023-11-30T13:53:14.776000700Z"
    }
   },
   "id": "5b6ef229c504adcc"
  },
  {
   "cell_type": "code",
   "execution_count": 12,
   "outputs": [],
   "source": [
    "#Creacion de un dataframe con la delimitacion segun las variables definidas \n",
    "sip_varsdef_df=sip_df.loc[:,vars_selec]"
   ],
   "metadata": {
    "collapsed": false,
    "ExecuteTime": {
     "end_time": "2023-11-30T14:01:54.786771100Z",
     "start_time": "2023-11-30T14:01:54.765010900Z"
    }
   },
   "id": "f82b7d582f0c8e74"
  },
  {
   "cell_type": "code",
   "execution_count": 13,
   "outputs": [
    {
     "data": {
      "text/plain": "    VAR_0009  VAR_0185  VAR_0198  VAR_0258  VAR_0260  VAR_0261  VAR_0266   \n0        4.0       9.0      39.0       0.0       0.0       0.0       NaN  \\\n1        4.0       NaN      38.0       1.0       1.0       0.0       NaN   \n2        3.0       8.0      38.0       0.0       0.0       0.0       NaN   \n3        3.0       5.0      39.0       0.0       0.0       0.0       NaN   \n4        4.0      10.0      39.0       0.0       0.0       0.0       NaN   \n5        4.0       9.0      40.0       0.0       0.0       0.0       NaN   \n6        5.0       6.0      39.0       1.0       0.0       0.0       NaN   \n7        4.0       5.0      39.0       0.0       0.0       0.0       NaN   \n8        3.0       6.0      40.0       0.0       0.0       0.0       NaN   \n9        3.0       7.0      41.0       0.0       0.0       0.0       NaN   \n10       4.0       0.0      38.0       0.0       0.0       0.0       NaN   \n11       2.0      12.0      37.0       0.0       0.0       0.0       NaN   \n12       3.0       3.0      41.0       0.0       0.0       0.0       NaN   \n13       4.0       0.0      34.0       0.0       0.0       0.0       NaN   \n14       4.0       2.0      40.0       0.0       0.0       0.0       NaN   \n15       5.0       9.0      41.0       0.0       0.0       0.0       NaN   \n16       3.0       1.0      23.0       0.0       0.0       0.0       NaN   \n17       3.0      10.0      40.0       0.0       0.0       0.0       NaN   \n18       3.0       0.0       0.0       0.0       0.0       0.0       NaN   \n19       3.0       7.0      40.0       0.0       0.0       0.0       NaN   \n20       4.0       7.0      39.0       0.0       0.0       0.0       NaN   \n21       2.0      11.0      41.0       0.0       0.0       0.0       NaN   \n22       3.0       7.0      40.0       0.0       0.0       0.0       NaN   \n23       4.0       5.0      40.0       0.0       0.0       0.0       NaN   \n24       3.0       3.0      39.0       0.0       0.0       0.0       NaN   \n25       4.0       9.0      40.0       0.0       0.0       0.0       NaN   \n26       2.0       7.0      40.0       0.0       0.0       0.0       NaN   \n27       5.0       7.0      40.0       0.0       0.0       0.0       NaN   \n28       3.0       7.0      39.0       0.0       0.0       0.0       NaN   \n29       5.0       6.0      40.0       0.0       0.0       0.0       NaN   \n30       3.0       4.0      37.0       0.0       0.0       0.0       NaN   \n31       3.0       7.0      41.0       0.0       0.0       0.0       NaN   \n32       2.0       0.0      37.0       0.0       0.0       0.0       NaN   \n33       2.0       7.0      41.0       0.0       0.0       0.0       NaN   \n34       3.0      10.0      40.0       0.0       0.0       0.0       NaN   \n35       4.0       3.0      36.0       1.0       0.0       0.0       NaN   \n36       2.0       6.0      37.0       0.0       0.0       0.0       NaN   \n37       4.0       6.0      41.0       0.0       0.0       0.0       NaN   \n38       1.0       7.0      37.0       0.0       0.0       0.0       NaN   \n39       2.0       3.0      37.0       0.0       0.0       0.0       NaN   \n40       2.0       9.0      41.0       0.0       0.0       0.0       NaN   \n41       2.0       5.0      41.0       0.0       0.0       0.0       NaN   \n42       2.0       4.0      37.0       0.0       0.0       0.0       NaN   \n43       3.0       7.0      37.0       0.0       0.0       0.0       NaN   \n44       2.0       6.0      39.0       0.0       0.0       0.0       NaN   \n45       4.0       7.0      39.0       0.0       0.0       0.0       NaN   \n46       3.0       2.0      41.0       0.0       0.0       0.0       NaN   \n47       2.0       6.0      41.0       0.0       0.0       0.0       NaN   \n48       6.0      12.0      40.0       0.0       0.0       0.0       NaN   \n49       5.0       8.0      39.0       0.0       0.0       0.0       NaN   \n\n    VAR_0267  VAR_0311  VAR_0322  \n0        NaN    3090.0      10.0  \n1        NaN    2570.0      10.0  \n2        NaN    2990.0      10.0  \n3        NaN    3670.0      10.0  \n4        NaN    3600.0      10.0  \n5        NaN    4010.0      10.0  \n6        NaN    3500.0       7.0  \n7        NaN    3400.0      10.0  \n8        NaN    3710.0      10.0  \n9        NaN    3650.0       7.0  \n10       NaN    3510.0      10.0  \n11       NaN    3150.0       9.0  \n12       NaN    3570.0       9.0  \n13       NaN    2690.0      10.0  \n14       NaN    3470.0      10.0  \n15       NaN    4260.0      10.0  \n16       NaN     550.0       1.0  \n17       NaN    3810.0      10.0  \n18       NaN    3250.0       9.0  \n19       NaN    3690.0      10.0  \n20       NaN    4570.0      10.0  \n21       NaN    3440.0      10.0  \n22       NaN    3350.0      10.0  \n23       NaN    3490.0      10.0  \n24       NaN    3220.0      10.0  \n25       NaN    3930.0      10.0  \n26       NaN    3420.0      10.0  \n27       NaN    4260.0      10.0  \n28       NaN    3760.0      10.0  \n29       NaN    3760.0      10.0  \n30       NaN    3390.0      10.0  \n31       NaN    4190.0      10.0  \n32       NaN    3040.0      10.0  \n33       NaN    3390.0      10.0  \n34       NaN    4010.0      10.0  \n35       NaN    2230.0      10.0  \n36       NaN    2700.0      10.0  \n37       NaN    2970.0      10.0  \n38       NaN    3360.0      10.0  \n39       NaN    3050.0      10.0  \n40       NaN    4780.0      10.0  \n41       NaN    3900.0      10.0  \n42       NaN    2450.0      10.0  \n43       NaN    3070.0      10.0  \n44       NaN    3970.0      10.0  \n45       NaN    3600.0      10.0  \n46       NaN    3360.0       9.0  \n47       NaN    3530.0      10.0  \n48       NaN    4090.0       9.0  \n49       NaN    3520.0      10.0  ",
      "text/html": "<div>\n<style scoped>\n    .dataframe tbody tr th:only-of-type {\n        vertical-align: middle;\n    }\n\n    .dataframe tbody tr th {\n        vertical-align: top;\n    }\n\n    .dataframe thead th {\n        text-align: right;\n    }\n</style>\n<table border=\"1\" class=\"dataframe\">\n  <thead>\n    <tr style=\"text-align: right;\">\n      <th></th>\n      <th>VAR_0009</th>\n      <th>VAR_0185</th>\n      <th>VAR_0198</th>\n      <th>VAR_0258</th>\n      <th>VAR_0260</th>\n      <th>VAR_0261</th>\n      <th>VAR_0266</th>\n      <th>VAR_0267</th>\n      <th>VAR_0311</th>\n      <th>VAR_0322</th>\n    </tr>\n  </thead>\n  <tbody>\n    <tr>\n      <th>0</th>\n      <td>4.0</td>\n      <td>9.0</td>\n      <td>39.0</td>\n      <td>0.0</td>\n      <td>0.0</td>\n      <td>0.0</td>\n      <td>NaN</td>\n      <td>NaN</td>\n      <td>3090.0</td>\n      <td>10.0</td>\n    </tr>\n    <tr>\n      <th>1</th>\n      <td>4.0</td>\n      <td>NaN</td>\n      <td>38.0</td>\n      <td>1.0</td>\n      <td>1.0</td>\n      <td>0.0</td>\n      <td>NaN</td>\n      <td>NaN</td>\n      <td>2570.0</td>\n      <td>10.0</td>\n    </tr>\n    <tr>\n      <th>2</th>\n      <td>3.0</td>\n      <td>8.0</td>\n      <td>38.0</td>\n      <td>0.0</td>\n      <td>0.0</td>\n      <td>0.0</td>\n      <td>NaN</td>\n      <td>NaN</td>\n      <td>2990.0</td>\n      <td>10.0</td>\n    </tr>\n    <tr>\n      <th>3</th>\n      <td>3.0</td>\n      <td>5.0</td>\n      <td>39.0</td>\n      <td>0.0</td>\n      <td>0.0</td>\n      <td>0.0</td>\n      <td>NaN</td>\n      <td>NaN</td>\n      <td>3670.0</td>\n      <td>10.0</td>\n    </tr>\n    <tr>\n      <th>4</th>\n      <td>4.0</td>\n      <td>10.0</td>\n      <td>39.0</td>\n      <td>0.0</td>\n      <td>0.0</td>\n      <td>0.0</td>\n      <td>NaN</td>\n      <td>NaN</td>\n      <td>3600.0</td>\n      <td>10.0</td>\n    </tr>\n    <tr>\n      <th>5</th>\n      <td>4.0</td>\n      <td>9.0</td>\n      <td>40.0</td>\n      <td>0.0</td>\n      <td>0.0</td>\n      <td>0.0</td>\n      <td>NaN</td>\n      <td>NaN</td>\n      <td>4010.0</td>\n      <td>10.0</td>\n    </tr>\n    <tr>\n      <th>6</th>\n      <td>5.0</td>\n      <td>6.0</td>\n      <td>39.0</td>\n      <td>1.0</td>\n      <td>0.0</td>\n      <td>0.0</td>\n      <td>NaN</td>\n      <td>NaN</td>\n      <td>3500.0</td>\n      <td>7.0</td>\n    </tr>\n    <tr>\n      <th>7</th>\n      <td>4.0</td>\n      <td>5.0</td>\n      <td>39.0</td>\n      <td>0.0</td>\n      <td>0.0</td>\n      <td>0.0</td>\n      <td>NaN</td>\n      <td>NaN</td>\n      <td>3400.0</td>\n      <td>10.0</td>\n    </tr>\n    <tr>\n      <th>8</th>\n      <td>3.0</td>\n      <td>6.0</td>\n      <td>40.0</td>\n      <td>0.0</td>\n      <td>0.0</td>\n      <td>0.0</td>\n      <td>NaN</td>\n      <td>NaN</td>\n      <td>3710.0</td>\n      <td>10.0</td>\n    </tr>\n    <tr>\n      <th>9</th>\n      <td>3.0</td>\n      <td>7.0</td>\n      <td>41.0</td>\n      <td>0.0</td>\n      <td>0.0</td>\n      <td>0.0</td>\n      <td>NaN</td>\n      <td>NaN</td>\n      <td>3650.0</td>\n      <td>7.0</td>\n    </tr>\n    <tr>\n      <th>10</th>\n      <td>4.0</td>\n      <td>0.0</td>\n      <td>38.0</td>\n      <td>0.0</td>\n      <td>0.0</td>\n      <td>0.0</td>\n      <td>NaN</td>\n      <td>NaN</td>\n      <td>3510.0</td>\n      <td>10.0</td>\n    </tr>\n    <tr>\n      <th>11</th>\n      <td>2.0</td>\n      <td>12.0</td>\n      <td>37.0</td>\n      <td>0.0</td>\n      <td>0.0</td>\n      <td>0.0</td>\n      <td>NaN</td>\n      <td>NaN</td>\n      <td>3150.0</td>\n      <td>9.0</td>\n    </tr>\n    <tr>\n      <th>12</th>\n      <td>3.0</td>\n      <td>3.0</td>\n      <td>41.0</td>\n      <td>0.0</td>\n      <td>0.0</td>\n      <td>0.0</td>\n      <td>NaN</td>\n      <td>NaN</td>\n      <td>3570.0</td>\n      <td>9.0</td>\n    </tr>\n    <tr>\n      <th>13</th>\n      <td>4.0</td>\n      <td>0.0</td>\n      <td>34.0</td>\n      <td>0.0</td>\n      <td>0.0</td>\n      <td>0.0</td>\n      <td>NaN</td>\n      <td>NaN</td>\n      <td>2690.0</td>\n      <td>10.0</td>\n    </tr>\n    <tr>\n      <th>14</th>\n      <td>4.0</td>\n      <td>2.0</td>\n      <td>40.0</td>\n      <td>0.0</td>\n      <td>0.0</td>\n      <td>0.0</td>\n      <td>NaN</td>\n      <td>NaN</td>\n      <td>3470.0</td>\n      <td>10.0</td>\n    </tr>\n    <tr>\n      <th>15</th>\n      <td>5.0</td>\n      <td>9.0</td>\n      <td>41.0</td>\n      <td>0.0</td>\n      <td>0.0</td>\n      <td>0.0</td>\n      <td>NaN</td>\n      <td>NaN</td>\n      <td>4260.0</td>\n      <td>10.0</td>\n    </tr>\n    <tr>\n      <th>16</th>\n      <td>3.0</td>\n      <td>1.0</td>\n      <td>23.0</td>\n      <td>0.0</td>\n      <td>0.0</td>\n      <td>0.0</td>\n      <td>NaN</td>\n      <td>NaN</td>\n      <td>550.0</td>\n      <td>1.0</td>\n    </tr>\n    <tr>\n      <th>17</th>\n      <td>3.0</td>\n      <td>10.0</td>\n      <td>40.0</td>\n      <td>0.0</td>\n      <td>0.0</td>\n      <td>0.0</td>\n      <td>NaN</td>\n      <td>NaN</td>\n      <td>3810.0</td>\n      <td>10.0</td>\n    </tr>\n    <tr>\n      <th>18</th>\n      <td>3.0</td>\n      <td>0.0</td>\n      <td>0.0</td>\n      <td>0.0</td>\n      <td>0.0</td>\n      <td>0.0</td>\n      <td>NaN</td>\n      <td>NaN</td>\n      <td>3250.0</td>\n      <td>9.0</td>\n    </tr>\n    <tr>\n      <th>19</th>\n      <td>3.0</td>\n      <td>7.0</td>\n      <td>40.0</td>\n      <td>0.0</td>\n      <td>0.0</td>\n      <td>0.0</td>\n      <td>NaN</td>\n      <td>NaN</td>\n      <td>3690.0</td>\n      <td>10.0</td>\n    </tr>\n    <tr>\n      <th>20</th>\n      <td>4.0</td>\n      <td>7.0</td>\n      <td>39.0</td>\n      <td>0.0</td>\n      <td>0.0</td>\n      <td>0.0</td>\n      <td>NaN</td>\n      <td>NaN</td>\n      <td>4570.0</td>\n      <td>10.0</td>\n    </tr>\n    <tr>\n      <th>21</th>\n      <td>2.0</td>\n      <td>11.0</td>\n      <td>41.0</td>\n      <td>0.0</td>\n      <td>0.0</td>\n      <td>0.0</td>\n      <td>NaN</td>\n      <td>NaN</td>\n      <td>3440.0</td>\n      <td>10.0</td>\n    </tr>\n    <tr>\n      <th>22</th>\n      <td>3.0</td>\n      <td>7.0</td>\n      <td>40.0</td>\n      <td>0.0</td>\n      <td>0.0</td>\n      <td>0.0</td>\n      <td>NaN</td>\n      <td>NaN</td>\n      <td>3350.0</td>\n      <td>10.0</td>\n    </tr>\n    <tr>\n      <th>23</th>\n      <td>4.0</td>\n      <td>5.0</td>\n      <td>40.0</td>\n      <td>0.0</td>\n      <td>0.0</td>\n      <td>0.0</td>\n      <td>NaN</td>\n      <td>NaN</td>\n      <td>3490.0</td>\n      <td>10.0</td>\n    </tr>\n    <tr>\n      <th>24</th>\n      <td>3.0</td>\n      <td>3.0</td>\n      <td>39.0</td>\n      <td>0.0</td>\n      <td>0.0</td>\n      <td>0.0</td>\n      <td>NaN</td>\n      <td>NaN</td>\n      <td>3220.0</td>\n      <td>10.0</td>\n    </tr>\n    <tr>\n      <th>25</th>\n      <td>4.0</td>\n      <td>9.0</td>\n      <td>40.0</td>\n      <td>0.0</td>\n      <td>0.0</td>\n      <td>0.0</td>\n      <td>NaN</td>\n      <td>NaN</td>\n      <td>3930.0</td>\n      <td>10.0</td>\n    </tr>\n    <tr>\n      <th>26</th>\n      <td>2.0</td>\n      <td>7.0</td>\n      <td>40.0</td>\n      <td>0.0</td>\n      <td>0.0</td>\n      <td>0.0</td>\n      <td>NaN</td>\n      <td>NaN</td>\n      <td>3420.0</td>\n      <td>10.0</td>\n    </tr>\n    <tr>\n      <th>27</th>\n      <td>5.0</td>\n      <td>7.0</td>\n      <td>40.0</td>\n      <td>0.0</td>\n      <td>0.0</td>\n      <td>0.0</td>\n      <td>NaN</td>\n      <td>NaN</td>\n      <td>4260.0</td>\n      <td>10.0</td>\n    </tr>\n    <tr>\n      <th>28</th>\n      <td>3.0</td>\n      <td>7.0</td>\n      <td>39.0</td>\n      <td>0.0</td>\n      <td>0.0</td>\n      <td>0.0</td>\n      <td>NaN</td>\n      <td>NaN</td>\n      <td>3760.0</td>\n      <td>10.0</td>\n    </tr>\n    <tr>\n      <th>29</th>\n      <td>5.0</td>\n      <td>6.0</td>\n      <td>40.0</td>\n      <td>0.0</td>\n      <td>0.0</td>\n      <td>0.0</td>\n      <td>NaN</td>\n      <td>NaN</td>\n      <td>3760.0</td>\n      <td>10.0</td>\n    </tr>\n    <tr>\n      <th>30</th>\n      <td>3.0</td>\n      <td>4.0</td>\n      <td>37.0</td>\n      <td>0.0</td>\n      <td>0.0</td>\n      <td>0.0</td>\n      <td>NaN</td>\n      <td>NaN</td>\n      <td>3390.0</td>\n      <td>10.0</td>\n    </tr>\n    <tr>\n      <th>31</th>\n      <td>3.0</td>\n      <td>7.0</td>\n      <td>41.0</td>\n      <td>0.0</td>\n      <td>0.0</td>\n      <td>0.0</td>\n      <td>NaN</td>\n      <td>NaN</td>\n      <td>4190.0</td>\n      <td>10.0</td>\n    </tr>\n    <tr>\n      <th>32</th>\n      <td>2.0</td>\n      <td>0.0</td>\n      <td>37.0</td>\n      <td>0.0</td>\n      <td>0.0</td>\n      <td>0.0</td>\n      <td>NaN</td>\n      <td>NaN</td>\n      <td>3040.0</td>\n      <td>10.0</td>\n    </tr>\n    <tr>\n      <th>33</th>\n      <td>2.0</td>\n      <td>7.0</td>\n      <td>41.0</td>\n      <td>0.0</td>\n      <td>0.0</td>\n      <td>0.0</td>\n      <td>NaN</td>\n      <td>NaN</td>\n      <td>3390.0</td>\n      <td>10.0</td>\n    </tr>\n    <tr>\n      <th>34</th>\n      <td>3.0</td>\n      <td>10.0</td>\n      <td>40.0</td>\n      <td>0.0</td>\n      <td>0.0</td>\n      <td>0.0</td>\n      <td>NaN</td>\n      <td>NaN</td>\n      <td>4010.0</td>\n      <td>10.0</td>\n    </tr>\n    <tr>\n      <th>35</th>\n      <td>4.0</td>\n      <td>3.0</td>\n      <td>36.0</td>\n      <td>1.0</td>\n      <td>0.0</td>\n      <td>0.0</td>\n      <td>NaN</td>\n      <td>NaN</td>\n      <td>2230.0</td>\n      <td>10.0</td>\n    </tr>\n    <tr>\n      <th>36</th>\n      <td>2.0</td>\n      <td>6.0</td>\n      <td>37.0</td>\n      <td>0.0</td>\n      <td>0.0</td>\n      <td>0.0</td>\n      <td>NaN</td>\n      <td>NaN</td>\n      <td>2700.0</td>\n      <td>10.0</td>\n    </tr>\n    <tr>\n      <th>37</th>\n      <td>4.0</td>\n      <td>6.0</td>\n      <td>41.0</td>\n      <td>0.0</td>\n      <td>0.0</td>\n      <td>0.0</td>\n      <td>NaN</td>\n      <td>NaN</td>\n      <td>2970.0</td>\n      <td>10.0</td>\n    </tr>\n    <tr>\n      <th>38</th>\n      <td>1.0</td>\n      <td>7.0</td>\n      <td>37.0</td>\n      <td>0.0</td>\n      <td>0.0</td>\n      <td>0.0</td>\n      <td>NaN</td>\n      <td>NaN</td>\n      <td>3360.0</td>\n      <td>10.0</td>\n    </tr>\n    <tr>\n      <th>39</th>\n      <td>2.0</td>\n      <td>3.0</td>\n      <td>37.0</td>\n      <td>0.0</td>\n      <td>0.0</td>\n      <td>0.0</td>\n      <td>NaN</td>\n      <td>NaN</td>\n      <td>3050.0</td>\n      <td>10.0</td>\n    </tr>\n    <tr>\n      <th>40</th>\n      <td>2.0</td>\n      <td>9.0</td>\n      <td>41.0</td>\n      <td>0.0</td>\n      <td>0.0</td>\n      <td>0.0</td>\n      <td>NaN</td>\n      <td>NaN</td>\n      <td>4780.0</td>\n      <td>10.0</td>\n    </tr>\n    <tr>\n      <th>41</th>\n      <td>2.0</td>\n      <td>5.0</td>\n      <td>41.0</td>\n      <td>0.0</td>\n      <td>0.0</td>\n      <td>0.0</td>\n      <td>NaN</td>\n      <td>NaN</td>\n      <td>3900.0</td>\n      <td>10.0</td>\n    </tr>\n    <tr>\n      <th>42</th>\n      <td>2.0</td>\n      <td>4.0</td>\n      <td>37.0</td>\n      <td>0.0</td>\n      <td>0.0</td>\n      <td>0.0</td>\n      <td>NaN</td>\n      <td>NaN</td>\n      <td>2450.0</td>\n      <td>10.0</td>\n    </tr>\n    <tr>\n      <th>43</th>\n      <td>3.0</td>\n      <td>7.0</td>\n      <td>37.0</td>\n      <td>0.0</td>\n      <td>0.0</td>\n      <td>0.0</td>\n      <td>NaN</td>\n      <td>NaN</td>\n      <td>3070.0</td>\n      <td>10.0</td>\n    </tr>\n    <tr>\n      <th>44</th>\n      <td>2.0</td>\n      <td>6.0</td>\n      <td>39.0</td>\n      <td>0.0</td>\n      <td>0.0</td>\n      <td>0.0</td>\n      <td>NaN</td>\n      <td>NaN</td>\n      <td>3970.0</td>\n      <td>10.0</td>\n    </tr>\n    <tr>\n      <th>45</th>\n      <td>4.0</td>\n      <td>7.0</td>\n      <td>39.0</td>\n      <td>0.0</td>\n      <td>0.0</td>\n      <td>0.0</td>\n      <td>NaN</td>\n      <td>NaN</td>\n      <td>3600.0</td>\n      <td>10.0</td>\n    </tr>\n    <tr>\n      <th>46</th>\n      <td>3.0</td>\n      <td>2.0</td>\n      <td>41.0</td>\n      <td>0.0</td>\n      <td>0.0</td>\n      <td>0.0</td>\n      <td>NaN</td>\n      <td>NaN</td>\n      <td>3360.0</td>\n      <td>9.0</td>\n    </tr>\n    <tr>\n      <th>47</th>\n      <td>2.0</td>\n      <td>6.0</td>\n      <td>41.0</td>\n      <td>0.0</td>\n      <td>0.0</td>\n      <td>0.0</td>\n      <td>NaN</td>\n      <td>NaN</td>\n      <td>3530.0</td>\n      <td>10.0</td>\n    </tr>\n    <tr>\n      <th>48</th>\n      <td>6.0</td>\n      <td>12.0</td>\n      <td>40.0</td>\n      <td>0.0</td>\n      <td>0.0</td>\n      <td>0.0</td>\n      <td>NaN</td>\n      <td>NaN</td>\n      <td>4090.0</td>\n      <td>9.0</td>\n    </tr>\n    <tr>\n      <th>49</th>\n      <td>5.0</td>\n      <td>8.0</td>\n      <td>39.0</td>\n      <td>0.0</td>\n      <td>0.0</td>\n      <td>0.0</td>\n      <td>NaN</td>\n      <td>NaN</td>\n      <td>3520.0</td>\n      <td>10.0</td>\n    </tr>\n  </tbody>\n</table>\n</div>"
     },
     "execution_count": 13,
     "metadata": {},
     "output_type": "execute_result"
    }
   ],
   "source": [
    "sip_varsdef_df.head(50)"
   ],
   "metadata": {
    "collapsed": false,
    "ExecuteTime": {
     "end_time": "2023-11-30T14:01:57.371907200Z",
     "start_time": "2023-11-30T14:01:57.364135700Z"
    }
   },
   "id": "1f370b6f28102f6"
  },
  {
   "cell_type": "code",
   "execution_count": 12,
   "outputs": [
    {
     "data": {
      "text/plain": "(214197, 10)"
     },
     "execution_count": 12,
     "metadata": {},
     "output_type": "execute_result"
    }
   ],
   "source": [
    "sip_varsdef_df.shape"
   ],
   "metadata": {
    "collapsed": false,
    "ExecuteTime": {
     "end_time": "2023-11-29T23:40:55.073934300Z",
     "start_time": "2023-11-29T23:40:55.065018600Z"
    }
   },
   "id": "e9da3f4e23684fd3"
  },
  {
   "cell_type": "code",
   "execution_count": 14,
   "outputs": [
    {
     "data": {
      "text/plain": "Index(['VAR_0009', 'VAR_0185', 'VAR_0198', 'VAR_0258', 'VAR_0260', 'VAR_0261',\n       'VAR_0266', 'VAR_0267', 'VAR_0311', 'VAR_0322'],\n      dtype='object')"
     },
     "execution_count": 14,
     "metadata": {},
     "output_type": "execute_result"
    }
   ],
   "source": [
    "sip_varsdef_df.columns"
   ],
   "metadata": {
    "collapsed": false,
    "ExecuteTime": {
     "end_time": "2023-11-29T23:41:27.665026900Z",
     "start_time": "2023-11-29T23:41:27.654367300Z"
    }
   },
   "id": "813c8fd5312c3fa8"
  },
  {
   "cell_type": "code",
   "execution_count": null,
   "outputs": [],
   "source": [
    "#sip_varsdef_df.to_csv('sip_varsdef.csv')"
   ],
   "metadata": {
    "collapsed": false,
    "is_executing": true
   },
   "id": "10c16998b26f64cc"
  },
  {
   "cell_type": "markdown",
   "source": [
    "## Limpieza de datos"
   ],
   "metadata": {
    "collapsed": false
   },
   "id": "3f5a60fdc46f1f3b"
  },
  {
   "cell_type": "markdown",
   "source": [
    "### Eliminacion de variables con gran cantidad de valores nulos"
   ],
   "metadata": {
    "collapsed": false
   },
   "id": "bd3533ce73cca50c"
  },
  {
   "cell_type": "code",
   "execution_count": 56,
   "outputs": [
    {
     "name": "stdout",
     "output_type": "stream",
     "text": [
      "<class 'pandas.core.frame.DataFrame'>\n",
      "RangeIndex: 214197 entries, 0 to 214196\n",
      "Data columns (total 10 columns):\n",
      " #   Column    Non-Null Count   Dtype  \n",
      "---  ------    --------------   -----  \n",
      " 0   VAR_0009  214163 non-null  float64\n",
      " 1   VAR_0185  197516 non-null  float64\n",
      " 2   VAR_0198  213956 non-null  float64\n",
      " 3   VAR_0258  162039 non-null  float64\n",
      " 4   VAR_0260  135755 non-null  float64\n",
      " 5   VAR_0261  135220 non-null  float64\n",
      " 6   VAR_0266  28780 non-null   float64\n",
      " 7   VAR_0267  29172 non-null   float64\n",
      " 8   VAR_0311  214191 non-null  float64\n",
      " 9   VAR_0322  214128 non-null  float64\n",
      "dtypes: float64(10)\n",
      "memory usage: 16.3 MB\n"
     ]
    }
   ],
   "source": [
    "### Identificación de valores nulos\n",
    "sip_varsdef_df.info()\n"
   ],
   "metadata": {
    "collapsed": false,
    "ExecuteTime": {
     "end_time": "2023-11-29T21:19:28.973290500Z",
     "start_time": "2023-11-29T21:19:28.963971800Z"
    }
   },
   "id": "e3f4906ab147b361"
  },
  {
   "cell_type": "code",
   "execution_count": 21,
   "outputs": [
    {
     "data": {
      "text/plain": "VAR_0266    86.564\nVAR_0267    86.381\nVAR_0261    36.871\nVAR_0260    36.621\nVAR_0258    24.350\nVAR_0185     7.788\nVAR_0198     0.113\nVAR_0322     0.032\nVAR_0009     0.016\nVAR_0311     0.003\ndtype: float64"
     },
     "execution_count": 21,
     "metadata": {},
     "output_type": "execute_result"
    }
   ],
   "source": [
    "# Porcentaje de valores nulos de las variables elegidas \n",
    "(sip_varsdef_df.isnull().sum()/len(sip_varsdef_df)*100).sort_values(ascending=False).round(3)"
   ],
   "metadata": {
    "collapsed": false,
    "ExecuteTime": {
     "end_time": "2023-11-30T01:31:07.200840200Z",
     "start_time": "2023-11-30T01:31:07.191396500Z"
    }
   },
   "id": "40f82ef559ade031"
  },
  {
   "cell_type": "code",
   "execution_count": 20,
   "outputs": [
    {
     "data": {
      "text/plain": "VAR_0266    185417\nVAR_0267    185025\nVAR_0261     78977\nVAR_0260     78442\nVAR_0258     52158\nVAR_0185     16681\nVAR_0198       241\nVAR_0322        69\nVAR_0009        34\nVAR_0311         6\ndtype: int64"
     },
     "execution_count": 20,
     "metadata": {},
     "output_type": "execute_result"
    }
   ],
   "source": [
    "#Cantidad de valores null\n",
    "sip_varsdef_df.isna().sum().sort_values(ascending=False)"
   ],
   "metadata": {
    "collapsed": false,
    "ExecuteTime": {
     "end_time": "2023-11-30T01:27:46.803982300Z",
     "start_time": "2023-11-30T01:27:46.793563700Z"
    }
   },
   "id": "ccec4f84ba4aef60"
  },
  {
   "cell_type": "code",
   "execution_count": 26,
   "outputs": [],
   "source": [
    "#Creación de una copia del dataset para realizar modificaciones\n",
    "sip_varsdef_df_c=sip_varsdef_df.copy()"
   ],
   "metadata": {
    "collapsed": false,
    "ExecuteTime": {
     "end_time": "2023-11-30T14:07:37.932113Z",
     "start_time": "2023-11-30T14:07:37.923737700Z"
    }
   },
   "id": "7dc9a32e45ccb615"
  },
  {
   "cell_type": "code",
   "execution_count": 24,
   "outputs": [],
   "source": [
    "#Eliminación de las variables 'VAR_0266' y 'VAR_0267' por su alto nivel de datos nulos \n",
    "sip_varsdef_df_c.drop(['VAR_0266', 'VAR_0267'], axis=1, inplace=True)   "
   ],
   "metadata": {
    "collapsed": false,
    "ExecuteTime": {
     "end_time": "2023-11-30T01:39:16.216828500Z",
     "start_time": "2023-11-30T01:39:16.214820800Z"
    }
   },
   "id": "2a209b14b1356185"
  },
  {
   "cell_type": "code",
   "execution_count": 25,
   "outputs": [
    {
     "data": {
      "text/plain": "Index(['VAR_0009', 'VAR_0185', 'VAR_0198', 'VAR_0258', 'VAR_0260', 'VAR_0261',\n       'VAR_0311', 'VAR_0322'],\n      dtype='object')"
     },
     "execution_count": 25,
     "metadata": {},
     "output_type": "execute_result"
    }
   ],
   "source": [
    "sip_varsdef_df_c.columns"
   ],
   "metadata": {
    "collapsed": false,
    "ExecuteTime": {
     "end_time": "2023-11-30T01:40:14.941823300Z",
     "start_time": "2023-11-30T01:40:14.931220700Z"
    }
   },
   "id": "2d932c623b2f98fc"
  },
  {
   "cell_type": "markdown",
   "source": [
    "#### Analisis contenido de Variables"
   ],
   "metadata": {
    "collapsed": false
   },
   "id": "1685cdfb85bbe87d"
  },
  {
   "cell_type": "markdown",
   "source": [
    "##### Analisis de valores unicos por variable"
   ],
   "metadata": {
    "collapsed": false
   },
   "id": "79ff776cb31d18"
  },
  {
   "cell_type": "code",
   "execution_count": 46,
   "outputs": [
    {
     "data": {
      "text/plain": "array([ 4.,  3.,  5.,  2.,  1.,  6.,  7.,  8., nan])"
     },
     "execution_count": 46,
     "metadata": {},
     "output_type": "execute_result"
    }
   ],
   "source": [
    "#Valores unicos\n",
    "sip_varsdef_df_c['VAR_0009'].unique()"
   ],
   "metadata": {
    "collapsed": false,
    "ExecuteTime": {
     "end_time": "2023-11-30T02:04:54.348569300Z",
     "start_time": "2023-11-30T02:04:54.336532800Z"
    }
   },
   "id": "9546f3d89bbc148d"
  },
  {
   "cell_type": "code",
   "execution_count": 48,
   "outputs": [
    {
     "data": {
      "text/plain": "array([39., 38., 40., 41., 37., 34., 23.,  0., 36., 35., 26., 43., 29.,\n       31., 33., 42., 25., 21., 24., 32., 30., 20., 28., 22., 27., 16.,\n       10., 11., 18.,  9.,  3., 19.,  1., 44.,  2., 12.,  8., 14., 15.,\n       17.,  7.,  6.,  4.,  5., 13., nan, 98., 65.])"
     },
     "execution_count": 48,
     "metadata": {},
     "output_type": "execute_result"
    }
   ],
   "source": [
    "sip_varsdef_df_c['VAR_0198'].unique()"
   ],
   "metadata": {
    "collapsed": false,
    "ExecuteTime": {
     "end_time": "2023-11-30T02:05:28.838050200Z",
     "start_time": "2023-11-30T02:05:28.829031Z"
    }
   },
   "id": "9bf7bc7b85238f67"
  },
  {
   "cell_type": "code",
   "execution_count": 49,
   "outputs": [
    {
     "data": {
      "text/plain": "array([10.,  7.,  9.,  1.,  8.,  2.,  0.,  6.,  4.,  3.,  5., nan, -1.])"
     },
     "execution_count": 49,
     "metadata": {},
     "output_type": "execute_result"
    }
   ],
   "source": [
    "sip_varsdef_df_c['VAR_0322'].unique()"
   ],
   "metadata": {
    "collapsed": false,
    "ExecuteTime": {
     "end_time": "2023-11-30T02:06:18.607316Z",
     "start_time": "2023-11-30T02:06:18.600290300Z"
    }
   },
   "id": "4ae876e2b587d1ca"
  },
  {
   "cell_type": "code",
   "execution_count": 50,
   "outputs": [
    {
     "data": {
      "text/plain": "array([ 0.,  1., nan])"
     },
     "execution_count": 50,
     "metadata": {},
     "output_type": "execute_result"
    }
   ],
   "source": [
    "sip_varsdef_df_c['VAR_0258'].unique()"
   ],
   "metadata": {
    "collapsed": false,
    "ExecuteTime": {
     "end_time": "2023-11-30T02:07:47.851831800Z",
     "start_time": "2023-11-30T02:07:47.839969200Z"
    }
   },
   "id": "b850cefb164fdd9c"
  },
  {
   "cell_type": "code",
   "execution_count": 51,
   "outputs": [
    {
     "data": {
      "text/plain": "array([ 0.,  1., nan])"
     },
     "execution_count": 51,
     "metadata": {},
     "output_type": "execute_result"
    }
   ],
   "source": [
    "sip_varsdef_df_c['VAR_0260'].unique()"
   ],
   "metadata": {
    "collapsed": false,
    "ExecuteTime": {
     "end_time": "2023-11-30T02:08:02.932230400Z",
     "start_time": "2023-11-30T02:08:02.923681900Z"
    }
   },
   "id": "2462d00906dfd6ae"
  },
  {
   "cell_type": "code",
   "execution_count": 52,
   "outputs": [
    {
     "data": {
      "text/plain": "array([ 0.,  1., nan])"
     },
     "execution_count": 52,
     "metadata": {},
     "output_type": "execute_result"
    }
   ],
   "source": [
    "sip_varsdef_df_c['VAR_0261'].unique()"
   ],
   "metadata": {
    "collapsed": false,
    "ExecuteTime": {
     "end_time": "2023-11-30T02:08:15.616905300Z",
     "start_time": "2023-11-30T02:08:15.608395800Z"
    }
   },
   "id": "ffd8fd9af520c427"
  },
  {
   "cell_type": "markdown",
   "source": [
    "##### cuantificacion de las categorias por variable"
   ],
   "metadata": {
    "collapsed": false
   },
   "id": "2ab383cfc86ec0b6"
  },
  {
   "cell_type": "code",
   "execution_count": 31,
   "outputs": [
    {
     "data": {
      "text/plain": "VAR_0009\n3.0    63288\n4.0    56720\n5.0    37059\n2.0    28891\n6.0    19688\n7.0     5980\n1.0     2253\n8.0      284\nName: count, dtype: int64"
     },
     "execution_count": 31,
     "metadata": {},
     "output_type": "execute_result"
    }
   ],
   "source": [
    "sip_varsdef_df_c['VAR_0009'].value_counts().sort_values(ascending=False).to_clipboard()\n",
    "sip_varsdef_df_c['VAR_0009'].value_counts().sort_values(ascending=False)"
   ],
   "metadata": {
    "collapsed": false,
    "ExecuteTime": {
     "end_time": "2023-11-30T14:15:35.929451800Z",
     "start_time": "2023-11-30T14:15:35.612959100Z"
    }
   },
   "id": "30c0ec96b0eac4e1"
  },
  {
   "cell_type": "code",
   "execution_count": 27,
   "outputs": [
    {
     "data": {
      "text/plain": "count    197516.000000\nmean          6.055788\nstd           2.954832\nmin           0.000000\n25%           4.000000\n50%           6.000000\n75%           8.000000\nmax          80.000000\nName: VAR_0185, dtype: float64"
     },
     "execution_count": 27,
     "metadata": {},
     "output_type": "execute_result"
    }
   ],
   "source": [
    "sip_varsdef_df_c['VAR_0185'].describe().to_clipboard()\n",
    "sip_varsdef_df_c['VAR_0185'].describe()"
   ],
   "metadata": {
    "collapsed": false,
    "ExecuteTime": {
     "end_time": "2023-11-30T14:08:26.429699400Z",
     "start_time": "2023-11-30T14:08:26.356506800Z"
    }
   },
   "id": "debcdff0b060ffe0"
  },
  {
   "cell_type": "code",
   "execution_count": 32,
   "outputs": [
    {
     "data": {
      "text/plain": "VAR_0198\n39.0    56872\n38.0    45778\n40.0    41010\n37.0    21251\n41.0    13401\n0.0     11004\n36.0     8519\n35.0     4454\n34.0     2978\n33.0     1696\n32.0     1180\n31.0      814\n30.0      734\n42.0      501\n29.0      465\n28.0      458\n27.0      353\n26.0      287\n25.0      280\n24.0      225\n10.0      176\n8.0       166\n6.0       164\n23.0      160\n22.0      113\n9.0        94\n7.0        91\n20.0       90\n21.0       67\n12.0       65\n5.0        61\n14.0       51\n11.0       50\n15.0       49\n13.0       48\n16.0       47\n17.0       46\n18.0       46\n19.0       41\n43.0       40\n4.0        10\n44.0        8\n3.0         7\n2.0         3\n1.0         1\n98.0        1\n65.0        1\nName: count, dtype: int64"
     },
     "execution_count": 32,
     "metadata": {},
     "output_type": "execute_result"
    }
   ],
   "source": [
    "sip_varsdef_df_c['VAR_0198'].value_counts().sort_values(ascending=False).to_clipboard()\n",
    "sip_varsdef_df_c['VAR_0198'].value_counts().sort_values(ascending=False)"
   ],
   "metadata": {
    "collapsed": false,
    "ExecuteTime": {
     "end_time": "2023-11-30T14:16:13.510142800Z",
     "start_time": "2023-11-30T14:16:13.443969400Z"
    }
   },
   "id": "42ef7ba0367a0917"
  },
  {
   "cell_type": "code",
   "execution_count": 33,
   "outputs": [
    {
     "data": {
      "text/plain": "count    214191.000000\nmean       3238.672045\nstd         678.877600\nmin           0.000000\n25%        2970.000000\n50%        3310.000000\n75%        3640.000000\nmax        6090.000000\nName: VAR_0311, dtype: float64"
     },
     "execution_count": 33,
     "metadata": {},
     "output_type": "execute_result"
    }
   ],
   "source": [
    "sip_varsdef_df_c['VAR_0311'].describe().to_clipboard()\n",
    "sip_varsdef_df_c['VAR_0311'].describe()"
   ],
   "metadata": {
    "collapsed": false,
    "ExecuteTime": {
     "end_time": "2023-11-30T14:17:04.438477100Z",
     "start_time": "2023-11-30T14:17:04.360436900Z"
    }
   },
   "id": "a47338a61c2e81e3"
  },
  {
   "cell_type": "code",
   "execution_count": 72,
   "outputs": [
    {
     "data": {
      "text/plain": "VAR_0311\n3400.0    2728\n3200.0    2688\n3300.0    2687\n3500.0    2673\n3100.0    2471\n          ... \n1318.0       1\n1714.0       1\n1982.0       1\n1947.0       1\n5135.0       1\nName: count, Length: 3114, dtype: int64"
     },
     "execution_count": 72,
     "metadata": {},
     "output_type": "execute_result"
    }
   ],
   "source": [
    "sip_varsdef_df_c['VAR_0311'].value_counts().sort_values(ascending=False).to_clipboard()\n",
    "sip_varsdef_df_c['VAR_0311'].value_counts().sort_values(ascending=False)"
   ],
   "metadata": {
    "collapsed": false,
    "ExecuteTime": {
     "end_time": "2023-11-30T15:12:57.369956200Z",
     "start_time": "2023-11-30T15:12:57.294975200Z"
    }
   },
   "id": "f910b2ca676b6e13"
  },
  {
   "cell_type": "code",
   "execution_count": 34,
   "outputs": [
    {
     "data": {
      "text/plain": "VAR_0322\n 10.0    100607\n 9.0      90936\n 8.0      10612\n 0.0       8195\n 7.0       2264\n 6.0        529\n 5.0        420\n 4.0        188\n 1.0        155\n 3.0        119\n 2.0         74\n-1.0         29\nName: count, dtype: int64"
     },
     "execution_count": 34,
     "metadata": {},
     "output_type": "execute_result"
    }
   ],
   "source": [
    "sip_varsdef_df_c['VAR_0322'].value_counts().sort_values(ascending=False).to_clipboard()\n",
    "sip_varsdef_df_c['VAR_0322'].value_counts().sort_values(ascending=False)"
   ],
   "metadata": {
    "collapsed": false,
    "ExecuteTime": {
     "end_time": "2023-11-30T14:17:29.522331200Z",
     "start_time": "2023-11-30T14:17:29.404068500Z"
    }
   },
   "id": "caccc9ba31fa269d"
  },
  {
   "cell_type": "code",
   "execution_count": 64,
   "outputs": [
    {
     "data": {
      "text/plain": "VAR_0258\n0.0    150259\n1.0     11780\nName: count, dtype: int64"
     },
     "execution_count": 64,
     "metadata": {},
     "output_type": "execute_result"
    }
   ],
   "source": [
    "sip_varsdef_df_c['VAR_0258'].value_counts().sort_values(ascending=False)"
   ],
   "metadata": {
    "collapsed": false,
    "ExecuteTime": {
     "end_time": "2023-11-30T02:17:44.363266300Z",
     "start_time": "2023-11-30T02:17:44.348449800Z"
    }
   },
   "id": "6296cc7360bc1c9f"
  },
  {
   "cell_type": "code",
   "execution_count": 65,
   "outputs": [
    {
     "data": {
      "text/plain": "VAR_0260\n0.0    132423\n1.0      3332\nName: count, dtype: int64"
     },
     "execution_count": 65,
     "metadata": {},
     "output_type": "execute_result"
    }
   ],
   "source": [
    "sip_varsdef_df_c['VAR_0260'].value_counts().sort_values(ascending=False)"
   ],
   "metadata": {
    "collapsed": false,
    "ExecuteTime": {
     "end_time": "2023-11-30T02:18:27.434268400Z",
     "start_time": "2023-11-30T02:18:27.425359500Z"
    }
   },
   "id": "ce1ed32745301d10"
  },
  {
   "cell_type": "code",
   "execution_count": 66,
   "outputs": [
    {
     "data": {
      "text/plain": "VAR_0261\n0.0    134832\n1.0       388\nName: count, dtype: int64"
     },
     "execution_count": 66,
     "metadata": {},
     "output_type": "execute_result"
    }
   ],
   "source": [
    "sip_varsdef_df_c['VAR_0261'].value_counts().sort_values(ascending=False)"
   ],
   "metadata": {
    "collapsed": false,
    "ExecuteTime": {
     "end_time": "2023-11-30T02:18:52.698183400Z",
     "start_time": "2023-11-30T02:18:52.671646200Z"
    }
   },
   "id": "bc78a5fcf2002ac2"
  },
  {
   "cell_type": "markdown",
   "source": [
    "### Análisis y modificacion de tipos de dato de las variables\n",
    "VAR_0009\tGrupo de edad materna\t    -variable categórica\n",
    "VAR_0185\tConsultas prenatales\t    -variable numérica\n",
    "VAR_0198\tEdad gestacional al parto\t-variable numérica\n",
    "VAR_0258\tTrastornos hipertensivos\t-variable binaria\n",
    "VAR_0260\tPreeclampsia\t            -variable binaria\n",
    "VAR_0261\tEclampsia\t                -variable binaria\n",
    "VAR_0311\tPeso al nacer\t            -variable numérica\n",
    "VAR_0322\tApgar 5to. Minuto\t        -variable numérica"
   ],
   "metadata": {
    "collapsed": false
   },
   "id": "1820dae9ec08ef1c"
  },
  {
   "cell_type": "code",
   "execution_count": 67,
   "outputs": [],
   "source": [
    "#Conversion de data 'float' a 'int'\n",
    "sip_varsdef_df_c['VAR_0009'] =sip_varsdef_df_c['VAR_0009'].astype(pd.Int64Dtype())\n",
    "sip_varsdef_df_c['VAR_0185'] =sip_varsdef_df_c['VAR_0185'].astype(pd.Int64Dtype())\n",
    "sip_varsdef_df_c['VAR_0198'] =sip_varsdef_df_c['VAR_0198'].astype(pd.Int64Dtype())\n",
    "sip_varsdef_df_c['VAR_0322'] =sip_varsdef_df_c['VAR_0322'].astype(pd.Int64Dtype())\n"
   ],
   "metadata": {
    "collapsed": false,
    "ExecuteTime": {
     "end_time": "2023-11-30T02:23:13.233055600Z",
     "start_time": "2023-11-30T02:23:13.196998600Z"
    }
   },
   "id": "a3fbf8c28e00ebea"
  },
  {
   "cell_type": "code",
   "execution_count": 72,
   "outputs": [],
   "source": [
    "#Conversion de data 'float' a 'bool'\n",
    "sip_varsdef_df_c['VAR_0258'] =sip_varsdef_df_c['VAR_0258'].astype(bool)\n",
    "sip_varsdef_df_c['VAR_0260'] =sip_varsdef_df_c['VAR_0260'].astype(bool)\n",
    "sip_varsdef_df_c['VAR_0261'] =sip_varsdef_df_c['VAR_0261'].astype(bool)"
   ],
   "metadata": {
    "collapsed": false,
    "ExecuteTime": {
     "end_time": "2023-11-30T02:26:49.703985Z",
     "start_time": "2023-11-30T02:26:49.695700200Z"
    }
   },
   "id": "7d1ff964d2109ffc"
  },
  {
   "cell_type": "code",
   "execution_count": 75,
   "outputs": [
    {
     "data": {
      "text/plain": "VAR_0009      Int64\nVAR_0185      Int64\nVAR_0198      Int64\nVAR_0258       bool\nVAR_0260       bool\nVAR_0261       bool\nVAR_0311    float64\nVAR_0322      Int64\ndtype: object"
     },
     "execution_count": 75,
     "metadata": {},
     "output_type": "execute_result"
    }
   ],
   "source": [
    "sip_varsdef_df_c.dtypes"
   ],
   "metadata": {
    "collapsed": false,
    "ExecuteTime": {
     "end_time": "2023-11-30T02:27:06.182327Z",
     "start_time": "2023-11-30T02:27:06.162064700Z"
    }
   },
   "id": "a53af299de30399f"
  },
  {
   "cell_type": "code",
   "execution_count": 68,
   "outputs": [
    {
     "data": {
      "text/plain": "VAR_0009      Int64\nVAR_0185      Int64\nVAR_0198      Int64\nVAR_0258    float64\nVAR_0260    float64\nVAR_0261    float64\nVAR_0311    float64\nVAR_0322      Int64\ndtype: object"
     },
     "execution_count": 68,
     "metadata": {},
     "output_type": "execute_result"
    }
   ],
   "source": [
    "sip_varsdef_df_c.dtypes"
   ],
   "metadata": {
    "collapsed": false,
    "ExecuteTime": {
     "end_time": "2023-11-30T02:23:23.122159500Z",
     "start_time": "2023-11-30T02:23:23.111476800Z"
    }
   },
   "id": "d94e5d03459360fe"
  },
  {
   "cell_type": "markdown",
   "source": [
    "#### Analisis de valores Null y otros"
   ],
   "metadata": {
    "collapsed": false
   },
   "id": "2ba5d969f6c76ab1"
  },
  {
   "cell_type": "code",
   "execution_count": 78,
   "outputs": [
    {
     "data": {
      "text/plain": "VAR_0185    16681\nVAR_0198      241\nVAR_0322       69\nVAR_0009       34\nVAR_0311        6\nVAR_0258        0\nVAR_0260        0\nVAR_0261        0\ndtype: int64"
     },
     "execution_count": 78,
     "metadata": {},
     "output_type": "execute_result"
    }
   ],
   "source": [
    "sip_varsdef_df_c.isna().sum().sort_values(ascending=False)"
   ],
   "metadata": {
    "collapsed": false,
    "ExecuteTime": {
     "end_time": "2023-11-30T02:32:29.755706300Z",
     "start_time": "2023-11-30T02:32:29.749086500Z"
    }
   },
   "id": "c738b33db7dca39d"
  },
  {
   "cell_type": "code",
   "execution_count": 80,
   "outputs": [
    {
     "data": {
      "text/plain": "<IntegerArray>\n[   9, <NA>,    8,    5,   10,    6,    7,    0,   12,    3,    2,    1,   11,\n    4,   13,   15,   14,   18,   16,   19,   17,   20,   50,   80,   21,   30,\n   22,   23,   29,   25,   24,   27,   32,   53,   26,   34,   28,   60]\nLength: 38, dtype: Int64"
     },
     "execution_count": 80,
     "metadata": {},
     "output_type": "execute_result"
    }
   ],
   "source": [
    "sip_varsdef_df_c['VAR_0185'].unique()"
   ],
   "metadata": {
    "collapsed": false,
    "ExecuteTime": {
     "end_time": "2023-11-30T02:36:37.162551600Z",
     "start_time": "2023-11-30T02:36:37.153114400Z"
    }
   },
   "id": "107083560def91c5"
  },
  {
   "cell_type": "code",
   "execution_count": 79,
   "outputs": [
    {
     "data": {
      "text/plain": "        VAR_0009  VAR_0185  VAR_0198  VAR_0258  VAR_0260  VAR_0261  VAR_0311   \n1              4      <NA>        38      True      True     False    2570.0  \\\n75             6      <NA>        40     False     False     False    3300.0   \n78             6      <NA>        38      True     False     False    3520.0   \n83             6      <NA>        40     False     False     False    3250.0   \n93             6      <NA>        40     False     False     False    3120.0   \n...          ...       ...       ...       ...       ...       ...       ...   \n209740         4      <NA>        16      True      True      True      60.0   \n210328         4      <NA>        20      True     False     False     340.0   \n210380         4      <NA>        17      True      True      True     145.0   \n212744         3      <NA>        15      True      True      True      55.0   \n213171         3      <NA>        20     False     False     False     350.0   \n\n        VAR_0322  \n1             10  \n75            10  \n78            10  \n83            10  \n93            10  \n...          ...  \n209740         0  \n210328         1  \n210380        -1  \n212744         0  \n213171        -1  \n\n[16681 rows x 8 columns]",
      "text/html": "<div>\n<style scoped>\n    .dataframe tbody tr th:only-of-type {\n        vertical-align: middle;\n    }\n\n    .dataframe tbody tr th {\n        vertical-align: top;\n    }\n\n    .dataframe thead th {\n        text-align: right;\n    }\n</style>\n<table border=\"1\" class=\"dataframe\">\n  <thead>\n    <tr style=\"text-align: right;\">\n      <th></th>\n      <th>VAR_0009</th>\n      <th>VAR_0185</th>\n      <th>VAR_0198</th>\n      <th>VAR_0258</th>\n      <th>VAR_0260</th>\n      <th>VAR_0261</th>\n      <th>VAR_0311</th>\n      <th>VAR_0322</th>\n    </tr>\n  </thead>\n  <tbody>\n    <tr>\n      <th>1</th>\n      <td>4</td>\n      <td>&lt;NA&gt;</td>\n      <td>38</td>\n      <td>True</td>\n      <td>True</td>\n      <td>False</td>\n      <td>2570.0</td>\n      <td>10</td>\n    </tr>\n    <tr>\n      <th>75</th>\n      <td>6</td>\n      <td>&lt;NA&gt;</td>\n      <td>40</td>\n      <td>False</td>\n      <td>False</td>\n      <td>False</td>\n      <td>3300.0</td>\n      <td>10</td>\n    </tr>\n    <tr>\n      <th>78</th>\n      <td>6</td>\n      <td>&lt;NA&gt;</td>\n      <td>38</td>\n      <td>True</td>\n      <td>False</td>\n      <td>False</td>\n      <td>3520.0</td>\n      <td>10</td>\n    </tr>\n    <tr>\n      <th>83</th>\n      <td>6</td>\n      <td>&lt;NA&gt;</td>\n      <td>40</td>\n      <td>False</td>\n      <td>False</td>\n      <td>False</td>\n      <td>3250.0</td>\n      <td>10</td>\n    </tr>\n    <tr>\n      <th>93</th>\n      <td>6</td>\n      <td>&lt;NA&gt;</td>\n      <td>40</td>\n      <td>False</td>\n      <td>False</td>\n      <td>False</td>\n      <td>3120.0</td>\n      <td>10</td>\n    </tr>\n    <tr>\n      <th>...</th>\n      <td>...</td>\n      <td>...</td>\n      <td>...</td>\n      <td>...</td>\n      <td>...</td>\n      <td>...</td>\n      <td>...</td>\n      <td>...</td>\n    </tr>\n    <tr>\n      <th>209740</th>\n      <td>4</td>\n      <td>&lt;NA&gt;</td>\n      <td>16</td>\n      <td>True</td>\n      <td>True</td>\n      <td>True</td>\n      <td>60.0</td>\n      <td>0</td>\n    </tr>\n    <tr>\n      <th>210328</th>\n      <td>4</td>\n      <td>&lt;NA&gt;</td>\n      <td>20</td>\n      <td>True</td>\n      <td>False</td>\n      <td>False</td>\n      <td>340.0</td>\n      <td>1</td>\n    </tr>\n    <tr>\n      <th>210380</th>\n      <td>4</td>\n      <td>&lt;NA&gt;</td>\n      <td>17</td>\n      <td>True</td>\n      <td>True</td>\n      <td>True</td>\n      <td>145.0</td>\n      <td>-1</td>\n    </tr>\n    <tr>\n      <th>212744</th>\n      <td>3</td>\n      <td>&lt;NA&gt;</td>\n      <td>15</td>\n      <td>True</td>\n      <td>True</td>\n      <td>True</td>\n      <td>55.0</td>\n      <td>0</td>\n    </tr>\n    <tr>\n      <th>213171</th>\n      <td>3</td>\n      <td>&lt;NA&gt;</td>\n      <td>20</td>\n      <td>False</td>\n      <td>False</td>\n      <td>False</td>\n      <td>350.0</td>\n      <td>-1</td>\n    </tr>\n  </tbody>\n</table>\n<p>16681 rows × 8 columns</p>\n</div>"
     },
     "execution_count": 79,
     "metadata": {},
     "output_type": "execute_result"
    }
   ],
   "source": [
    "sip_varsdef_df_c.loc[sip_varsdef_df_c['VAR_0185'].isna(),:]"
   ],
   "metadata": {
    "collapsed": false,
    "ExecuteTime": {
     "end_time": "2023-11-30T02:35:00.404092500Z",
     "start_time": "2023-11-30T02:35:00.388476Z"
    }
   },
   "id": "35817d27fc7841ea"
  },
  {
   "cell_type": "code",
   "execution_count": 81,
   "outputs": [
    {
     "data": {
      "text/plain": "214177    1\n214178    4\n214179    1\n214180    1\n214181    3\n214182    2\n214183    1\n214184    1\n214185    4\n214186    5\n214187    1\n214188    1\n214189    1\n214190    3\n214191    5\n214192    8\n214193    4\n214194    4\n214195    4\n214196    4\nName: VAR_0185, dtype: Int64"
     },
     "execution_count": 81,
     "metadata": {},
     "output_type": "execute_result"
    }
   ],
   "source": [
    "sip_varsdef_df_c['VAR_0185'].tail(20)"
   ],
   "metadata": {
    "collapsed": false,
    "ExecuteTime": {
     "end_time": "2023-11-30T02:38:59.054529600Z",
     "start_time": "2023-11-30T02:38:59.045531500Z"
    }
   },
   "id": "aec741b4b194d04"
  },
  {
   "cell_type": "code",
   "execution_count": 82,
   "outputs": [
    {
     "data": {
      "text/plain": "0        9\n1     <NA>\n2        8\n3        5\n4       10\n5        9\n6        6\n7        5\n8        6\n9        7\n10       0\n11      12\n12       3\n13       0\n14       2\n15       9\n16       1\n17      10\n18       0\n19       7\nName: VAR_0185, dtype: Int64"
     },
     "execution_count": 82,
     "metadata": {},
     "output_type": "execute_result"
    }
   ],
   "source": [
    "sip_varsdef_df_c['VAR_0185'].head(20)"
   ],
   "metadata": {
    "collapsed": false,
    "ExecuteTime": {
     "end_time": "2023-11-30T02:39:15.827902400Z",
     "start_time": "2023-11-30T02:39:15.819170800Z"
    }
   },
   "id": "5965f6e5fda30aa9"
  },
  {
   "cell_type": "markdown",
   "source": [
    "### Exportar el dataframe modificado a un archivo .csv"
   ],
   "metadata": {
    "collapsed": false
   },
   "id": "f69b2bdbac95316d"
  },
  {
   "cell_type": "code",
   "execution_count": 84,
   "outputs": [],
   "source": [
    "sip_varsdef_df_c.to_csv('sip_varsdef_df_c.csv')"
   ],
   "metadata": {
    "collapsed": false,
    "ExecuteTime": {
     "end_time": "2023-11-30T02:44:06.808363200Z",
     "start_time": "2023-11-30T02:44:06.388942700Z"
    }
   },
   "id": "1c04c18f823b9408"
  },
  {
   "cell_type": "markdown",
   "source": [
    "## MODELO"
   ],
   "metadata": {
    "collapsed": false
   },
   "id": "6c072bf281f3bc97"
  },
  {
   "cell_type": "code",
   "execution_count": 76,
   "outputs": [],
   "source": [
    "#Importamos librerias relevantes\n",
    "import numpy as np\n",
    "import matplotlib.pyplot as plt\n",
    "import seaborn as sns"
   ],
   "metadata": {
    "collapsed": false,
    "ExecuteTime": {
     "end_time": "2023-11-30T15:21:50.976887100Z",
     "start_time": "2023-11-30T15:21:50.971864700Z"
    }
   },
   "id": "2e51d98aab8cd98"
  },
  {
   "cell_type": "code",
   "execution_count": 77,
   "outputs": [],
   "source": [
    "from sklearn.tree import DecisionTreeClassifier\n",
    "from sklearn.model_selection import train_test_split\n",
    "from sklearn.metrics import accuracy_score"
   ],
   "metadata": {
    "collapsed": false,
    "ExecuteTime": {
     "end_time": "2023-11-30T15:21:54.083079300Z",
     "start_time": "2023-11-30T15:21:54.077793600Z"
    }
   },
   "id": "376a2e9bfc633561"
  },
  {
   "cell_type": "code",
   "execution_count": 81,
   "outputs": [],
   "source": [
    "#sip_formodeldf=pd.read_csv('sip_base_SE_sinnan.csv', sep=';')\n",
    "sip_formodeldf=pd.read_csv('dataset_filtrado_v2_20231130_2.csv', sep=';')"
   ],
   "metadata": {
    "collapsed": false,
    "ExecuteTime": {
     "end_time": "2023-11-30T15:25:56.986974400Z",
     "start_time": "2023-11-30T15:25:56.927213500Z"
    }
   },
   "id": "78b6c56a60a6c33"
  },
  {
   "cell_type": "code",
   "execution_count": 82,
   "outputs": [
    {
     "data": {
      "text/plain": "(186597, 8)"
     },
     "execution_count": 82,
     "metadata": {},
     "output_type": "execute_result"
    }
   ],
   "source": [
    "sip_formodeldf.shape"
   ],
   "metadata": {
    "collapsed": false,
    "ExecuteTime": {
     "end_time": "2023-11-30T15:26:03.220074900Z",
     "start_time": "2023-11-30T15:26:03.213560600Z"
    }
   },
   "id": "adc92c76a3f55489"
  },
  {
   "cell_type": "code",
   "execution_count": 83,
   "outputs": [
    {
     "data": {
      "text/plain": "Index(['Edad_mat', 'Consult_prenat', 'Edad_gest', 'Ttornos_hipert', 'Pre_ecl',\n       'Ecl', 'Peso_al_nacer', 'Condicion'],\n      dtype='object')"
     },
     "execution_count": 83,
     "metadata": {},
     "output_type": "execute_result"
    }
   ],
   "source": [
    "sip_formodeldf.columns"
   ],
   "metadata": {
    "collapsed": false,
    "ExecuteTime": {
     "end_time": "2023-11-30T15:26:05.183036Z",
     "start_time": "2023-11-30T15:26:05.164745500Z"
    }
   },
   "id": "d379b4178e37ad1d"
  },
  {
   "cell_type": "code",
   "execution_count": 67,
   "outputs": [
    {
     "ename": "KeyError",
     "evalue": "'VAR_0322'",
     "output_type": "error",
     "traceback": [
      "\u001B[1;31m---------------------------------------------------------------------------\u001B[0m",
      "\u001B[1;31mKeyError\u001B[0m                                  Traceback (most recent call last)",
      "File \u001B[1;32m~\\AppData\\Local\\Programs\\Python\\Python311\\Lib\\site-packages\\pandas\\core\\indexes\\base.py:3652\u001B[0m, in \u001B[0;36mIndex.get_loc\u001B[1;34m(self, key)\u001B[0m\n\u001B[0;32m   3651\u001B[0m \u001B[38;5;28;01mtry\u001B[39;00m:\n\u001B[1;32m-> 3652\u001B[0m     \u001B[38;5;28;01mreturn\u001B[39;00m \u001B[38;5;28;43mself\u001B[39;49m\u001B[38;5;241;43m.\u001B[39;49m\u001B[43m_engine\u001B[49m\u001B[38;5;241;43m.\u001B[39;49m\u001B[43mget_loc\u001B[49m\u001B[43m(\u001B[49m\u001B[43mcasted_key\u001B[49m\u001B[43m)\u001B[49m\n\u001B[0;32m   3653\u001B[0m \u001B[38;5;28;01mexcept\u001B[39;00m \u001B[38;5;167;01mKeyError\u001B[39;00m \u001B[38;5;28;01mas\u001B[39;00m err:\n",
      "File \u001B[1;32m~\\AppData\\Local\\Programs\\Python\\Python311\\Lib\\site-packages\\pandas\\_libs\\index.pyx:147\u001B[0m, in \u001B[0;36mpandas._libs.index.IndexEngine.get_loc\u001B[1;34m()\u001B[0m\n",
      "File \u001B[1;32m~\\AppData\\Local\\Programs\\Python\\Python311\\Lib\\site-packages\\pandas\\_libs\\index.pyx:176\u001B[0m, in \u001B[0;36mpandas._libs.index.IndexEngine.get_loc\u001B[1;34m()\u001B[0m\n",
      "File \u001B[1;32mpandas\\_libs\\hashtable_class_helper.pxi:7080\u001B[0m, in \u001B[0;36mpandas._libs.hashtable.PyObjectHashTable.get_item\u001B[1;34m()\u001B[0m\n",
      "File \u001B[1;32mpandas\\_libs\\hashtable_class_helper.pxi:7088\u001B[0m, in \u001B[0;36mpandas._libs.hashtable.PyObjectHashTable.get_item\u001B[1;34m()\u001B[0m\n",
      "\u001B[1;31mKeyError\u001B[0m: 'VAR_0322'",
      "\nThe above exception was the direct cause of the following exception:\n",
      "\u001B[1;31mKeyError\u001B[0m                                  Traceback (most recent call last)",
      "Cell \u001B[1;32mIn[67], line 2\u001B[0m\n\u001B[0;32m      1\u001B[0m \u001B[38;5;66;03m#Agregar var\u001B[39;00m\n\u001B[1;32m----> 2\u001B[0m sip_formodeldf[\u001B[38;5;124m'\u001B[39m\u001B[38;5;124mVAR_0322_c\u001B[39m\u001B[38;5;124m'\u001B[39m]\u001B[38;5;241m=\u001B[39m\u001B[43msip_formodeldf\u001B[49m\u001B[43m[\u001B[49m\u001B[38;5;124;43m'\u001B[39;49m\u001B[38;5;124;43mVAR_0322\u001B[39;49m\u001B[38;5;124;43m'\u001B[39;49m\u001B[43m]\u001B[49m\n\u001B[0;32m      3\u001B[0m cond\u001B[38;5;241m=\u001B[39msip_formodeldf[\u001B[38;5;124m'\u001B[39m\u001B[38;5;124mVAR_0322\u001B[39m\u001B[38;5;124m'\u001B[39m]\u001B[38;5;241m>\u001B[39m\u001B[38;5;241m=\u001B[39m\u001B[38;5;241m7\u001B[39m   \u001B[38;5;66;03m#0-6 =1, 7-10=0\u001B[39;00m\n\u001B[0;32m      4\u001B[0m cond2\u001B[38;5;241m=\u001B[39msip_formodeldf[\u001B[38;5;124m'\u001B[39m\u001B[38;5;124mVAR_0322\u001B[39m\u001B[38;5;124m'\u001B[39m]\u001B[38;5;241m<\u001B[39m\u001B[38;5;241m=\u001B[39m\u001B[38;5;241m6\u001B[39m\n",
      "File \u001B[1;32m~\\AppData\\Local\\Programs\\Python\\Python311\\Lib\\site-packages\\pandas\\core\\frame.py:3761\u001B[0m, in \u001B[0;36mDataFrame.__getitem__\u001B[1;34m(self, key)\u001B[0m\n\u001B[0;32m   3759\u001B[0m \u001B[38;5;28;01mif\u001B[39;00m \u001B[38;5;28mself\u001B[39m\u001B[38;5;241m.\u001B[39mcolumns\u001B[38;5;241m.\u001B[39mnlevels \u001B[38;5;241m>\u001B[39m \u001B[38;5;241m1\u001B[39m:\n\u001B[0;32m   3760\u001B[0m     \u001B[38;5;28;01mreturn\u001B[39;00m \u001B[38;5;28mself\u001B[39m\u001B[38;5;241m.\u001B[39m_getitem_multilevel(key)\n\u001B[1;32m-> 3761\u001B[0m indexer \u001B[38;5;241m=\u001B[39m \u001B[38;5;28;43mself\u001B[39;49m\u001B[38;5;241;43m.\u001B[39;49m\u001B[43mcolumns\u001B[49m\u001B[38;5;241;43m.\u001B[39;49m\u001B[43mget_loc\u001B[49m\u001B[43m(\u001B[49m\u001B[43mkey\u001B[49m\u001B[43m)\u001B[49m\n\u001B[0;32m   3762\u001B[0m \u001B[38;5;28;01mif\u001B[39;00m is_integer(indexer):\n\u001B[0;32m   3763\u001B[0m     indexer \u001B[38;5;241m=\u001B[39m [indexer]\n",
      "File \u001B[1;32m~\\AppData\\Local\\Programs\\Python\\Python311\\Lib\\site-packages\\pandas\\core\\indexes\\base.py:3654\u001B[0m, in \u001B[0;36mIndex.get_loc\u001B[1;34m(self, key)\u001B[0m\n\u001B[0;32m   3652\u001B[0m     \u001B[38;5;28;01mreturn\u001B[39;00m \u001B[38;5;28mself\u001B[39m\u001B[38;5;241m.\u001B[39m_engine\u001B[38;5;241m.\u001B[39mget_loc(casted_key)\n\u001B[0;32m   3653\u001B[0m \u001B[38;5;28;01mexcept\u001B[39;00m \u001B[38;5;167;01mKeyError\u001B[39;00m \u001B[38;5;28;01mas\u001B[39;00m err:\n\u001B[1;32m-> 3654\u001B[0m     \u001B[38;5;28;01mraise\u001B[39;00m \u001B[38;5;167;01mKeyError\u001B[39;00m(key) \u001B[38;5;28;01mfrom\u001B[39;00m \u001B[38;5;21;01merr\u001B[39;00m\n\u001B[0;32m   3655\u001B[0m \u001B[38;5;28;01mexcept\u001B[39;00m \u001B[38;5;167;01mTypeError\u001B[39;00m:\n\u001B[0;32m   3656\u001B[0m     \u001B[38;5;66;03m# If we have a listlike key, _check_indexing_error will raise\u001B[39;00m\n\u001B[0;32m   3657\u001B[0m     \u001B[38;5;66;03m#  InvalidIndexError. Otherwise we fall through and re-raise\u001B[39;00m\n\u001B[0;32m   3658\u001B[0m     \u001B[38;5;66;03m#  the TypeError.\u001B[39;00m\n\u001B[0;32m   3659\u001B[0m     \u001B[38;5;28mself\u001B[39m\u001B[38;5;241m.\u001B[39m_check_indexing_error(key)\n",
      "\u001B[1;31mKeyError\u001B[0m: 'VAR_0322'"
     ]
    }
   ],
   "source": [
    "#Agregar var\n",
    "#sip_formodeldf['VAR_0322_c']=sip_formodeldf['VAR_0322']\n",
    "#cond=sip_formodeldf['VAR_0322']>=7   #0-6 =1, 7-10=0\n",
    "#cond2=sip_formodeldf['VAR_0322']<=6"
   ],
   "metadata": {
    "collapsed": false,
    "ExecuteTime": {
     "end_time": "2023-11-30T15:07:49.296155100Z",
     "start_time": "2023-11-30T15:07:49.067409700Z"
    }
   },
   "id": "2fa29c640749416e"
  },
  {
   "cell_type": "code",
   "execution_count": 43,
   "outputs": [],
   "source": [
    "#sip_formodeldf['VAR_0322_c']=np.where(sip_formodeldf['VAR_0322']>=7, 0, 1)"
   ],
   "metadata": {
    "collapsed": false,
    "ExecuteTime": {
     "end_time": "2023-11-30T14:41:37.594544Z",
     "start_time": "2023-11-30T14:41:37.575281700Z"
    }
   },
   "id": "9dd2a583b840ee8a"
  },
  {
   "cell_type": "code",
   "execution_count": 84,
   "outputs": [
    {
     "data": {
      "text/plain": "        Edad_mat  Consult_prenat  Edad_gest  Ttornos_hipert  Pre_ecl  Ecl   \n186592         0              10         38               0        0    0  \\\n186593         0              13         39               1        1    1   \n186594         0               8         38               0        0    0   \n186595         0               2         40               0        0    0   \n186596         0               7         39               0        0    0   \n\n        Peso_al_nacer  Condicion  \n186592          3.220          0  \n186593          4.105          0  \n186594          3.760          0  \n186595          4.360          0  \n186596          3.960          0  ",
      "text/html": "<div>\n<style scoped>\n    .dataframe tbody tr th:only-of-type {\n        vertical-align: middle;\n    }\n\n    .dataframe tbody tr th {\n        vertical-align: top;\n    }\n\n    .dataframe thead th {\n        text-align: right;\n    }\n</style>\n<table border=\"1\" class=\"dataframe\">\n  <thead>\n    <tr style=\"text-align: right;\">\n      <th></th>\n      <th>Edad_mat</th>\n      <th>Consult_prenat</th>\n      <th>Edad_gest</th>\n      <th>Ttornos_hipert</th>\n      <th>Pre_ecl</th>\n      <th>Ecl</th>\n      <th>Peso_al_nacer</th>\n      <th>Condicion</th>\n    </tr>\n  </thead>\n  <tbody>\n    <tr>\n      <th>186592</th>\n      <td>0</td>\n      <td>10</td>\n      <td>38</td>\n      <td>0</td>\n      <td>0</td>\n      <td>0</td>\n      <td>3.220</td>\n      <td>0</td>\n    </tr>\n    <tr>\n      <th>186593</th>\n      <td>0</td>\n      <td>13</td>\n      <td>39</td>\n      <td>1</td>\n      <td>1</td>\n      <td>1</td>\n      <td>4.105</td>\n      <td>0</td>\n    </tr>\n    <tr>\n      <th>186594</th>\n      <td>0</td>\n      <td>8</td>\n      <td>38</td>\n      <td>0</td>\n      <td>0</td>\n      <td>0</td>\n      <td>3.760</td>\n      <td>0</td>\n    </tr>\n    <tr>\n      <th>186595</th>\n      <td>0</td>\n      <td>2</td>\n      <td>40</td>\n      <td>0</td>\n      <td>0</td>\n      <td>0</td>\n      <td>4.360</td>\n      <td>0</td>\n    </tr>\n    <tr>\n      <th>186596</th>\n      <td>0</td>\n      <td>7</td>\n      <td>39</td>\n      <td>0</td>\n      <td>0</td>\n      <td>0</td>\n      <td>3.960</td>\n      <td>0</td>\n    </tr>\n  </tbody>\n</table>\n</div>"
     },
     "execution_count": 84,
     "metadata": {},
     "output_type": "execute_result"
    }
   ],
   "source": [
    "sip_formodeldf.tail()"
   ],
   "metadata": {
    "collapsed": false,
    "ExecuteTime": {
     "end_time": "2023-11-30T15:26:18.887616400Z",
     "start_time": "2023-11-30T15:26:18.870159800Z"
    }
   },
   "id": "af56aca01a4dfa7e"
  },
  {
   "cell_type": "code",
   "execution_count": 85,
   "outputs": [
    {
     "name": "stdout",
     "output_type": "stream",
     "text": [
      "<class 'pandas.core.frame.DataFrame'>\n",
      "RangeIndex: 186597 entries, 0 to 186596\n",
      "Data columns (total 8 columns):\n",
      " #   Column          Non-Null Count   Dtype  \n",
      "---  ------          --------------   -----  \n",
      " 0   Edad_mat        186597 non-null  int64  \n",
      " 1   Consult_prenat  186597 non-null  int64  \n",
      " 2   Edad_gest       186597 non-null  int64  \n",
      " 3   Ttornos_hipert  186597 non-null  int64  \n",
      " 4   Pre_ecl         186597 non-null  int64  \n",
      " 5   Ecl             186597 non-null  int64  \n",
      " 6   Peso_al_nacer   186597 non-null  float64\n",
      " 7   Condicion       186597 non-null  int64  \n",
      "dtypes: float64(1), int64(7)\n",
      "memory usage: 11.4 MB\n"
     ]
    }
   ],
   "source": [
    "sip_formodeldf.info()"
   ],
   "metadata": {
    "collapsed": false,
    "ExecuteTime": {
     "end_time": "2023-11-30T15:26:31.475391500Z",
     "start_time": "2023-11-30T15:26:31.464607100Z"
    }
   },
   "id": "a514cf1a5749b85a"
  },
  {
   "cell_type": "code",
   "execution_count": 86,
   "outputs": [
    {
     "data": {
      "text/plain": "Condicion\n0    0.993049\n1    0.006951\nName: proportion, dtype: float64"
     },
     "execution_count": 86,
     "metadata": {},
     "output_type": "execute_result"
    }
   ],
   "source": [
    "# Vemos la proporcion de la variable objetivo\n",
    "sip_formodeldf['Condicion'].value_counts(normalize=True)"
   ],
   "metadata": {
    "collapsed": false,
    "ExecuteTime": {
     "end_time": "2023-11-30T15:26:50.447652700Z",
     "start_time": "2023-11-30T15:26:50.444483200Z"
    }
   },
   "id": "5a10d2e97e8830d5"
  },
  {
   "cell_type": "code",
   "execution_count": 87,
   "outputs": [],
   "source": [
    "feature_cols=['Edad_mat',\n",
    "'Consult_prenat',\n",
    "'Edad_gest',\n",
    "'Ttornos_hipert',\n",
    "'Pre_ecl',\n",
    "'Ecl',\n",
    "'Peso_al_nacer']"
   ],
   "metadata": {
    "collapsed": false,
    "ExecuteTime": {
     "end_time": "2023-11-30T15:26:53.409488500Z",
     "start_time": "2023-11-30T15:26:53.404475100Z"
    }
   },
   "id": "bf00eb9006add996"
  },
  {
   "cell_type": "code",
   "execution_count": 45,
   "outputs": [],
   "source": [
    "#feature_cols=['VAR_0009',\n",
    "#'VAR_0185',\n",
    "#'VAR_0198',\n",
    "#'VAR_0258',\n",
    "#'VAR_0260',\n",
    "#'VAR_0261',\n",
    "#'VAR_0311'\n",
    "#]\t"
   ],
   "metadata": {
    "collapsed": false,
    "ExecuteTime": {
     "end_time": "2023-11-30T14:42:41.495105300Z",
     "start_time": "2023-11-30T14:42:41.470913100Z"
    }
   },
   "id": "3ff96aca430dac36"
  },
  {
   "cell_type": "code",
   "execution_count": 88,
   "outputs": [],
   "source": [
    "#Division de las columnas dadas en dos tipos de variables dependientes (o variable objetivo) e independientes (o variables de características).\n",
    "x = sip_formodeldf[feature_cols] # Features\n",
    "#y = sip_formodeldf['VAR_0322_c'] # Variable objetivo\n",
    "y = sip_formodeldf['Condicion'] # Variable objetivo"
   ],
   "metadata": {
    "collapsed": false,
    "ExecuteTime": {
     "end_time": "2023-11-30T15:27:17.642206400Z",
     "start_time": "2023-11-30T15:27:17.633531900Z"
    }
   },
   "id": "7b6110430fc0de14"
  },
  {
   "cell_type": "code",
   "execution_count": 89,
   "outputs": [],
   "source": [
    "# Division del conjunto de datos en conjunto de entrenamiento y conjunto de prueba\n",
    "x_train, x_test, y_train, y_test = train_test_split (x, y, test_size=0.3, random_state=1) # 70% de entrenamiento y 30% de prueba\n"
   ],
   "metadata": {
    "collapsed": false,
    "ExecuteTime": {
     "end_time": "2023-11-30T15:27:19.660604500Z",
     "start_time": "2023-11-30T15:27:19.623547400Z"
    }
   },
   "id": "56e688f5c2a4f100"
  },
  {
   "cell_type": "code",
   "execution_count": 90,
   "outputs": [],
   "source": [
    "# Crear un objeto clasificador de árbol de decisiones\n",
    "dtc = DecisionTreeClassifier ()\n",
    "# Clasificador de árboles de decisiones de trenes\n",
    "dtc = dtc.fit(x_train, y_train)\n",
    "#Predict la respuesta para el conjunto de datos de prueba\n",
    "y_pred = dtc.predict (x_test)"
   ],
   "metadata": {
    "collapsed": false,
    "ExecuteTime": {
     "end_time": "2023-11-30T15:27:22.949337300Z",
     "start_time": "2023-11-30T15:27:22.682104200Z"
    }
   },
   "id": "d1f0d1c019bc165a"
  },
  {
   "cell_type": "code",
   "execution_count": 91,
   "outputs": [
    {
     "name": "stdout",
     "output_type": "stream",
     "text": [
      "Precisión: 0.9886923901393355\n"
     ]
    }
   ],
   "source": [
    "# Precisión del modelo, ¿con qué frecuencia es correcto el clasificador?\n",
    "print (\"Precisión:\", accuracy_score (y_test, y_pred))"
   ],
   "metadata": {
    "collapsed": false,
    "ExecuteTime": {
     "end_time": "2023-11-30T15:27:24.784014200Z",
     "start_time": "2023-11-30T15:27:24.774467500Z"
    }
   },
   "id": "97f886c0747b7881"
  },
  {
   "cell_type": "code",
   "execution_count": 120,
   "outputs": [
    {
     "data": {
      "text/plain": "col_0          0    1\nCondicion            \n0          55287  287\n1            346   60",
      "text/html": "<div>\n<style scoped>\n    .dataframe tbody tr th:only-of-type {\n        vertical-align: middle;\n    }\n\n    .dataframe tbody tr th {\n        vertical-align: top;\n    }\n\n    .dataframe thead th {\n        text-align: right;\n    }\n</style>\n<table border=\"1\" class=\"dataframe\">\n  <thead>\n    <tr style=\"text-align: right;\">\n      <th>col_0</th>\n      <th>0</th>\n      <th>1</th>\n    </tr>\n    <tr>\n      <th>Condicion</th>\n      <th></th>\n      <th></th>\n    </tr>\n  </thead>\n  <tbody>\n    <tr>\n      <th>0</th>\n      <td>55287</td>\n      <td>287</td>\n    </tr>\n    <tr>\n      <th>1</th>\n      <td>346</td>\n      <td>60</td>\n    </tr>\n  </tbody>\n</table>\n</div>"
     },
     "execution_count": 120,
     "metadata": {},
     "output_type": "execute_result"
    }
   ],
   "source": [
    "#TABLA DE CONFUSION\n",
    "#los falsos negativos son muy altos, hay que tener cuidado.\n",
    "pd.crosstab(y_test, y_pred).to_clipboard() # la diagonal es la precision, del grupo 0 hay valores correctos 59702\n",
    "pd.crosstab(y_test, y_pred)"
   ],
   "metadata": {
    "collapsed": false,
    "ExecuteTime": {
     "end_time": "2023-11-30T16:45:59.310574700Z",
     "start_time": "2023-11-30T16:45:59.208503500Z"
    }
   },
   "id": "3e7ecf237651d634"
  },
  {
   "cell_type": "code",
   "execution_count": 105,
   "outputs": [],
   "source": [
    "from sklearn.tree import DecisionTreeClassifier, export_graphviz\n",
    "from sklearn.model_selection import train_test_split\n",
    "from sklearn.metrics import accuracy_score\n",
    "from io import StringIO\n",
    "from IPython.display import Image  \n",
    "import pydotplus\n"
   ],
   "metadata": {
    "collapsed": false,
    "ExecuteTime": {
     "end_time": "2023-11-30T15:54:24.538582800Z",
     "start_time": "2023-11-30T15:54:24.525925200Z"
    }
   },
   "id": "1d4e73d9f53d4527"
  },
  {
   "cell_type": "code",
   "execution_count": 106,
   "outputs": [],
   "source": [
    "dot_data = StringIO()\n"
   ],
   "metadata": {
    "collapsed": false,
    "ExecuteTime": {
     "end_time": "2023-11-30T15:54:27.943675800Z",
     "start_time": "2023-11-30T15:54:27.938162500Z"
    }
   },
   "id": "d8f513985b913bf5"
  },
  {
   "cell_type": "code",
   "execution_count": 127,
   "outputs": [
    {
     "data": {
      "text/plain": "\"export_graphviz(dtc, out_file=dot_data, filled = True, rounded = True,special_characters=True,feature_names = feature_cols,class_names=['0','1'])\\ngraph = pydotplus.graph_from_dot_data(dot_data.getvalue())  \\ngraph.write_png('apgar5.png')\\nImage(graph.create_png())\""
     },
     "execution_count": 127,
     "metadata": {},
     "output_type": "execute_result"
    }
   ],
   "source": [
    "'''export_graphviz(dtc, out_file=dot_data, filled = True, rounded = True,special_characters=True,feature_names = feature_cols,class_names=['0','1'])\n",
    "graph = pydotplus.graph_from_dot_data(dot_data.getvalue())  \n",
    "graph.write_png('apgar5.png')\n",
    "Image(graph.create_png())'''"
   ],
   "metadata": {
    "collapsed": false,
    "ExecuteTime": {
     "end_time": "2023-11-30T03:54:26.417748600Z",
     "start_time": "2023-11-30T03:54:26.409238300Z"
    }
   },
   "id": "e1fc70083b6fd7f6"
  },
  {
   "cell_type": "code",
   "execution_count": 101,
   "outputs": [],
   "source": [
    "from sklearn import tree "
   ],
   "metadata": {
    "collapsed": false,
    "ExecuteTime": {
     "end_time": "2023-11-30T15:44:33.661624Z",
     "start_time": "2023-11-30T15:44:33.626073Z"
    }
   },
   "id": "98248d11df478027"
  },
  {
   "cell_type": "code",
   "execution_count": 102,
   "outputs": [
    {
     "data": {
      "text/plain": "[Text(0.12705262542663195, 0.9864864864864865, 'x[2] <= 26.5\\ngini = 0.014\\nsamples = 130617\\nvalue = [129726, 891]'),\n Text(0.032657816692557545, 0.9594594594594594, 'x[6] <= 0.738\\ngini = 0.489\\nsamples = 379\\nvalue = [217, 162]'),\n Text(0.017370427905663042, 0.9324324324324325, 'x[3] <= 0.5\\ngini = 0.485\\nsamples = 152\\nvalue = [63, 89]'),\n Text(0.012145177234853834, 0.9054054054054054, 'x[6] <= 0.635\\ngini = 0.454\\nsamples = 115\\nvalue = [40, 75]'),\n Text(0.006891681965824036, 0.8783783783783784, 'x[6] <= 0.18\\ngini = 0.382\\nsamples = 66\\nvalue = [17, 49]'),\n Text(0.006439768394294591, 0.8513513513513513, 'gini = 0.0\\nsamples = 2\\nvalue = [2, 0]'),\n Text(0.007343595537353481, 0.8513513513513513, 'x[1] <= 2.5\\ngini = 0.359\\nsamples = 64\\nvalue = [15, 49]'),\n Text(0.00361530857223556, 0.8243243243243243, 'x[2] <= 22.5\\ngini = 0.26\\nsamples = 39\\nvalue = [6, 33]'),\n Text(0.003163395000706115, 0.7972972972972973, 'gini = 0.0\\nsamples = 9\\nvalue = [0, 9]'),\n Text(0.004067222143765005, 0.7972972972972973, 'x[6] <= 0.605\\ngini = 0.32\\nsamples = 30\\nvalue = [6, 24]'),\n Text(0.00361530857223556, 0.7702702702702703, 'x[2] <= 23.5\\ngini = 0.375\\nsamples = 24\\nvalue = [6, 18]'),\n Text(0.00180765428611778, 0.7432432432432432, 'x[6] <= 0.593\\ngini = 0.278\\nsamples = 12\\nvalue = [2, 10]'),\n Text(0.00090382714305889, 0.7162162162162162, 'x[1] <= 1.5\\ngini = 0.18\\nsamples = 10\\nvalue = [1, 9]'),\n Text(0.000451913571529445, 0.6891891891891891, 'gini = 0.0\\nsamples = 6\\nvalue = [0, 6]'),\n Text(0.001355740714588335, 0.6891891891891891, 'x[5] <= 0.5\\ngini = 0.375\\nsamples = 4\\nvalue = [1, 3]'),\n Text(0.00090382714305889, 0.6621621621621622, 'x[6] <= 0.57\\ngini = 0.444\\nsamples = 3\\nvalue = [1, 2]'),\n Text(0.000451913571529445, 0.6351351351351351, 'gini = 0.0\\nsamples = 1\\nvalue = [0, 1]'),\n Text(0.001355740714588335, 0.6351351351351351, 'x[0] <= 1.5\\ngini = 0.5\\nsamples = 2\\nvalue = [1, 1]'),\n Text(0.00090382714305889, 0.6081081081081081, 'gini = 0.0\\nsamples = 1\\nvalue = [0, 1]'),\n Text(0.00180765428611778, 0.6081081081081081, 'gini = 0.0\\nsamples = 1\\nvalue = [1, 0]'),\n Text(0.00180765428611778, 0.6621621621621622, 'gini = 0.0\\nsamples = 1\\nvalue = [0, 1]'),\n Text(0.00271148142917667, 0.7162162162162162, 'x[1] <= 1.5\\ngini = 0.5\\nsamples = 2\\nvalue = [1, 1]'),\n Text(0.002259567857647225, 0.6891891891891891, 'gini = 0.0\\nsamples = 1\\nvalue = [1, 0]'),\n Text(0.003163395000706115, 0.6891891891891891, 'gini = 0.0\\nsamples = 1\\nvalue = [0, 1]'),\n Text(0.00542296285835334, 0.7432432432432432, 'x[6] <= 0.587\\ngini = 0.444\\nsamples = 12\\nvalue = [4, 8]'),\n Text(0.004971049286823895, 0.7162162162162162, 'x[2] <= 24.5\\ngini = 0.5\\nsamples = 8\\nvalue = [4, 4]'),\n Text(0.004067222143765005, 0.6891891891891891, 'x[6] <= 0.555\\ngini = 0.375\\nsamples = 4\\nvalue = [3, 1]'),\n Text(0.00361530857223556, 0.6621621621621622, 'gini = 0.0\\nsamples = 2\\nvalue = [2, 0]'),\n Text(0.00451913571529445, 0.6621621621621622, 'x[6] <= 0.572\\ngini = 0.5\\nsamples = 2\\nvalue = [1, 1]'),\n Text(0.004067222143765005, 0.6351351351351351, 'gini = 0.0\\nsamples = 1\\nvalue = [0, 1]'),\n Text(0.004971049286823895, 0.6351351351351351, 'gini = 0.0\\nsamples = 1\\nvalue = [1, 0]'),\n Text(0.005874876429882785, 0.6891891891891891, 'x[0] <= 1.5\\ngini = 0.375\\nsamples = 4\\nvalue = [1, 3]'),\n Text(0.00542296285835334, 0.6621621621621622, 'gini = 0.0\\nsamples = 1\\nvalue = [1, 0]'),\n Text(0.00632679000141223, 0.6621621621621622, 'gini = 0.0\\nsamples = 3\\nvalue = [0, 3]'),\n Text(0.005874876429882785, 0.7162162162162162, 'gini = 0.0\\nsamples = 4\\nvalue = [0, 4]'),\n Text(0.00451913571529445, 0.7702702702702703, 'gini = 0.0\\nsamples = 6\\nvalue = [0, 6]'),\n Text(0.011071882502471403, 0.8243243243243243, 'x[2] <= 25.5\\ngini = 0.461\\nsamples = 25\\nvalue = [9, 16]'),\n Text(0.010619968930941958, 0.7972972972972973, 'x[6] <= 0.625\\ngini = 0.444\\nsamples = 24\\nvalue = [8, 16]'),\n Text(0.010168055359412512, 0.7702702702702703, 'x[6] <= 0.593\\ngini = 0.472\\nsamples = 21\\nvalue = [8, 13]'),\n Text(0.0090382714305889, 0.7432432432432432, 'x[6] <= 0.56\\ngini = 0.391\\nsamples = 15\\nvalue = [4, 11]'),\n Text(0.008586357859059455, 0.7162162162162162, 'x[6] <= 0.535\\ngini = 0.48\\nsamples = 10\\nvalue = [4, 6]'),\n Text(0.007682530716000565, 0.6891891891891891, 'x[5] <= 0.5\\ngini = 0.32\\nsamples = 5\\nvalue = [1, 4]'),\n Text(0.00723061714447112, 0.6621621621621622, 'gini = 0.0\\nsamples = 4\\nvalue = [0, 4]'),\n Text(0.00813444428753001, 0.6621621621621622, 'gini = 0.0\\nsamples = 1\\nvalue = [1, 0]'),\n Text(0.009490185002118345, 0.6891891891891891, 'x[6] <= 0.545\\ngini = 0.48\\nsamples = 5\\nvalue = [3, 2]'),\n Text(0.0090382714305889, 0.6621621621621622, 'gini = 0.0\\nsamples = 2\\nvalue = [2, 0]'),\n Text(0.00994209857364779, 0.6621621621621622, 'x[2] <= 23.5\\ngini = 0.444\\nsamples = 3\\nvalue = [1, 2]'),\n Text(0.009490185002118345, 0.6351351351351351, 'gini = 0.0\\nsamples = 2\\nvalue = [0, 2]'),\n Text(0.010394012145177234, 0.6351351351351351, 'gini = 0.0\\nsamples = 1\\nvalue = [1, 0]'),\n Text(0.009490185002118345, 0.7162162162162162, 'gini = 0.0\\nsamples = 5\\nvalue = [0, 5]'),\n Text(0.011297839288236125, 0.7432432432432432, 'x[5] <= 0.5\\ngini = 0.444\\nsamples = 6\\nvalue = [4, 2]'),\n Text(0.01084592571670668, 0.7162162162162162, 'x[1] <= 4.5\\ngini = 0.32\\nsamples = 5\\nvalue = [4, 1]'),\n Text(0.010394012145177234, 0.6891891891891891, 'gini = 0.0\\nsamples = 3\\nvalue = [3, 0]'),\n Text(0.011297839288236125, 0.6891891891891891, 'x[2] <= 24.5\\ngini = 0.5\\nsamples = 2\\nvalue = [1, 1]'),\n Text(0.01084592571670668, 0.6621621621621622, 'gini = 0.0\\nsamples = 1\\nvalue = [1, 0]'),\n Text(0.01174975285976557, 0.6621621621621622, 'gini = 0.0\\nsamples = 1\\nvalue = [0, 1]'),\n Text(0.01174975285976557, 0.7162162162162162, 'gini = 0.0\\nsamples = 1\\nvalue = [0, 1]'),\n Text(0.011071882502471403, 0.7702702702702703, 'gini = 0.0\\nsamples = 3\\nvalue = [0, 3]'),\n Text(0.011523796074000848, 0.7972972972972973, 'gini = 0.0\\nsamples = 1\\nvalue = [1, 0]'),\n Text(0.017398672503883633, 0.8783783783783784, 'x[1] <= 3.5\\ngini = 0.498\\nsamples = 49\\nvalue = [23, 26]'),\n Text(0.015139104646236407, 0.8513513513513513, 'x[6] <= 0.692\\ngini = 0.461\\nsamples = 36\\nvalue = [13, 23]'),\n Text(0.013331450360118628, 0.8243243243243243, 'x[6] <= 0.645\\ngini = 0.278\\nsamples = 12\\nvalue = [2, 10]'),\n Text(0.012427623217059737, 0.7972972972972973, 'x[0] <= 1.5\\ngini = 0.5\\nsamples = 2\\nvalue = [1, 1]'),\n Text(0.011975709645530292, 0.7702702702702703, 'gini = 0.0\\nsamples = 1\\nvalue = [0, 1]'),\n Text(0.012879536788589182, 0.7702702702702703, 'gini = 0.0\\nsamples = 1\\nvalue = [1, 0]'),\n Text(0.014235277503177518, 0.7972972972972973, 'x[1] <= 2.5\\ngini = 0.18\\nsamples = 10\\nvalue = [1, 9]'),\n Text(0.013783363931648073, 0.7702702702702703, 'gini = 0.0\\nsamples = 7\\nvalue = [0, 7]'),\n Text(0.014687191074706962, 0.7702702702702703, 'x[6] <= 0.68\\ngini = 0.444\\nsamples = 3\\nvalue = [1, 2]'),\n Text(0.014235277503177518, 0.7432432432432432, 'gini = 0.0\\nsamples = 1\\nvalue = [0, 1]'),\n Text(0.015139104646236407, 0.7432432432432432, 'gini = 0.5\\nsamples = 2\\nvalue = [1, 1]'),\n Text(0.016946758932354186, 0.8243243243243243, 'x[1] <= 0.5\\ngini = 0.497\\nsamples = 24\\nvalue = [11, 13]'),\n Text(0.016042931789295296, 0.7972972972972973, 'x[5] <= 0.5\\ngini = 0.375\\nsamples = 4\\nvalue = [3, 1]'),\n Text(0.015591018217765852, 0.7702702702702703, 'gini = 0.0\\nsamples = 3\\nvalue = [3, 0]'),\n Text(0.016494845360824743, 0.7702702702702703, 'gini = 0.0\\nsamples = 1\\nvalue = [0, 1]'),\n Text(0.017850586075413077, 0.7972972972972973, 'x[5] <= 0.5\\ngini = 0.48\\nsamples = 20\\nvalue = [8, 12]'),\n Text(0.017398672503883633, 0.7702702702702703, 'x[0] <= 2.5\\ngini = 0.444\\nsamples = 18\\nvalue = [6, 12]'),\n Text(0.016946758932354186, 0.7432432432432432, 'x[2] <= 22.5\\ngini = 0.415\\nsamples = 17\\nvalue = [5, 12]'),\n Text(0.016494845360824743, 0.7162162162162162, 'gini = 0.0\\nsamples = 1\\nvalue = [1, 0]'),\n Text(0.017398672503883633, 0.7162162162162162, 'x[6] <= 0.697\\ngini = 0.375\\nsamples = 16\\nvalue = [4, 12]'),\n Text(0.016946758932354186, 0.6891891891891891, 'gini = 0.0\\nsamples = 1\\nvalue = [1, 0]'),\n Text(0.017850586075413077, 0.6891891891891891, 'x[6] <= 0.707\\ngini = 0.32\\nsamples = 15\\nvalue = [3, 12]'),\n Text(0.017398672503883633, 0.6621621621621622, 'gini = 0.0\\nsamples = 7\\nvalue = [0, 7]'),\n Text(0.018302499646942524, 0.6621621621621622, 'x[1] <= 1.5\\ngini = 0.469\\nsamples = 8\\nvalue = [3, 5]'),\n Text(0.016946758932354186, 0.6351351351351351, 'x[0] <= 1.5\\ngini = 0.444\\nsamples = 3\\nvalue = [2, 1]'),\n Text(0.016494845360824743, 0.6081081081081081, 'gini = 0.0\\nsamples = 1\\nvalue = [1, 0]'),\n Text(0.017398672503883633, 0.6081081081081081, 'x[2] <= 24.0\\ngini = 0.5\\nsamples = 2\\nvalue = [1, 1]'),\n Text(0.016946758932354186, 0.581081081081081, 'gini = 0.0\\nsamples = 1\\nvalue = [1, 0]'),\n Text(0.017850586075413077, 0.581081081081081, 'gini = 0.0\\nsamples = 1\\nvalue = [0, 1]'),\n Text(0.019658240361530858, 0.6351351351351351, 'x[0] <= 1.5\\ngini = 0.32\\nsamples = 5\\nvalue = [1, 4]'),\n Text(0.01920632679000141, 0.6081081081081081, 'x[2] <= 23.5\\ngini = 0.5\\nsamples = 2\\nvalue = [1, 1]'),\n Text(0.018754413218471967, 0.581081081081081, 'gini = 0.0\\nsamples = 1\\nvalue = [0, 1]'),\n Text(0.019658240361530858, 0.581081081081081, 'gini = 0.0\\nsamples = 1\\nvalue = [1, 0]'),\n Text(0.0201101539330603, 0.6081081081081081, 'gini = 0.0\\nsamples = 3\\nvalue = [0, 3]'),\n Text(0.017850586075413077, 0.7432432432432432, 'gini = 0.0\\nsamples = 1\\nvalue = [1, 0]'),\n Text(0.018302499646942524, 0.7702702702702703, 'gini = 0.0\\nsamples = 2\\nvalue = [2, 0]'),\n Text(0.019658240361530858, 0.8513513513513513, 'x[1] <= 6.0\\ngini = 0.355\\nsamples = 13\\nvalue = [10, 3]'),\n Text(0.01920632679000141, 0.8243243243243243, 'x[2] <= 22.5\\ngini = 0.278\\nsamples = 12\\nvalue = [10, 2]'),\n Text(0.018754413218471967, 0.7972972972972973, 'gini = 0.0\\nsamples = 1\\nvalue = [0, 1]'),\n Text(0.019658240361530858, 0.7972972972972973, 'x[6] <= 0.723\\ngini = 0.165\\nsamples = 11\\nvalue = [10, 1]'),\n Text(0.01920632679000141, 0.7702702702702703, 'gini = 0.0\\nsamples = 9\\nvalue = [9, 0]'),\n Text(0.0201101539330603, 0.7702702702702703, 'x[1] <= 4.5\\ngini = 0.5\\nsamples = 2\\nvalue = [1, 1]'),\n Text(0.019658240361530858, 0.7432432432432432, 'gini = 0.0\\nsamples = 1\\nvalue = [0, 1]'),\n Text(0.02056206750458975, 0.7432432432432432, 'gini = 0.0\\nsamples = 1\\nvalue = [1, 0]'),\n Text(0.0201101539330603, 0.8243243243243243, 'gini = 0.0\\nsamples = 1\\nvalue = [0, 1]'),\n Text(0.02259567857647225, 0.9054054054054054, 'x[6] <= 0.49\\ngini = 0.47\\nsamples = 37\\nvalue = [23, 14]'),\n Text(0.022143765004942806, 0.8783783783783784, 'gini = 0.0\\nsamples = 3\\nvalue = [0, 3]'),\n Text(0.023047592148001696, 0.8783783783783784, 'x[5] <= 0.5\\ngini = 0.438\\nsamples = 34\\nvalue = [23, 11]'),\n Text(0.02146589464764864, 0.8513513513513513, 'x[0] <= 2.5\\ngini = 0.124\\nsamples = 15\\nvalue = [14, 1]'),\n Text(0.021013981076119192, 0.8243243243243243, 'gini = 0.0\\nsamples = 13\\nvalue = [13, 0]'),\n Text(0.021917808219178082, 0.8243243243243243, 'x[2] <= 24.5\\ngini = 0.5\\nsamples = 2\\nvalue = [1, 1]'),\n Text(0.02146589464764864, 0.7972972972972973, 'gini = 0.0\\nsamples = 1\\nvalue = [1, 0]'),\n Text(0.022369721790707526, 0.7972972972972973, 'gini = 0.0\\nsamples = 1\\nvalue = [0, 1]'),\n Text(0.02462928964835475, 0.8513513513513513, 'x[6] <= 0.645\\ngini = 0.499\\nsamples = 19\\nvalue = [9, 10]'),\n Text(0.023725462505295863, 0.8243243243243243, 'x[6] <= 0.52\\ngini = 0.278\\nsamples = 6\\nvalue = [5, 1]'),\n Text(0.023273548933766416, 0.7972972972972973, 'x[2] <= 25.0\\ngini = 0.5\\nsamples = 2\\nvalue = [1, 1]'),\n Text(0.022821635362236973, 0.7702702702702703, 'gini = 0.0\\nsamples = 1\\nvalue = [0, 1]'),\n Text(0.023725462505295863, 0.7702702702702703, 'gini = 0.0\\nsamples = 1\\nvalue = [1, 0]'),\n Text(0.024177376076825307, 0.7972972972972973, 'gini = 0.0\\nsamples = 4\\nvalue = [4, 0]'),\n Text(0.02553311679141364, 0.8243243243243243, 'x[6] <= 0.683\\ngini = 0.426\\nsamples = 13\\nvalue = [4, 9]'),\n Text(0.025081203219884197, 0.7972972972972973, 'gini = 0.0\\nsamples = 6\\nvalue = [0, 6]'),\n Text(0.025985030362943088, 0.7972972972972973, 'x[6] <= 0.71\\ngini = 0.49\\nsamples = 7\\nvalue = [4, 3]'),\n Text(0.02553311679141364, 0.7702702702702703, 'gini = 0.0\\nsamples = 3\\nvalue = [3, 0]'),\n Text(0.02643694393447253, 0.7702702702702703, 'x[2] <= 25.5\\ngini = 0.375\\nsamples = 4\\nvalue = [1, 3]'),\n Text(0.025985030362943088, 0.7432432432432432, 'x[1] <= 0.5\\ngini = 0.5\\nsamples = 2\\nvalue = [1, 1]'),\n Text(0.02553311679141364, 0.7162162162162162, 'gini = 0.0\\nsamples = 1\\nvalue = [0, 1]'),\n Text(0.02643694393447253, 0.7162162162162162, 'gini = 0.0\\nsamples = 1\\nvalue = [1, 0]'),\n Text(0.02688885750600198, 0.7432432432432432, 'gini = 0.0\\nsamples = 2\\nvalue = [0, 2]'),\n Text(0.04794520547945205, 0.9324324324324325, 'x[6] <= 1.185\\ngini = 0.436\\nsamples = 227\\nvalue = [154, 73]'),\n Text(0.03804547380313515, 0.9054054054054054, 'x[1] <= 1.5\\ngini = 0.458\\nsamples = 200\\nvalue = [129, 71]'),\n Text(0.032198841971472957, 0.8783783783783784, 'x[4] <= 0.5\\ngini = 0.499\\nsamples = 57\\nvalue = [30, 27]'),\n Text(0.029148425363649203, 0.8513513513513513, 'x[6] <= 0.75\\ngini = 0.457\\nsamples = 34\\nvalue = [22, 12]'),\n Text(0.028696511792119756, 0.8243243243243243, 'gini = 0.0\\nsamples = 2\\nvalue = [0, 2]'),\n Text(0.029600338935178647, 0.8243243243243243, 'x[6] <= 1.16\\ngini = 0.43\\nsamples = 32\\nvalue = [22, 10]'),\n Text(0.029148425363649203, 0.7972972972972973, 'x[6] <= 0.825\\ngini = 0.412\\nsamples = 31\\nvalue = [22, 9]'),\n Text(0.028244598220590313, 0.7702702702702703, 'x[0] <= 1.5\\ngini = 0.219\\nsamples = 8\\nvalue = [7, 1]'),\n Text(0.027792684649060866, 0.7432432432432432, 'gini = 0.0\\nsamples = 1\\nvalue = [0, 1]'),\n Text(0.028696511792119756, 0.7432432432432432, 'gini = 0.0\\nsamples = 7\\nvalue = [7, 0]'),\n Text(0.030052252506708094, 0.7702702702702703, 'x[6] <= 0.848\\ngini = 0.454\\nsamples = 23\\nvalue = [15, 8]'),\n Text(0.029600338935178647, 0.7432432432432432, 'gini = 0.0\\nsamples = 2\\nvalue = [0, 2]'),\n Text(0.030504166078237537, 0.7432432432432432, 'x[1] <= 0.5\\ngini = 0.408\\nsamples = 21\\nvalue = [15, 6]'),\n Text(0.02892246857788448, 0.7162162162162162, 'x[6] <= 0.92\\ngini = 0.165\\nsamples = 11\\nvalue = [10, 1]'),\n Text(0.028470555006355036, 0.6891891891891891, 'gini = 0.0\\nsamples = 5\\nvalue = [5, 0]'),\n Text(0.029374382149413923, 0.6891891891891891, 'x[6] <= 0.933\\ngini = 0.278\\nsamples = 6\\nvalue = [5, 1]'),\n Text(0.02892246857788448, 0.6621621621621622, 'gini = 0.0\\nsamples = 1\\nvalue = [0, 1]'),\n Text(0.02982629572094337, 0.6621621621621622, 'gini = 0.0\\nsamples = 5\\nvalue = [5, 0]'),\n Text(0.03208586357859059, 0.7162162162162162, 'x[2] <= 25.5\\ngini = 0.5\\nsamples = 10\\nvalue = [5, 5]'),\n Text(0.031182036435531704, 0.6891891891891891, 'x[2] <= 23.0\\ngini = 0.32\\nsamples = 5\\nvalue = [4, 1]'),\n Text(0.03073012286400226, 0.6621621621621622, 'x[6] <= 0.953\\ngini = 0.444\\nsamples = 3\\nvalue = [2, 1]'),\n Text(0.030278209292472814, 0.6351351351351351, 'gini = 0.0\\nsamples = 1\\nvalue = [0, 1]'),\n Text(0.031182036435531704, 0.6351351351351351, 'gini = 0.0\\nsamples = 2\\nvalue = [2, 0]'),\n Text(0.03163395000706115, 0.6621621621621622, 'gini = 0.0\\nsamples = 2\\nvalue = [2, 0]'),\n Text(0.032989690721649485, 0.6891891891891891, 'x[6] <= 0.975\\ngini = 0.32\\nsamples = 5\\nvalue = [1, 4]'),\n Text(0.03253777715012004, 0.6621621621621622, 'gini = 0.0\\nsamples = 3\\nvalue = [0, 3]'),\n Text(0.03344160429317893, 0.6621621621621622, 'x[6] <= 1.06\\ngini = 0.5\\nsamples = 2\\nvalue = [1, 1]'),\n Text(0.032989690721649485, 0.6351351351351351, 'gini = 0.0\\nsamples = 1\\nvalue = [1, 0]'),\n Text(0.03389351786470837, 0.6351351351351351, 'gini = 0.0\\nsamples = 1\\nvalue = [0, 1]'),\n Text(0.030052252506708094, 0.7972972972972973, 'gini = 0.0\\nsamples = 1\\nvalue = [0, 1]'),\n Text(0.035249258579296706, 0.8513513513513513, 'x[6] <= 1.075\\ngini = 0.454\\nsamples = 23\\nvalue = [8, 15]'),\n Text(0.034797345007767266, 0.8243243243243243, 'x[6] <= 0.98\\ngini = 0.488\\nsamples = 19\\nvalue = [8, 11]'),\n Text(0.03389351786470837, 0.7972972972972973, 'x[2] <= 23.5\\ngini = 0.408\\nsamples = 14\\nvalue = [4, 10]'),\n Text(0.03344160429317893, 0.7702702702702703, 'gini = 0.0\\nsamples = 1\\nvalue = [1, 0]'),\n Text(0.03434543143623782, 0.7702702702702703, 'x[6] <= 0.833\\ngini = 0.355\\nsamples = 13\\nvalue = [3, 10]'),\n Text(0.03389351786470837, 0.7432432432432432, 'x[6] <= 0.804\\ngini = 0.49\\nsamples = 7\\nvalue = [3, 4]'),\n Text(0.03344160429317893, 0.7162162162162162, 'gini = 0.0\\nsamples = 3\\nvalue = [0, 3]'),\n Text(0.03434543143623782, 0.7162162162162162, 'x[5] <= 0.5\\ngini = 0.375\\nsamples = 4\\nvalue = [3, 1]'),\n Text(0.03389351786470837, 0.6891891891891891, 'gini = 0.0\\nsamples = 1\\nvalue = [0, 1]'),\n Text(0.034797345007767266, 0.6891891891891891, 'gini = 0.0\\nsamples = 3\\nvalue = [3, 0]'),\n Text(0.034797345007767266, 0.7432432432432432, 'gini = 0.0\\nsamples = 6\\nvalue = [0, 6]'),\n Text(0.03570117215082615, 0.7972972972972973, 'x[2] <= 25.5\\ngini = 0.32\\nsamples = 5\\nvalue = [4, 1]'),\n Text(0.035249258579296706, 0.7702702702702703, 'gini = 0.0\\nsamples = 3\\nvalue = [3, 0]'),\n Text(0.0361530857223556, 0.7702702702702703, 'x[0] <= 2.5\\ngini = 0.5\\nsamples = 2\\nvalue = [1, 1]'),\n Text(0.03570117215082615, 0.7432432432432432, 'gini = 0.0\\nsamples = 1\\nvalue = [0, 1]'),\n Text(0.03660499929388505, 0.7432432432432432, 'gini = 0.0\\nsamples = 1\\nvalue = [1, 0]'),\n Text(0.03570117215082615, 0.8243243243243243, 'gini = 0.0\\nsamples = 4\\nvalue = [0, 4]'),\n Text(0.04389210563479735, 0.8783783783783784, 'x[6] <= 0.796\\ngini = 0.426\\nsamples = 143\\nvalue = [99, 44]'),\n Text(0.03886456715153227, 0.8513513513513513, 'x[1] <= 4.5\\ngini = 0.165\\nsamples = 22\\nvalue = [20, 2]'),\n Text(0.03796074000847338, 0.8243243243243243, 'x[3] <= 0.5\\ngini = 0.1\\nsamples = 19\\nvalue = [18, 1]'),\n Text(0.037508826436943934, 0.7972972972972973, 'gini = 0.0\\nsamples = 11\\nvalue = [11, 0]'),\n Text(0.03841265358000282, 0.7972972972972973, 'x[6] <= 0.762\\ngini = 0.219\\nsamples = 8\\nvalue = [7, 1]'),\n Text(0.03796074000847338, 0.7702702702702703, 'x[0] <= 1.5\\ngini = 0.375\\nsamples = 4\\nvalue = [3, 1]'),\n Text(0.037508826436943934, 0.7432432432432432, 'gini = 0.0\\nsamples = 3\\nvalue = [3, 0]'),\n Text(0.03841265358000282, 0.7432432432432432, 'gini = 0.0\\nsamples = 1\\nvalue = [0, 1]'),\n Text(0.03886456715153227, 0.7702702702702703, 'gini = 0.0\\nsamples = 4\\nvalue = [4, 0]'),\n Text(0.03976839429459116, 0.8243243243243243, 'x[3] <= 0.5\\ngini = 0.444\\nsamples = 3\\nvalue = [2, 1]'),\n Text(0.039316480723061716, 0.7972972972972973, 'gini = 0.0\\nsamples = 1\\nvalue = [0, 1]'),\n Text(0.0402203078661206, 0.7972972972972973, 'gini = 0.0\\nsamples = 2\\nvalue = [2, 0]'),\n Text(0.04891964411806242, 0.8513513513513513, 'x[6] <= 0.858\\ngini = 0.453\\nsamples = 121\\nvalue = [79, 42]'),\n Text(0.04225391893800311, 0.8243243243243243, 'x[6] <= 0.812\\ngini = 0.495\\nsamples = 40\\nvalue = [22, 18]'),\n Text(0.0411241350091795, 0.7972972972972973, 'x[2] <= 25.5\\ngini = 0.391\\nsamples = 15\\nvalue = [11, 4]'),\n Text(0.0402203078661206, 0.7702702702702703, 'x[2] <= 24.5\\ngini = 0.18\\nsamples = 10\\nvalue = [9, 1]'),\n Text(0.03976839429459116, 0.7432432432432432, 'x[5] <= 0.5\\ngini = 0.32\\nsamples = 5\\nvalue = [4, 1]'),\n Text(0.039316480723061716, 0.7162162162162162, 'x[1] <= 3.0\\ngini = 0.444\\nsamples = 3\\nvalue = [2, 1]'),\n Text(0.03886456715153227, 0.6891891891891891, 'gini = 0.0\\nsamples = 1\\nvalue = [1, 0]'),\n Text(0.03976839429459116, 0.6891891891891891, 'gini = 0.5\\nsamples = 2\\nvalue = [1, 1]'),\n Text(0.0402203078661206, 0.7162162162162162, 'gini = 0.0\\nsamples = 2\\nvalue = [2, 0]'),\n Text(0.04067222143765005, 0.7432432432432432, 'gini = 0.0\\nsamples = 5\\nvalue = [5, 0]'),\n Text(0.042027962152238384, 0.7702702702702703, 'x[0] <= 1.5\\ngini = 0.48\\nsamples = 5\\nvalue = [2, 3]'),\n Text(0.04157604858070894, 0.7432432432432432, 'gini = 0.0\\nsamples = 1\\nvalue = [1, 0]'),\n Text(0.04247987572376783, 0.7432432432432432, 'x[6] <= 0.805\\ngini = 0.375\\nsamples = 4\\nvalue = [1, 3]'),\n Text(0.042027962152238384, 0.7162162162162162, 'gini = 0.0\\nsamples = 3\\nvalue = [0, 3]'),\n Text(0.04293178929529728, 0.7162162162162162, 'gini = 0.0\\nsamples = 1\\nvalue = [1, 0]'),\n Text(0.04338370286682672, 0.7972972972972973, 'x[0] <= 1.5\\ngini = 0.493\\nsamples = 25\\nvalue = [11, 14]'),\n Text(0.04293178929529728, 0.7702702702702703, 'gini = 0.0\\nsamples = 4\\nvalue = [0, 4]'),\n Text(0.043835616438356165, 0.7702702702702703, 'x[1] <= 2.5\\ngini = 0.499\\nsamples = 21\\nvalue = [11, 10]'),\n Text(0.04338370286682672, 0.7432432432432432, 'gini = 0.0\\nsamples = 4\\nvalue = [4, 0]'),\n Text(0.04428753000988561, 0.7432432432432432, 'x[6] <= 0.825\\ngini = 0.484\\nsamples = 17\\nvalue = [7, 10]'),\n Text(0.043835616438356165, 0.7162162162162162, 'gini = 0.0\\nsamples = 3\\nvalue = [0, 3]'),\n Text(0.04473944358141505, 0.7162162162162162, 'x[1] <= 5.5\\ngini = 0.5\\nsamples = 14\\nvalue = [7, 7]'),\n Text(0.04428753000988561, 0.6891891891891891, 'x[2] <= 25.5\\ngini = 0.463\\nsamples = 11\\nvalue = [4, 7]'),\n Text(0.04338370286682672, 0.6621621621621622, 'x[4] <= 0.5\\ngini = 0.375\\nsamples = 8\\nvalue = [2, 6]'),\n Text(0.04293178929529728, 0.6351351351351351, 'x[2] <= 24.5\\ngini = 0.444\\nsamples = 6\\nvalue = [2, 4]'),\n Text(0.04247987572376783, 0.6081081081081081, 'gini = 0.0\\nsamples = 1\\nvalue = [1, 0]'),\n Text(0.04338370286682672, 0.6081081081081081, 'x[1] <= 3.5\\ngini = 0.32\\nsamples = 5\\nvalue = [1, 4]'),\n Text(0.04293178929529728, 0.581081081081081, 'x[6] <= 0.835\\ngini = 0.5\\nsamples = 2\\nvalue = [1, 1]'),\n Text(0.04247987572376783, 0.5540540540540541, 'gini = 0.0\\nsamples = 1\\nvalue = [0, 1]'),\n Text(0.04338370286682672, 0.5540540540540541, 'gini = 0.0\\nsamples = 1\\nvalue = [1, 0]'),\n Text(0.043835616438356165, 0.581081081081081, 'gini = 0.0\\nsamples = 3\\nvalue = [0, 3]'),\n Text(0.043835616438356165, 0.6351351351351351, 'gini = 0.0\\nsamples = 2\\nvalue = [0, 2]'),\n Text(0.0451913571529445, 0.6621621621621622, 'x[1] <= 4.0\\ngini = 0.444\\nsamples = 3\\nvalue = [2, 1]'),\n Text(0.04473944358141505, 0.6351351351351351, 'gini = 0.0\\nsamples = 1\\nvalue = [1, 0]'),\n Text(0.045643270724473946, 0.6351351351351351, 'x[3] <= 0.5\\ngini = 0.5\\nsamples = 2\\nvalue = [1, 1]'),\n Text(0.0451913571529445, 0.6081081081081081, 'gini = 0.0\\nsamples = 1\\nvalue = [0, 1]'),\n Text(0.04609518429600339, 0.6081081081081081, 'gini = 0.0\\nsamples = 1\\nvalue = [1, 0]'),\n Text(0.0451913571529445, 0.6891891891891891, 'gini = 0.0\\nsamples = 3\\nvalue = [3, 0]'),\n Text(0.05558536929812173, 0.8243243243243243, 'x[1] <= 3.5\\ngini = 0.417\\nsamples = 81\\nvalue = [57, 24]'),\n Text(0.05174410394012145, 0.7972972972972973, 'x[2] <= 24.5\\ngini = 0.47\\nsamples = 45\\nvalue = [28, 17]'),\n Text(0.051292190368592006, 0.7702702702702703, 'gini = 0.0\\nsamples = 2\\nvalue = [0, 2]'),\n Text(0.0521960175116509, 0.7702702702702703, 'x[6] <= 0.865\\ngini = 0.454\\nsamples = 43\\nvalue = [28, 15]'),\n Text(0.05174410394012145, 0.7432432432432432, 'gini = 0.0\\nsamples = 1\\nvalue = [0, 1]'),\n Text(0.05264793108318034, 0.7432432432432432, 'x[1] <= 2.5\\ngini = 0.444\\nsamples = 42\\nvalue = [28, 14]'),\n Text(0.04993644965400367, 0.7162162162162162, 'x[6] <= 1.053\\ngini = 0.388\\nsamples = 19\\nvalue = [14, 5]'),\n Text(0.04880666572518006, 0.6891891891891891, 'x[0] <= 2.5\\ngini = 0.245\\nsamples = 14\\nvalue = [12, 2]'),\n Text(0.04790283858212117, 0.6621621621621622, 'x[6] <= 0.91\\ngini = 0.153\\nsamples = 12\\nvalue = [11, 1]'),\n Text(0.04745092501059173, 0.6351351351351351, 'x[2] <= 25.5\\ngini = 0.375\\nsamples = 4\\nvalue = [3, 1]'),\n Text(0.04699901143906228, 0.6081081081081081, 'gini = 0.0\\nsamples = 2\\nvalue = [2, 0]'),\n Text(0.04790283858212117, 0.6081081081081081, 'gini = 0.5\\nsamples = 2\\nvalue = [1, 1]'),\n Text(0.048354752153650614, 0.6351351351351351, 'gini = 0.0\\nsamples = 8\\nvalue = [8, 0]'),\n Text(0.04971049286823895, 0.6621621621621622, 'x[4] <= 0.5\\ngini = 0.5\\nsamples = 2\\nvalue = [1, 1]'),\n Text(0.0492585792967095, 0.6351351351351351, 'gini = 0.0\\nsamples = 1\\nvalue = [0, 1]'),\n Text(0.050162406439768395, 0.6351351351351351, 'gini = 0.0\\nsamples = 1\\nvalue = [1, 0]'),\n Text(0.05106623358282728, 0.6891891891891891, 'x[6] <= 1.14\\ngini = 0.48\\nsamples = 5\\nvalue = [2, 3]'),\n Text(0.05061432001129784, 0.6621621621621622, 'gini = 0.0\\nsamples = 2\\nvalue = [0, 2]'),\n Text(0.05151814715435673, 0.6621621621621622, 'x[3] <= 0.5\\ngini = 0.444\\nsamples = 3\\nvalue = [2, 1]'),\n Text(0.05106623358282728, 0.6351351351351351, 'gini = 0.0\\nsamples = 2\\nvalue = [2, 0]'),\n Text(0.051970060725886176, 0.6351351351351351, 'gini = 0.0\\nsamples = 1\\nvalue = [0, 1]'),\n Text(0.055359412512357015, 0.7162162162162162, 'x[6] <= 1.006\\ngini = 0.476\\nsamples = 23\\nvalue = [14, 9]'),\n Text(0.05490749894082757, 0.6891891891891891, 'x[6] <= 0.972\\ngini = 0.499\\nsamples = 19\\nvalue = [10, 9]'),\n Text(0.05377771501200396, 0.6621621621621622, 'x[6] <= 0.925\\ngini = 0.459\\nsamples = 14\\nvalue = [9, 5]'),\n Text(0.05287388786894506, 0.6351351351351351, 'x[0] <= 1.5\\ngini = 0.5\\nsamples = 8\\nvalue = [4, 4]'),\n Text(0.052421974297415616, 0.6081081081081081, 'gini = 0.0\\nsamples = 2\\nvalue = [0, 2]'),\n Text(0.05332580144047451, 0.6081081081081081, 'x[6] <= 0.902\\ngini = 0.444\\nsamples = 6\\nvalue = [4, 2]'),\n Text(0.05287388786894506, 0.581081081081081, 'x[6] <= 0.887\\ngini = 0.32\\nsamples = 5\\nvalue = [4, 1]'),\n Text(0.052421974297415616, 0.5540540540540541, 'x[2] <= 25.5\\ngini = 0.444\\nsamples = 3\\nvalue = [2, 1]'),\n Text(0.051970060725886176, 0.527027027027027, 'gini = 0.0\\nsamples = 1\\nvalue = [0, 1]'),\n Text(0.05287388786894506, 0.527027027027027, 'gini = 0.0\\nsamples = 2\\nvalue = [2, 0]'),\n Text(0.05332580144047451, 0.5540540540540541, 'gini = 0.0\\nsamples = 2\\nvalue = [2, 0]'),\n Text(0.05377771501200396, 0.581081081081081, 'gini = 0.0\\nsamples = 1\\nvalue = [0, 1]'),\n Text(0.054681542155062844, 0.6351351351351351, 'x[4] <= 0.5\\ngini = 0.278\\nsamples = 6\\nvalue = [5, 1]'),\n Text(0.0542296285835334, 0.6081081081081081, 'gini = 0.0\\nsamples = 2\\nvalue = [2, 0]'),\n Text(0.05513345572659229, 0.6081081081081081, 'x[6] <= 0.962\\ngini = 0.375\\nsamples = 4\\nvalue = [3, 1]'),\n Text(0.054681542155062844, 0.581081081081081, 'x[2] <= 25.5\\ngini = 0.5\\nsamples = 2\\nvalue = [1, 1]'),\n Text(0.0542296285835334, 0.5540540540540541, 'gini = 0.0\\nsamples = 1\\nvalue = [1, 0]'),\n Text(0.05513345572659229, 0.5540540540540541, 'gini = 0.0\\nsamples = 1\\nvalue = [0, 1]'),\n Text(0.05558536929812173, 0.581081081081081, 'gini = 0.0\\nsamples = 2\\nvalue = [2, 0]'),\n Text(0.05603728286965118, 0.6621621621621622, 'x[0] <= 2.5\\ngini = 0.32\\nsamples = 5\\nvalue = [1, 4]'),\n Text(0.05558536929812173, 0.6351351351351351, 'gini = 0.0\\nsamples = 3\\nvalue = [0, 3]'),\n Text(0.056489196441180625, 0.6351351351351351, 'gini = 0.5\\nsamples = 2\\nvalue = [1, 1]'),\n Text(0.055811326083886455, 0.6891891891891891, 'gini = 0.0\\nsamples = 4\\nvalue = [4, 0]'),\n Text(0.05942663465612202, 0.7972972972972973, 'x[6] <= 0.97\\ngini = 0.313\\nsamples = 36\\nvalue = [29, 7]'),\n Text(0.057618980370004236, 0.7702702702702703, 'x[2] <= 24.5\\ngini = 0.188\\nsamples = 19\\nvalue = [17, 2]'),\n Text(0.05671515322694535, 0.7432432432432432, 'x[6] <= 0.875\\ngini = 0.375\\nsamples = 4\\nvalue = [3, 1]'),\n Text(0.0562632396554159, 0.7162162162162162, 'gini = 0.0\\nsamples = 3\\nvalue = [3, 0]'),\n Text(0.05716706679847479, 0.7162162162162162, 'gini = 0.0\\nsamples = 1\\nvalue = [0, 1]'),\n Text(0.05852280751306313, 0.7432432432432432, 'x[3] <= 0.5\\ngini = 0.124\\nsamples = 15\\nvalue = [14, 1]'),\n Text(0.05807089394153368, 0.7162162162162162, 'gini = 0.0\\nsamples = 12\\nvalue = [12, 0]'),\n Text(0.05897472108459257, 0.7162162162162162, 'x[6] <= 0.92\\ngini = 0.444\\nsamples = 3\\nvalue = [2, 1]'),\n Text(0.05852280751306313, 0.6891891891891891, 'gini = 0.0\\nsamples = 2\\nvalue = [2, 0]'),\n Text(0.05942663465612202, 0.6891891891891891, 'gini = 0.0\\nsamples = 1\\nvalue = [0, 1]'),\n Text(0.0612342889422398, 0.7702702702702703, 'x[2] <= 25.5\\ngini = 0.415\\nsamples = 17\\nvalue = [12, 5]'),\n Text(0.060330461799180904, 0.7432432432432432, 'x[5] <= 0.5\\ngini = 0.32\\nsamples = 5\\nvalue = [1, 4]'),\n Text(0.059878548227651464, 0.7162162162162162, 'gini = 0.0\\nsamples = 4\\nvalue = [0, 4]'),\n Text(0.06078237537071035, 0.7162162162162162, 'gini = 0.0\\nsamples = 1\\nvalue = [1, 0]'),\n Text(0.062138116085298685, 0.7432432432432432, 'x[1] <= 5.5\\ngini = 0.153\\nsamples = 12\\nvalue = [11, 1]'),\n Text(0.061686202513769245, 0.7162162162162162, 'gini = 0.0\\nsamples = 7\\nvalue = [7, 0]'),\n Text(0.06259002965682813, 0.7162162162162162, 'x[3] <= 0.5\\ngini = 0.32\\nsamples = 5\\nvalue = [4, 1]'),\n Text(0.062138116085298685, 0.6891891891891891, 'x[6] <= 1.026\\ngini = 0.444\\nsamples = 3\\nvalue = [2, 1]'),\n Text(0.061686202513769245, 0.6621621621621622, 'gini = 0.5\\nsamples = 2\\nvalue = [1, 1]'),\n Text(0.06259002965682813, 0.6621621621621622, 'gini = 0.0\\nsamples = 1\\nvalue = [1, 0]'),\n Text(0.06304194322835757, 0.6891891891891891, 'gini = 0.0\\nsamples = 2\\nvalue = [2, 0]'),\n Text(0.05784493715576896, 0.9054054054054054, 'x[6] <= 4.66\\ngini = 0.137\\nsamples = 27\\nvalue = [25, 2]'),\n Text(0.05739302358423951, 0.8783783783783784, 'x[6] <= 1.48\\ngini = 0.074\\nsamples = 26\\nvalue = [25, 1]'),\n Text(0.05694111001271007, 0.8513513513513513, 'x[6] <= 1.43\\ngini = 0.32\\nsamples = 5\\nvalue = [4, 1]'),\n Text(0.056489196441180625, 0.8243243243243243, 'gini = 0.0\\nsamples = 4\\nvalue = [4, 0]'),\n Text(0.05739302358423951, 0.8243243243243243, 'gini = 0.0\\nsamples = 1\\nvalue = [0, 1]'),\n Text(0.05784493715576896, 0.8513513513513513, 'gini = 0.0\\nsamples = 21\\nvalue = [21, 0]'),\n Text(0.058296850727298406, 0.8783783783783784, 'gini = 0.0\\nsamples = 1\\nvalue = [0, 1]'),\n Text(0.22144743416070636, 0.9594594594594594, 'x[6] <= 1.682\\ngini = 0.011\\nsamples = 130238\\nvalue = [129509, 729]'),\n Text(0.11769457880242903, 0.9324324324324325, 'x[1] <= 3.5\\ngini = 0.17\\nsamples = 1611\\nvalue = [1460, 151]'),\n Text(0.09049348608953538, 0.9054054054054054, 'x[6] <= 0.955\\ngini = 0.233\\nsamples = 683\\nvalue = [591, 92]'),\n Text(0.07089394153368168, 0.8783783783783784, 'x[3] <= 0.5\\ngini = 0.394\\nsamples = 89\\nvalue = [65, 24]'),\n Text(0.06812597090806383, 0.8513513513513513, 'x[1] <= 2.5\\ngini = 0.44\\nsamples = 55\\nvalue = [37, 18]'),\n Text(0.06597938144329897, 0.8243243243243243, 'x[6] <= 0.426\\ngini = 0.346\\nsamples = 36\\nvalue = [28, 8]'),\n Text(0.06552746787176952, 0.7972972972972973, 'gini = 0.0\\nsamples = 5\\nvalue = [5, 0]'),\n Text(0.06643129501482842, 0.7972972972972973, 'x[6] <= 0.83\\ngini = 0.383\\nsamples = 31\\nvalue = [23, 8]'),\n Text(0.06530151108600481, 0.7702702702702703, 'x[6] <= 0.793\\ngini = 0.48\\nsamples = 10\\nvalue = [6, 4]'),\n Text(0.06484959751447536, 0.7432432432432432, 'x[1] <= 1.5\\ngini = 0.375\\nsamples = 8\\nvalue = [6, 2]'),\n Text(0.06439768394294591, 0.7162162162162162, 'x[4] <= 0.5\\ngini = 0.5\\nsamples = 4\\nvalue = [2, 2]'),\n Text(0.06394577037141647, 0.6891891891891891, 'x[1] <= 0.5\\ngini = 0.444\\nsamples = 3\\nvalue = [2, 1]'),\n Text(0.06349385679988702, 0.6621621621621622, 'gini = 0.0\\nsamples = 1\\nvalue = [1, 0]'),\n Text(0.06439768394294591, 0.6621621621621622, 'x[6] <= 0.748\\ngini = 0.5\\nsamples = 2\\nvalue = [1, 1]'),\n Text(0.06394577037141647, 0.6351351351351351, 'gini = 0.0\\nsamples = 1\\nvalue = [1, 0]'),\n Text(0.06484959751447536, 0.6351351351351351, 'gini = 0.0\\nsamples = 1\\nvalue = [0, 1]'),\n Text(0.06484959751447536, 0.6891891891891891, 'gini = 0.0\\nsamples = 1\\nvalue = [0, 1]'),\n Text(0.06530151108600481, 0.7162162162162162, 'gini = 0.0\\nsamples = 4\\nvalue = [4, 0]'),\n Text(0.06575342465753424, 0.7432432432432432, 'gini = 0.0\\nsamples = 2\\nvalue = [0, 2]'),\n Text(0.06756107894365203, 0.7702702702702703, 'x[2] <= 27.5\\ngini = 0.308\\nsamples = 21\\nvalue = [17, 4]'),\n Text(0.06665725180059313, 0.7432432432432432, 'x[5] <= 0.5\\ngini = 0.165\\nsamples = 11\\nvalue = [10, 1]'),\n Text(0.06620533822906369, 0.7162162162162162, 'gini = 0.0\\nsamples = 10\\nvalue = [10, 0]'),\n Text(0.06710916537212258, 0.7162162162162162, 'gini = 0.0\\nsamples = 1\\nvalue = [0, 1]'),\n Text(0.06846490608671092, 0.7432432432432432, 'x[6] <= 0.89\\ngini = 0.42\\nsamples = 10\\nvalue = [7, 3]'),\n Text(0.06801299251518148, 0.7162162162162162, 'gini = 0.0\\nsamples = 1\\nvalue = [0, 1]'),\n Text(0.06891681965824036, 0.7162162162162162, 'x[4] <= 0.5\\ngini = 0.346\\nsamples = 9\\nvalue = [7, 2]'),\n Text(0.06846490608671092, 0.6891891891891891, 'x[6] <= 0.945\\ngini = 0.444\\nsamples = 6\\nvalue = [4, 2]'),\n Text(0.06801299251518148, 0.6621621621621622, 'x[6] <= 0.935\\ngini = 0.48\\nsamples = 5\\nvalue = [3, 2]'),\n Text(0.06756107894365203, 0.6351351351351351, 'x[2] <= 32.5\\ngini = 0.375\\nsamples = 4\\nvalue = [3, 1]'),\n Text(0.06710916537212258, 0.6081081081081081, 'gini = 0.0\\nsamples = 3\\nvalue = [3, 0]'),\n Text(0.06801299251518148, 0.6081081081081081, 'gini = 0.0\\nsamples = 1\\nvalue = [0, 1]'),\n Text(0.06846490608671092, 0.6351351351351351, 'gini = 0.0\\nsamples = 1\\nvalue = [0, 1]'),\n Text(0.06891681965824036, 0.6621621621621622, 'gini = 0.0\\nsamples = 1\\nvalue = [1, 0]'),\n Text(0.0693687332297698, 0.6891891891891891, 'gini = 0.0\\nsamples = 3\\nvalue = [3, 0]'),\n Text(0.0702725603728287, 0.8243243243243243, 'x[2] <= 30.5\\ngini = 0.499\\nsamples = 19\\nvalue = [9, 10]'),\n Text(0.0693687332297698, 0.7972972972972973, 'x[6] <= 0.675\\ngini = 0.444\\nsamples = 12\\nvalue = [8, 4]'),\n Text(0.06891681965824036, 0.7702702702702703, 'gini = 0.0\\nsamples = 2\\nvalue = [0, 2]'),\n Text(0.06982064680129925, 0.7702702702702703, 'x[6] <= 0.92\\ngini = 0.32\\nsamples = 10\\nvalue = [8, 2]'),\n Text(0.0693687332297698, 0.7432432432432432, 'gini = 0.0\\nsamples = 7\\nvalue = [7, 0]'),\n Text(0.0702725603728287, 0.7432432432432432, 'x[4] <= 0.5\\ngini = 0.444\\nsamples = 3\\nvalue = [1, 2]'),\n Text(0.06982064680129925, 0.7162162162162162, 'gini = 0.0\\nsamples = 2\\nvalue = [0, 2]'),\n Text(0.07072447394435814, 0.7162162162162162, 'gini = 0.0\\nsamples = 1\\nvalue = [1, 0]'),\n Text(0.07117638751588759, 0.7972972972972973, 'x[2] <= 35.5\\ngini = 0.245\\nsamples = 7\\nvalue = [1, 6]'),\n Text(0.07072447394435814, 0.7702702702702703, 'gini = 0.0\\nsamples = 4\\nvalue = [0, 4]'),\n Text(0.07162830108741704, 0.7702702702702703, 'x[0] <= 1.5\\ngini = 0.444\\nsamples = 3\\nvalue = [1, 2]'),\n Text(0.07117638751588759, 0.7432432432432432, 'gini = 0.0\\nsamples = 2\\nvalue = [0, 2]'),\n Text(0.07208021465894647, 0.7432432432432432, 'gini = 0.0\\nsamples = 1\\nvalue = [1, 0]'),\n Text(0.07366191215929953, 0.8513513513513513, 'x[1] <= 0.5\\ngini = 0.291\\nsamples = 34\\nvalue = [28, 6]'),\n Text(0.07253212823047592, 0.8243243243243243, 'x[2] <= 28.0\\ngini = 0.444\\nsamples = 3\\nvalue = [1, 2]'),\n Text(0.07208021465894647, 0.7972972972972973, 'gini = 0.0\\nsamples = 2\\nvalue = [0, 2]'),\n Text(0.07298404180200536, 0.7972972972972973, 'gini = 0.0\\nsamples = 1\\nvalue = [1, 0]'),\n Text(0.07479169608812315, 0.8243243243243243, 'x[0] <= 2.5\\ngini = 0.225\\nsamples = 31\\nvalue = [27, 4]'),\n Text(0.07388786894506426, 0.7972972972972973, 'x[6] <= 0.61\\ngini = 0.142\\nsamples = 26\\nvalue = [24, 2]'),\n Text(0.07343595537353481, 0.7702702702702703, 'x[5] <= 0.5\\ngini = 0.444\\nsamples = 6\\nvalue = [4, 2]'),\n Text(0.07298404180200536, 0.7432432432432432, 'gini = 0.0\\nsamples = 2\\nvalue = [0, 2]'),\n Text(0.07388786894506426, 0.7432432432432432, 'gini = 0.0\\nsamples = 4\\nvalue = [4, 0]'),\n Text(0.0743397825165937, 0.7702702702702703, 'gini = 0.0\\nsamples = 20\\nvalue = [20, 0]'),\n Text(0.07569552323118203, 0.7972972972972973, 'x[2] <= 27.5\\ngini = 0.48\\nsamples = 5\\nvalue = [3, 2]'),\n Text(0.07524360965965259, 0.7702702702702703, 'gini = 0.0\\nsamples = 2\\nvalue = [0, 2]'),\n Text(0.07614743680271148, 0.7702702702702703, 'gini = 0.0\\nsamples = 3\\nvalue = [3, 0]'),\n Text(0.11009303064538907, 0.8783783783783784, 'x[0] <= 2.5\\ngini = 0.203\\nsamples = 594\\nvalue = [526, 68]'),\n Text(0.09238631549216213, 0.8513513513513513, 'x[6] <= 1.252\\ngini = 0.176\\nsamples = 481\\nvalue = [434, 47]'),\n Text(0.08111848608953538, 0.8243243243243243, 'x[2] <= 30.5\\ngini = 0.24\\nsamples = 136\\nvalue = [117, 19]'),\n Text(0.07772913430306454, 0.7972972972972973, 'x[6] <= 0.999\\ngini = 0.211\\nsamples = 117\\nvalue = [103, 14]'),\n Text(0.07727722073153509, 0.7702702702702703, 'gini = 0.0\\nsamples = 12\\nvalue = [12, 0]'),\n Text(0.07818104787459398, 0.7702702702702703, 'x[6] <= 1.025\\ngini = 0.231\\nsamples = 105\\nvalue = [91, 14]'),\n Text(0.07479169608812315, 0.7432432432432432, 'x[6] <= 1.019\\ngini = 0.346\\nsamples = 18\\nvalue = [14, 4]'),\n Text(0.07388786894506426, 0.7162162162162162, 'x[2] <= 27.5\\ngini = 0.153\\nsamples = 12\\nvalue = [11, 1]'),\n Text(0.07343595537353481, 0.6891891891891891, 'gini = 0.0\\nsamples = 6\\nvalue = [6, 0]'),\n Text(0.0743397825165937, 0.6891891891891891, 'x[6] <= 1.005\\ngini = 0.278\\nsamples = 6\\nvalue = [5, 1]'),\n Text(0.07388786894506426, 0.6621621621621622, 'x[3] <= 0.5\\ngini = 0.444\\nsamples = 3\\nvalue = [2, 1]'),\n Text(0.07343595537353481, 0.6351351351351351, 'gini = 0.0\\nsamples = 1\\nvalue = [0, 1]'),\n Text(0.0743397825165937, 0.6351351351351351, 'gini = 0.0\\nsamples = 2\\nvalue = [2, 0]'),\n Text(0.07479169608812315, 0.6621621621621622, 'gini = 0.0\\nsamples = 3\\nvalue = [3, 0]'),\n Text(0.07569552323118203, 0.7162162162162162, 'x[4] <= 0.5\\ngini = 0.5\\nsamples = 6\\nvalue = [3, 3]'),\n Text(0.07524360965965259, 0.6891891891891891, 'gini = 0.0\\nsamples = 2\\nvalue = [0, 2]'),\n Text(0.07614743680271148, 0.6891891891891891, 'x[3] <= 0.5\\ngini = 0.375\\nsamples = 4\\nvalue = [3, 1]'),\n Text(0.07569552323118203, 0.6621621621621622, 'gini = 0.0\\nsamples = 2\\nvalue = [2, 0]'),\n Text(0.07659935037424093, 0.6621621621621622, 'x[1] <= 2.0\\ngini = 0.5\\nsamples = 2\\nvalue = [1, 1]'),\n Text(0.07614743680271148, 0.6351351351351351, 'gini = 0.0\\nsamples = 1\\nvalue = [0, 1]'),\n Text(0.07705126394577037, 0.6351351351351351, 'gini = 0.0\\nsamples = 1\\nvalue = [1, 0]'),\n Text(0.08157039966106482, 0.7432432432432432, 'x[0] <= 1.5\\ngini = 0.203\\nsamples = 87\\nvalue = [77, 10]'),\n Text(0.07976274537494704, 0.7162162162162162, 'x[4] <= 0.5\\ngini = 0.32\\nsamples = 20\\nvalue = [16, 4]'),\n Text(0.0793108318034176, 0.6891891891891891, 'x[2] <= 29.5\\ngini = 0.463\\nsamples = 11\\nvalue = [7, 4]'),\n Text(0.0784070046603587, 0.6621621621621622, 'x[1] <= 1.5\\ngini = 0.375\\nsamples = 8\\nvalue = [6, 2]'),\n Text(0.07795509108882927, 0.6351351351351351, 'gini = 0.0\\nsamples = 4\\nvalue = [4, 0]'),\n Text(0.07885891823188815, 0.6351351351351351, 'x[2] <= 28.5\\ngini = 0.5\\nsamples = 4\\nvalue = [2, 2]'),\n Text(0.0784070046603587, 0.6081081081081081, 'x[6] <= 1.205\\ngini = 0.444\\nsamples = 3\\nvalue = [1, 2]'),\n Text(0.07795509108882927, 0.581081081081081, 'gini = 0.0\\nsamples = 1\\nvalue = [1, 0]'),\n Text(0.07885891823188815, 0.581081081081081, 'gini = 0.0\\nsamples = 2\\nvalue = [0, 2]'),\n Text(0.0793108318034176, 0.6081081081081081, 'gini = 0.0\\nsamples = 1\\nvalue = [1, 0]'),\n Text(0.08021465894647649, 0.6621621621621622, 'x[1] <= 1.5\\ngini = 0.444\\nsamples = 3\\nvalue = [1, 2]'),\n Text(0.07976274537494704, 0.6351351351351351, 'gini = 0.0\\nsamples = 2\\nvalue = [0, 2]'),\n Text(0.08066657251800594, 0.6351351351351351, 'gini = 0.0\\nsamples = 1\\nvalue = [1, 0]'),\n Text(0.08021465894647649, 0.6891891891891891, 'gini = 0.0\\nsamples = 9\\nvalue = [9, 0]'),\n Text(0.0833780539471826, 0.7162162162162162, 'x[6] <= 1.095\\ngini = 0.163\\nsamples = 67\\nvalue = [61, 6]'),\n Text(0.08292614037565316, 0.6891891891891891, 'gini = 0.0\\nsamples = 13\\nvalue = [13, 0]'),\n Text(0.08382996751871205, 0.6891891891891891, 'x[6] <= 1.123\\ngini = 0.198\\nsamples = 54\\nvalue = [48, 6]'),\n Text(0.08202231323259426, 0.6621621621621622, 'x[6] <= 1.118\\ngini = 0.397\\nsamples = 11\\nvalue = [8, 3]'),\n Text(0.08157039966106482, 0.6351351351351351, 'x[2] <= 28.5\\ngini = 0.32\\nsamples = 10\\nvalue = [8, 2]'),\n Text(0.08111848608953538, 0.6081081081081081, 'x[4] <= 0.5\\ngini = 0.408\\nsamples = 7\\nvalue = [5, 2]'),\n Text(0.08021465894647649, 0.581081081081081, 'x[2] <= 27.5\\ngini = 0.32\\nsamples = 5\\nvalue = [4, 1]'),\n Text(0.07976274537494704, 0.5540540540540541, 'x[1] <= 1.0\\ngini = 0.444\\nsamples = 3\\nvalue = [2, 1]'),\n Text(0.0793108318034176, 0.527027027027027, 'gini = 0.0\\nsamples = 1\\nvalue = [1, 0]'),\n Text(0.08021465894647649, 0.527027027027027, 'gini = 0.5\\nsamples = 2\\nvalue = [1, 1]'),\n Text(0.08066657251800594, 0.5540540540540541, 'gini = 0.0\\nsamples = 2\\nvalue = [2, 0]'),\n Text(0.08202231323259426, 0.581081081081081, 'x[6] <= 1.105\\ngini = 0.5\\nsamples = 2\\nvalue = [1, 1]'),\n Text(0.08157039966106482, 0.5540540540540541, 'gini = 0.0\\nsamples = 1\\nvalue = [1, 0]'),\n Text(0.08247422680412371, 0.5540540540540541, 'gini = 0.0\\nsamples = 1\\nvalue = [0, 1]'),\n Text(0.08202231323259426, 0.6081081081081081, 'gini = 0.0\\nsamples = 3\\nvalue = [3, 0]'),\n Text(0.08247422680412371, 0.6351351351351351, 'gini = 0.0\\nsamples = 1\\nvalue = [0, 1]'),\n Text(0.08563762180482982, 0.6621621621621622, 'x[1] <= 2.5\\ngini = 0.13\\nsamples = 43\\nvalue = [40, 3]'),\n Text(0.08518570823330038, 0.6351351351351351, 'x[6] <= 1.162\\ngini = 0.18\\nsamples = 30\\nvalue = [27, 3]'),\n Text(0.0842818810902415, 0.6081081081081081, 'x[6] <= 1.155\\ngini = 0.298\\nsamples = 11\\nvalue = [9, 2]'),\n Text(0.08382996751871205, 0.581081081081081, 'x[2] <= 28.5\\ngini = 0.198\\nsamples = 9\\nvalue = [8, 1]'),\n Text(0.0833780539471826, 0.5540540540540541, 'gini = 0.0\\nsamples = 5\\nvalue = [5, 0]'),\n Text(0.0842818810902415, 0.5540540540540541, 'x[3] <= 0.5\\ngini = 0.375\\nsamples = 4\\nvalue = [3, 1]'),\n Text(0.08382996751871205, 0.527027027027027, 'gini = 0.0\\nsamples = 2\\nvalue = [2, 0]'),\n Text(0.08473379466177093, 0.527027027027027, 'x[6] <= 1.149\\ngini = 0.5\\nsamples = 2\\nvalue = [1, 1]'),\n Text(0.0842818810902415, 0.5, 'gini = 0.0\\nsamples = 1\\nvalue = [0, 1]'),\n Text(0.08518570823330038, 0.5, 'gini = 0.0\\nsamples = 1\\nvalue = [1, 0]'),\n Text(0.08473379466177093, 0.581081081081081, 'gini = 0.5\\nsamples = 2\\nvalue = [1, 1]'),\n Text(0.08608953537635927, 0.6081081081081081, 'x[4] <= 0.5\\ngini = 0.1\\nsamples = 19\\nvalue = [18, 1]'),\n Text(0.08563762180482982, 0.581081081081081, 'gini = 0.0\\nsamples = 12\\nvalue = [12, 0]'),\n Text(0.08654144894788872, 0.581081081081081, 'x[2] <= 28.5\\ngini = 0.245\\nsamples = 7\\nvalue = [6, 1]'),\n Text(0.08608953537635927, 0.5540540540540541, 'gini = 0.0\\nsamples = 5\\nvalue = [5, 0]'),\n Text(0.08699336251941817, 0.5540540540540541, 'x[1] <= 1.5\\ngini = 0.5\\nsamples = 2\\nvalue = [1, 1]'),\n Text(0.08654144894788872, 0.527027027027027, 'gini = 0.0\\nsamples = 1\\nvalue = [1, 0]'),\n Text(0.08744527609094761, 0.527027027027027, 'gini = 0.0\\nsamples = 1\\nvalue = [0, 1]'),\n Text(0.08608953537635927, 0.6351351351351351, 'gini = 0.0\\nsamples = 13\\nvalue = [13, 0]'),\n Text(0.08450783787600621, 0.7972972972972973, 'x[6] <= 1.05\\ngini = 0.388\\nsamples = 19\\nvalue = [14, 5]'),\n Text(0.0833780539471826, 0.7702702702702703, 'x[2] <= 31.5\\ngini = 0.5\\nsamples = 4\\nvalue = [2, 2]'),\n Text(0.08292614037565316, 0.7432432432432432, 'gini = 0.0\\nsamples = 2\\nvalue = [2, 0]'),\n Text(0.08382996751871205, 0.7432432432432432, 'gini = 0.0\\nsamples = 2\\nvalue = [0, 2]'),\n Text(0.08563762180482982, 0.7702702702702703, 'x[2] <= 31.5\\ngini = 0.32\\nsamples = 15\\nvalue = [12, 3]'),\n Text(0.08473379466177093, 0.7432432432432432, 'x[6] <= 1.213\\ngini = 0.5\\nsamples = 4\\nvalue = [2, 2]'),\n Text(0.0842818810902415, 0.7162162162162162, 'gini = 0.0\\nsamples = 2\\nvalue = [0, 2]'),\n Text(0.08518570823330038, 0.7162162162162162, 'gini = 0.0\\nsamples = 2\\nvalue = [2, 0]'),\n Text(0.08654144894788872, 0.7432432432432432, 'x[6] <= 1.235\\ngini = 0.165\\nsamples = 11\\nvalue = [10, 1]'),\n Text(0.08608953537635927, 0.7162162162162162, 'gini = 0.0\\nsamples = 8\\nvalue = [8, 0]'),\n Text(0.08699336251941817, 0.7162162162162162, 'x[2] <= 32.5\\ngini = 0.444\\nsamples = 3\\nvalue = [2, 1]'),\n Text(0.08654144894788872, 0.6891891891891891, 'gini = 0.0\\nsamples = 2\\nvalue = [2, 0]'),\n Text(0.08744527609094761, 0.6891891891891891, 'gini = 0.0\\nsamples = 1\\nvalue = [0, 1]'),\n Text(0.10365414489478887, 0.8243243243243243, 'x[6] <= 1.579\\ngini = 0.149\\nsamples = 345\\nvalue = [317, 28]'),\n Text(0.09738031351504024, 0.7972972972972973, 'x[1] <= 1.5\\ngini = 0.118\\nsamples = 255\\nvalue = [239, 16]'),\n Text(0.09217624629289649, 0.7702702702702703, 'x[6] <= 1.503\\ngini = 0.177\\nsamples = 122\\nvalue = [110, 12]'),\n Text(0.09172433272136704, 0.7432432432432432, 'x[6] <= 1.335\\ngini = 0.211\\nsamples = 100\\nvalue = [88, 12]'),\n Text(0.08925293037706539, 0.7162162162162162, 'x[1] <= 0.5\\ngini = 0.117\\nsamples = 32\\nvalue = [30, 2]'),\n Text(0.08880101680553594, 0.6891891891891891, 'gini = 0.0\\nsamples = 13\\nvalue = [13, 0]'),\n Text(0.08970484394859483, 0.6891891891891891, 'x[2] <= 31.5\\ngini = 0.188\\nsamples = 19\\nvalue = [17, 2]'),\n Text(0.08880101680553594, 0.6621621621621622, 'x[6] <= 1.295\\ngini = 0.117\\nsamples = 16\\nvalue = [15, 1]'),\n Text(0.08834910323400649, 0.6351351351351351, 'gini = 0.0\\nsamples = 10\\nvalue = [10, 0]'),\n Text(0.08925293037706539, 0.6351351351351351, 'x[6] <= 1.302\\ngini = 0.278\\nsamples = 6\\nvalue = [5, 1]'),\n Text(0.08880101680553594, 0.6081081081081081, 'x[3] <= 0.5\\ngini = 0.444\\nsamples = 3\\nvalue = [2, 1]'),\n Text(0.08834910323400649, 0.581081081081081, 'x[2] <= 28.5\\ngini = 0.5\\nsamples = 2\\nvalue = [1, 1]'),\n Text(0.08789718966247705, 0.5540540540540541, 'gini = 0.0\\nsamples = 1\\nvalue = [1, 0]'),\n Text(0.08880101680553594, 0.5540540540540541, 'gini = 0.0\\nsamples = 1\\nvalue = [0, 1]'),\n Text(0.08925293037706539, 0.581081081081081, 'gini = 0.0\\nsamples = 1\\nvalue = [1, 0]'),\n Text(0.08970484394859483, 0.6081081081081081, 'gini = 0.0\\nsamples = 3\\nvalue = [3, 0]'),\n Text(0.09060867109165373, 0.6621621621621622, 'x[6] <= 1.28\\ngini = 0.444\\nsamples = 3\\nvalue = [2, 1]'),\n Text(0.09015675752012428, 0.6351351351351351, 'gini = 0.0\\nsamples = 1\\nvalue = [0, 1]'),\n Text(0.09106058466318316, 0.6351351351351351, 'gini = 0.0\\nsamples = 2\\nvalue = [2, 0]'),\n Text(0.0941957350656687, 0.7162162162162162, 'x[6] <= 1.355\\ngini = 0.251\\nsamples = 68\\nvalue = [58, 10]'),\n Text(0.09286823894930095, 0.6891891891891891, 'x[2] <= 30.5\\ngini = 0.5\\nsamples = 6\\nvalue = [3, 3]'),\n Text(0.0924163253777715, 0.6621621621621622, 'x[2] <= 28.5\\ngini = 0.375\\nsamples = 4\\nvalue = [3, 1]'),\n Text(0.09196441180624206, 0.6351351351351351, 'gini = 0.5\\nsamples = 2\\nvalue = [1, 1]'),\n Text(0.09286823894930095, 0.6351351351351351, 'gini = 0.0\\nsamples = 2\\nvalue = [2, 0]'),\n Text(0.0933201525208304, 0.6621621621621622, 'gini = 0.0\\nsamples = 2\\nvalue = [0, 2]'),\n Text(0.09552323118203644, 0.6891891891891891, 'x[6] <= 1.425\\ngini = 0.2\\nsamples = 62\\nvalue = [55, 7]'),\n Text(0.09422397966388928, 0.6621621621621622, 'x[0] <= 1.5\\ngini = 0.071\\nsamples = 27\\nvalue = [26, 1]'),\n Text(0.09377206609235983, 0.6351351351351351, 'x[2] <= 29.5\\ngini = 0.278\\nsamples = 6\\nvalue = [5, 1]'),\n Text(0.0933201525208304, 0.6081081081081081, 'gini = 0.0\\nsamples = 3\\nvalue = [3, 0]'),\n Text(0.09422397966388928, 0.6081081081081081, 'x[2] <= 31.0\\ngini = 0.444\\nsamples = 3\\nvalue = [2, 1]'),\n Text(0.09377206609235983, 0.581081081081081, 'gini = 0.0\\nsamples = 1\\nvalue = [0, 1]'),\n Text(0.09467589323541872, 0.581081081081081, 'gini = 0.0\\nsamples = 2\\nvalue = [2, 0]'),\n Text(0.09467589323541872, 0.6351351351351351, 'gini = 0.0\\nsamples = 21\\nvalue = [21, 0]'),\n Text(0.09682248270018359, 0.6621621621621622, 'x[6] <= 1.435\\ngini = 0.284\\nsamples = 35\\nvalue = [29, 6]'),\n Text(0.09557972037847762, 0.6351351351351351, 'x[0] <= 1.5\\ngini = 0.5\\nsamples = 2\\nvalue = [1, 1]'),\n Text(0.09512780680694817, 0.6081081081081081, 'gini = 0.0\\nsamples = 1\\nvalue = [1, 0]'),\n Text(0.09603163395000706, 0.6081081081081081, 'gini = 0.0\\nsamples = 1\\nvalue = [0, 1]'),\n Text(0.09806524502188957, 0.6351351351351351, 'x[5] <= 0.5\\ngini = 0.257\\nsamples = 33\\nvalue = [28, 5]'),\n Text(0.09693546109306594, 0.6081081081081081, 'x[2] <= 29.5\\ngini = 0.204\\nsamples = 26\\nvalue = [23, 3]'),\n Text(0.09648354752153651, 0.581081081081081, 'gini = 0.0\\nsamples = 9\\nvalue = [9, 0]'),\n Text(0.09738737466459539, 0.581081081081081, 'x[6] <= 1.468\\ngini = 0.291\\nsamples = 17\\nvalue = [14, 3]'),\n Text(0.09648354752153651, 0.5540540540540541, 'x[6] <= 1.455\\ngini = 0.48\\nsamples = 5\\nvalue = [3, 2]'),\n Text(0.09603163395000706, 0.527027027027027, 'x[2] <= 31.0\\ngini = 0.375\\nsamples = 4\\nvalue = [3, 1]'),\n Text(0.09557972037847762, 0.5, 'gini = 0.0\\nsamples = 1\\nvalue = [1, 0]'),\n Text(0.09648354752153651, 0.5, 'x[1] <= 0.5\\ngini = 0.444\\nsamples = 3\\nvalue = [2, 1]'),\n Text(0.09603163395000706, 0.47297297297297297, 'x[4] <= 0.5\\ngini = 0.5\\nsamples = 2\\nvalue = [1, 1]'),\n Text(0.09557972037847762, 0.44594594594594594, 'gini = 0.0\\nsamples = 1\\nvalue = [0, 1]'),\n Text(0.09648354752153651, 0.44594594594594594, 'gini = 0.0\\nsamples = 1\\nvalue = [1, 0]'),\n Text(0.09693546109306594, 0.47297297297297297, 'gini = 0.0\\nsamples = 1\\nvalue = [1, 0]'),\n Text(0.09693546109306594, 0.527027027027027, 'gini = 0.0\\nsamples = 1\\nvalue = [0, 1]'),\n Text(0.09829120180765429, 0.5540540540540541, 'x[2] <= 30.5\\ngini = 0.153\\nsamples = 12\\nvalue = [11, 1]'),\n Text(0.09783928823612484, 0.527027027027027, 'gini = 0.0\\nsamples = 1\\nvalue = [0, 1]'),\n Text(0.09874311537918373, 0.527027027027027, 'gini = 0.0\\nsamples = 11\\nvalue = [11, 0]'),\n Text(0.09919502895071318, 0.6081081081081081, 'x[0] <= 1.5\\ngini = 0.408\\nsamples = 7\\nvalue = [5, 2]'),\n Text(0.09874311537918373, 0.581081081081081, 'gini = 0.0\\nsamples = 1\\nvalue = [0, 1]'),\n Text(0.09964694252224263, 0.581081081081081, 'x[6] <= 1.47\\ngini = 0.278\\nsamples = 6\\nvalue = [5, 1]'),\n Text(0.09919502895071318, 0.5540540540540541, 'gini = 0.0\\nsamples = 4\\nvalue = [4, 0]'),\n Text(0.10009885609377206, 0.5540540540540541, 'x[3] <= 0.5\\ngini = 0.5\\nsamples = 2\\nvalue = [1, 1]'),\n Text(0.09964694252224263, 0.527027027027027, 'gini = 0.0\\nsamples = 1\\nvalue = [0, 1]'),\n Text(0.1005507696653015, 0.527027027027027, 'gini = 0.0\\nsamples = 1\\nvalue = [1, 0]'),\n Text(0.09262815986442594, 0.7432432432432432, 'gini = 0.0\\nsamples = 22\\nvalue = [22, 0]'),\n Text(0.10258438073718401, 0.7702702702702703, 'x[2] <= 32.5\\ngini = 0.058\\nsamples = 133\\nvalue = [129, 4]'),\n Text(0.10100268323683095, 0.7432432432432432, 'x[3] <= 0.5\\ngini = 0.035\\nsamples = 112\\nvalue = [110, 2]'),\n Text(0.1005507696653015, 0.7162162162162162, 'x[6] <= 1.338\\ngini = 0.055\\nsamples = 71\\nvalue = [69, 2]'),\n Text(0.09964694252224263, 0.6891891891891891, 'x[2] <= 30.5\\ngini = 0.142\\nsamples = 13\\nvalue = [12, 1]'),\n Text(0.09919502895071318, 0.6621621621621622, 'gini = 0.0\\nsamples = 12\\nvalue = [12, 0]'),\n Text(0.10009885609377206, 0.6621621621621622, 'gini = 0.0\\nsamples = 1\\nvalue = [0, 1]'),\n Text(0.1014545968083604, 0.6891891891891891, 'x[6] <= 1.498\\ngini = 0.034\\nsamples = 58\\nvalue = [57, 1]'),\n Text(0.10100268323683095, 0.6621621621621622, 'gini = 0.0\\nsamples = 38\\nvalue = [38, 0]'),\n Text(0.10190651037988985, 0.6621621621621622, 'x[6] <= 1.502\\ngini = 0.095\\nsamples = 20\\nvalue = [19, 1]'),\n Text(0.1014545968083604, 0.6351351351351351, 'x[2] <= 29.5\\ngini = 0.32\\nsamples = 5\\nvalue = [4, 1]'),\n Text(0.10100268323683095, 0.6081081081081081, 'x[2] <= 28.0\\ngini = 0.5\\nsamples = 2\\nvalue = [1, 1]'),\n Text(0.1005507696653015, 0.581081081081081, 'gini = 0.0\\nsamples = 1\\nvalue = [1, 0]'),\n Text(0.1014545968083604, 0.581081081081081, 'gini = 0.0\\nsamples = 1\\nvalue = [0, 1]'),\n Text(0.10190651037988985, 0.6081081081081081, 'gini = 0.0\\nsamples = 3\\nvalue = [3, 0]'),\n Text(0.1023584239514193, 0.6351351351351351, 'gini = 0.0\\nsamples = 15\\nvalue = [15, 0]'),\n Text(0.1014545968083604, 0.7162162162162162, 'gini = 0.0\\nsamples = 41\\nvalue = [41, 0]'),\n Text(0.10416607823753707, 0.7432432432432432, 'x[6] <= 1.277\\ngini = 0.172\\nsamples = 21\\nvalue = [19, 2]'),\n Text(0.10371416466600762, 0.7162162162162162, 'gini = 0.0\\nsamples = 1\\nvalue = [0, 1]'),\n Text(0.10461799180906652, 0.7162162162162162, 'x[1] <= 2.5\\ngini = 0.095\\nsamples = 20\\nvalue = [19, 1]'),\n Text(0.10416607823753707, 0.6891891891891891, 'x[2] <= 33.5\\ngini = 0.219\\nsamples = 8\\nvalue = [7, 1]'),\n Text(0.10371416466600762, 0.6621621621621622, 'x[6] <= 1.44\\ngini = 0.375\\nsamples = 4\\nvalue = [3, 1]'),\n Text(0.10326225109447817, 0.6351351351351351, 'x[5] <= 0.5\\ngini = 0.5\\nsamples = 2\\nvalue = [1, 1]'),\n Text(0.10281033752294874, 0.6081081081081081, 'gini = 0.0\\nsamples = 1\\nvalue = [1, 0]'),\n Text(0.10371416466600762, 0.6081081081081081, 'gini = 0.0\\nsamples = 1\\nvalue = [0, 1]'),\n Text(0.10416607823753707, 0.6351351351351351, 'gini = 0.0\\nsamples = 2\\nvalue = [2, 0]'),\n Text(0.10461799180906652, 0.6621621621621622, 'gini = 0.0\\nsamples = 4\\nvalue = [4, 0]'),\n Text(0.10506990538059596, 0.6891891891891891, 'gini = 0.0\\nsamples = 12\\nvalue = [12, 0]'),\n Text(0.1099279762745375, 0.7972972972972973, 'x[6] <= 1.585\\ngini = 0.231\\nsamples = 90\\nvalue = [78, 12]'),\n Text(0.10642564609518429, 0.7702702702702703, 'x[2] <= 29.5\\ngini = 0.5\\nsamples = 6\\nvalue = [3, 3]'),\n Text(0.10597373252365486, 0.7432432432432432, 'gini = 0.0\\nsamples = 1\\nvalue = [0, 1]'),\n Text(0.10687755966671374, 0.7432432432432432, 'x[2] <= 33.5\\ngini = 0.48\\nsamples = 5\\nvalue = [3, 2]'),\n Text(0.10642564609518429, 0.7162162162162162, 'x[4] <= 0.5\\ngini = 0.375\\nsamples = 4\\nvalue = [3, 1]'),\n Text(0.10597373252365486, 0.6891891891891891, 'gini = 0.0\\nsamples = 2\\nvalue = [2, 0]'),\n Text(0.10687755966671374, 0.6891891891891891, 'x[1] <= 1.5\\ngini = 0.5\\nsamples = 2\\nvalue = [1, 1]'),\n Text(0.10642564609518429, 0.6621621621621622, 'gini = 0.0\\nsamples = 1\\nvalue = [1, 0]'),\n Text(0.10732947323824318, 0.6621621621621622, 'gini = 0.0\\nsamples = 1\\nvalue = [0, 1]'),\n Text(0.10732947323824318, 0.7162162162162162, 'gini = 0.0\\nsamples = 1\\nvalue = [0, 1]'),\n Text(0.1134303064538907, 0.7702702702702703, 'x[6] <= 1.657\\ngini = 0.191\\nsamples = 84\\nvalue = [75, 9]'),\n Text(0.11297839288236125, 0.7432432432432432, 'x[5] <= 0.5\\ngini = 0.262\\nsamples = 58\\nvalue = [49, 9]'),\n Text(0.11094478181047875, 0.7162162162162162, 'x[6] <= 1.652\\ngini = 0.201\\nsamples = 44\\nvalue = [39, 5]'),\n Text(0.1095890410958904, 0.6891891891891891, 'x[0] <= 1.5\\ngini = 0.172\\nsamples = 42\\nvalue = [38, 4]'),\n Text(0.10823330038130208, 0.6621621621621622, 'x[2] <= 32.5\\ngini = 0.32\\nsamples = 10\\nvalue = [8, 2]'),\n Text(0.10778138680977263, 0.6351351351351351, 'x[6] <= 1.595\\ngini = 0.444\\nsamples = 6\\nvalue = [4, 2]'),\n Text(0.10732947323824318, 0.6081081081081081, 'gini = 0.0\\nsamples = 2\\nvalue = [2, 0]'),\n Text(0.10823330038130208, 0.6081081081081081, 'x[1] <= 2.5\\ngini = 0.5\\nsamples = 4\\nvalue = [2, 2]'),\n Text(0.10778138680977263, 0.581081081081081, 'x[6] <= 1.61\\ngini = 0.444\\nsamples = 3\\nvalue = [2, 1]'),\n Text(0.10732947323824318, 0.5540540540540541, 'gini = 0.0\\nsamples = 1\\nvalue = [0, 1]'),\n Text(0.10823330038130208, 0.5540540540540541, 'gini = 0.0\\nsamples = 2\\nvalue = [2, 0]'),\n Text(0.10868521395283152, 0.581081081081081, 'gini = 0.0\\nsamples = 1\\nvalue = [0, 1]'),\n Text(0.10868521395283152, 0.6351351351351351, 'gini = 0.0\\nsamples = 4\\nvalue = [4, 0]'),\n Text(0.11094478181047875, 0.6621621621621622, 'x[6] <= 1.646\\ngini = 0.117\\nsamples = 32\\nvalue = [30, 2]'),\n Text(0.1095890410958904, 0.6351351351351351, 'x[1] <= 2.5\\ngini = 0.074\\nsamples = 26\\nvalue = [25, 1]'),\n Text(0.10913712752436097, 0.6081081081081081, 'gini = 0.0\\nsamples = 19\\nvalue = [19, 0]'),\n Text(0.11004095466741985, 0.6081081081081081, 'x[6] <= 1.618\\ngini = 0.245\\nsamples = 7\\nvalue = [6, 1]'),\n Text(0.1095890410958904, 0.581081081081081, 'gini = 0.0\\nsamples = 4\\nvalue = [4, 0]'),\n Text(0.1104928682389493, 0.581081081081081, 'x[6] <= 1.63\\ngini = 0.444\\nsamples = 3\\nvalue = [2, 1]'),\n Text(0.11004095466741985, 0.5540540540540541, 'gini = 0.0\\nsamples = 1\\nvalue = [0, 1]'),\n Text(0.11094478181047875, 0.5540540540540541, 'gini = 0.0\\nsamples = 2\\nvalue = [2, 0]'),\n Text(0.11230052252506709, 0.6351351351351351, 'x[2] <= 30.5\\ngini = 0.278\\nsamples = 6\\nvalue = [5, 1]'),\n Text(0.11184860895353764, 0.6081081081081081, 'x[1] <= 2.5\\ngini = 0.5\\nsamples = 2\\nvalue = [1, 1]'),\n Text(0.11139669538200819, 0.581081081081081, 'gini = 0.0\\nsamples = 1\\nvalue = [0, 1]'),\n Text(0.11230052252506709, 0.581081081081081, 'gini = 0.0\\nsamples = 1\\nvalue = [1, 0]'),\n Text(0.11275243609659652, 0.6081081081081081, 'gini = 0.0\\nsamples = 4\\nvalue = [4, 0]'),\n Text(0.11230052252506709, 0.6891891891891891, 'x[2] <= 32.0\\ngini = 0.5\\nsamples = 2\\nvalue = [1, 1]'),\n Text(0.11184860895353764, 0.6621621621621622, 'gini = 0.0\\nsamples = 1\\nvalue = [1, 0]'),\n Text(0.11275243609659652, 0.6621621621621622, 'gini = 0.0\\nsamples = 1\\nvalue = [0, 1]'),\n Text(0.11501200395424375, 0.7162162162162162, 'x[2] <= 31.5\\ngini = 0.408\\nsamples = 14\\nvalue = [10, 4]'),\n Text(0.11410817681118486, 0.6891891891891891, 'x[3] <= 0.5\\ngini = 0.198\\nsamples = 9\\nvalue = [8, 1]'),\n Text(0.11365626323965541, 0.6621621621621622, 'x[6] <= 1.595\\ngini = 0.444\\nsamples = 3\\nvalue = [2, 1]'),\n Text(0.11320434966812597, 0.6351351351351351, 'gini = 0.0\\nsamples = 1\\nvalue = [1, 0]'),\n Text(0.11410817681118486, 0.6351351351351351, 'x[0] <= 1.5\\ngini = 0.5\\nsamples = 2\\nvalue = [1, 1]'),\n Text(0.11365626323965541, 0.6081081081081081, 'gini = 0.0\\nsamples = 1\\nvalue = [0, 1]'),\n Text(0.11456009038271431, 0.6081081081081081, 'gini = 0.0\\nsamples = 1\\nvalue = [1, 0]'),\n Text(0.11456009038271431, 0.6621621621621622, 'gini = 0.0\\nsamples = 6\\nvalue = [6, 0]'),\n Text(0.11591583109730264, 0.6891891891891891, 'x[6] <= 1.623\\ngini = 0.48\\nsamples = 5\\nvalue = [2, 3]'),\n Text(0.1154639175257732, 0.6621621621621622, 'gini = 0.0\\nsamples = 2\\nvalue = [0, 2]'),\n Text(0.11636774466883208, 0.6621621621621622, 'x[4] <= 0.5\\ngini = 0.444\\nsamples = 3\\nvalue = [2, 1]'),\n Text(0.11591583109730264, 0.6351351351351351, 'gini = 0.0\\nsamples = 1\\nvalue = [0, 1]'),\n Text(0.11681965824036153, 0.6351351351351351, 'gini = 0.0\\nsamples = 2\\nvalue = [2, 0]'),\n Text(0.11388222002542014, 0.7432432432432432, 'gini = 0.0\\nsamples = 26\\nvalue = [26, 0]'),\n Text(0.12779974579861603, 0.8513513513513513, 'x[6] <= 1.665\\ngini = 0.303\\nsamples = 113\\nvalue = [92, 21]'),\n Text(0.1256743397825166, 0.8243243243243243, 'x[4] <= 0.5\\ngini = 0.276\\nsamples = 109\\nvalue = [91, 18]'),\n Text(0.12277926846490608, 0.7972972972972973, 'x[6] <= 1.4\\ngini = 0.333\\nsamples = 71\\nvalue = [56, 15]'),\n Text(0.12015252083039119, 0.7702702702702703, 'x[2] <= 30.5\\ngini = 0.426\\nsamples = 39\\nvalue = [27, 12]'),\n Text(0.11851433413359695, 0.7432432432432432, 'x[1] <= 0.5\\ngini = 0.32\\nsamples = 30\\nvalue = [24, 6]'),\n Text(0.11727157181189098, 0.7162162162162162, 'x[3] <= 0.5\\ngini = 0.5\\nsamples = 2\\nvalue = [1, 1]'),\n Text(0.11681965824036153, 0.6891891891891891, 'gini = 0.0\\nsamples = 1\\nvalue = [0, 1]'),\n Text(0.11772348538342042, 0.6891891891891891, 'gini = 0.0\\nsamples = 1\\nvalue = [1, 0]'),\n Text(0.11975709645530293, 0.7162162162162162, 'x[6] <= 1.08\\ngini = 0.293\\nsamples = 28\\nvalue = [23, 5]'),\n Text(0.11862731252647932, 0.6891891891891891, 'x[6] <= 1.062\\ngini = 0.397\\nsamples = 11\\nvalue = [8, 3]'),\n Text(0.11817539895494987, 0.6621621621621622, 'x[1] <= 2.5\\ngini = 0.198\\nsamples = 9\\nvalue = [8, 1]'),\n Text(0.11772348538342042, 0.6351351351351351, 'gini = 0.0\\nsamples = 5\\nvalue = [5, 0]'),\n Text(0.11862731252647932, 0.6351351351351351, 'x[6] <= 1.03\\ngini = 0.375\\nsamples = 4\\nvalue = [3, 1]'),\n Text(0.11817539895494987, 0.6081081081081081, 'x[6] <= 1.0\\ngini = 0.5\\nsamples = 2\\nvalue = [1, 1]'),\n Text(0.11772348538342042, 0.581081081081081, 'gini = 0.0\\nsamples = 1\\nvalue = [1, 0]'),\n Text(0.11862731252647932, 0.581081081081081, 'gini = 0.0\\nsamples = 1\\nvalue = [0, 1]'),\n Text(0.11907922609800875, 0.6081081081081081, 'gini = 0.0\\nsamples = 2\\nvalue = [2, 0]'),\n Text(0.11907922609800875, 0.6621621621621622, 'gini = 0.0\\nsamples = 2\\nvalue = [0, 2]'),\n Text(0.12088688038412654, 0.6891891891891891, 'x[6] <= 1.195\\ngini = 0.208\\nsamples = 17\\nvalue = [15, 2]'),\n Text(0.12043496681259709, 0.6621621621621622, 'gini = 0.0\\nsamples = 5\\nvalue = [5, 0]'),\n Text(0.12133879395565599, 0.6621621621621622, 'x[6] <= 1.205\\ngini = 0.278\\nsamples = 12\\nvalue = [10, 2]'),\n Text(0.12043496681259709, 0.6351351351351351, 'x[2] <= 28.5\\ngini = 0.5\\nsamples = 2\\nvalue = [1, 1]'),\n Text(0.11998305324106764, 0.6081081081081081, 'gini = 0.0\\nsamples = 1\\nvalue = [0, 1]'),\n Text(0.12088688038412654, 0.6081081081081081, 'gini = 0.0\\nsamples = 1\\nvalue = [1, 0]'),\n Text(0.12224262109871487, 0.6351351351351351, 'x[2] <= 29.5\\ngini = 0.18\\nsamples = 10\\nvalue = [9, 1]'),\n Text(0.12179070752718543, 0.6081081081081081, 'gini = 0.0\\nsamples = 8\\nvalue = [8, 0]'),\n Text(0.12269453467024431, 0.6081081081081081, 'x[6] <= 1.34\\ngini = 0.5\\nsamples = 2\\nvalue = [1, 1]'),\n Text(0.12224262109871487, 0.581081081081081, 'gini = 0.0\\nsamples = 1\\nvalue = [0, 1]'),\n Text(0.12314644824177376, 0.581081081081081, 'gini = 0.0\\nsamples = 1\\nvalue = [1, 0]'),\n Text(0.12179070752718543, 0.7432432432432432, 'x[1] <= 2.0\\ngini = 0.444\\nsamples = 9\\nvalue = [3, 6]'),\n Text(0.12133879395565599, 0.7162162162162162, 'gini = 0.0\\nsamples = 5\\nvalue = [0, 5]'),\n Text(0.12224262109871487, 0.7162162162162162, 'x[3] <= 0.5\\ngini = 0.375\\nsamples = 4\\nvalue = [3, 1]'),\n Text(0.12179070752718543, 0.6891891891891891, 'gini = 0.0\\nsamples = 1\\nvalue = [0, 1]'),\n Text(0.12269453467024431, 0.6891891891891891, 'gini = 0.0\\nsamples = 3\\nvalue = [3, 0]'),\n Text(0.12540601609942098, 0.7702702702702703, 'x[6] <= 1.615\\ngini = 0.17\\nsamples = 32\\nvalue = [29, 3]'),\n Text(0.1245021889563621, 0.7432432432432432, 'x[6] <= 1.446\\ngini = 0.074\\nsamples = 26\\nvalue = [25, 1]'),\n Text(0.12405027538483265, 0.7162162162162162, 'x[6] <= 1.438\\ngini = 0.278\\nsamples = 6\\nvalue = [5, 1]'),\n Text(0.1235983618133032, 0.6891891891891891, 'gini = 0.0\\nsamples = 5\\nvalue = [5, 0]'),\n Text(0.1245021889563621, 0.6891891891891891, 'gini = 0.0\\nsamples = 1\\nvalue = [0, 1]'),\n Text(0.12495410252789155, 0.7162162162162162, 'gini = 0.0\\nsamples = 20\\nvalue = [20, 0]'),\n Text(0.12630984324247987, 0.7432432432432432, 'x[2] <= 33.5\\ngini = 0.444\\nsamples = 6\\nvalue = [4, 2]'),\n Text(0.12585792967095044, 0.7162162162162162, 'gini = 0.0\\nsamples = 3\\nvalue = [3, 0]'),\n Text(0.1267617568140093, 0.7162162162162162, 'x[3] <= 0.5\\ngini = 0.444\\nsamples = 3\\nvalue = [1, 2]'),\n Text(0.12630984324247987, 0.6891891891891891, 'gini = 0.0\\nsamples = 2\\nvalue = [0, 2]'),\n Text(0.12721367038553877, 0.6891891891891891, 'gini = 0.0\\nsamples = 1\\nvalue = [1, 0]'),\n Text(0.1285694111001271, 0.7972972972972973, 'x[6] <= 1.442\\ngini = 0.145\\nsamples = 38\\nvalue = [35, 3]'),\n Text(0.12811749752859766, 0.7702702702702703, 'gini = 0.0\\nsamples = 18\\nvalue = [18, 0]'),\n Text(0.12902132467165656, 0.7702702702702703, 'x[6] <= 1.505\\ngini = 0.255\\nsamples = 20\\nvalue = [17, 3]'),\n Text(0.12811749752859766, 0.7432432432432432, 'x[5] <= 0.5\\ngini = 0.444\\nsamples = 3\\nvalue = [1, 2]'),\n Text(0.1276655839570682, 0.7162162162162162, 'gini = 0.0\\nsamples = 1\\nvalue = [1, 0]'),\n Text(0.1285694111001271, 0.7162162162162162, 'gini = 0.0\\nsamples = 2\\nvalue = [0, 2]'),\n Text(0.12992515181471542, 0.7432432432432432, 'x[2] <= 30.5\\ngini = 0.111\\nsamples = 17\\nvalue = [16, 1]'),\n Text(0.129473238243186, 0.7162162162162162, 'x[5] <= 0.5\\ngini = 0.278\\nsamples = 6\\nvalue = [5, 1]'),\n Text(0.12902132467165656, 0.6891891891891891, 'gini = 0.0\\nsamples = 3\\nvalue = [3, 0]'),\n Text(0.12992515181471542, 0.6891891891891891, 'x[6] <= 1.56\\ngini = 0.444\\nsamples = 3\\nvalue = [2, 1]'),\n Text(0.129473238243186, 0.6621621621621622, 'gini = 0.0\\nsamples = 1\\nvalue = [0, 1]'),\n Text(0.13037706538624488, 0.6621621621621622, 'gini = 0.0\\nsamples = 2\\nvalue = [2, 0]'),\n Text(0.13037706538624488, 0.7162162162162162, 'gini = 0.0\\nsamples = 11\\nvalue = [11, 0]'),\n Text(0.12992515181471542, 0.8243243243243243, 'x[6] <= 1.672\\ngini = 0.375\\nsamples = 4\\nvalue = [1, 3]'),\n Text(0.129473238243186, 0.7972972972972973, 'gini = 0.0\\nsamples = 2\\nvalue = [0, 2]'),\n Text(0.13037706538624488, 0.7972972972972973, 'x[6] <= 1.677\\ngini = 0.5\\nsamples = 2\\nvalue = [1, 1]'),\n Text(0.12992515181471542, 0.7702702702702703, 'gini = 0.0\\nsamples = 1\\nvalue = [1, 0]'),\n Text(0.13082897895777432, 0.7702702702702703, 'gini = 0.0\\nsamples = 1\\nvalue = [0, 1]'),\n Text(0.1448956715153227, 0.9054054054054054, 'x[2] <= 27.5\\ngini = 0.119\\nsamples = 928\\nvalue = [869, 59]'),\n Text(0.13399237395848043, 0.8783783783783784, 'x[4] <= 0.5\\ngini = 0.332\\nsamples = 57\\nvalue = [45, 12]'),\n Text(0.13308854681542154, 0.8513513513513513, 'x[6] <= 0.875\\ngini = 0.149\\nsamples = 37\\nvalue = [34, 3]'),\n Text(0.1326366332438921, 0.8243243243243243, 'x[6] <= 0.852\\ngini = 0.42\\nsamples = 10\\nvalue = [7, 3]'),\n Text(0.13218471967236267, 0.7972972972972973, 'x[0] <= 1.5\\ngini = 0.346\\nsamples = 9\\nvalue = [7, 2]'),\n Text(0.1317328061008332, 0.7702702702702703, 'gini = 0.0\\nsamples = 1\\nvalue = [0, 1]'),\n Text(0.1326366332438921, 0.7702702702702703, 'x[6] <= 0.595\\ngini = 0.219\\nsamples = 8\\nvalue = [7, 1]'),\n Text(0.13218471967236267, 0.7432432432432432, 'x[0] <= 2.5\\ngini = 0.5\\nsamples = 2\\nvalue = [1, 1]'),\n Text(0.1317328061008332, 0.7162162162162162, 'gini = 0.0\\nsamples = 1\\nvalue = [1, 0]'),\n Text(0.1326366332438921, 0.7162162162162162, 'gini = 0.0\\nsamples = 1\\nvalue = [0, 1]'),\n Text(0.13308854681542154, 0.7432432432432432, 'gini = 0.0\\nsamples = 6\\nvalue = [6, 0]'),\n Text(0.13308854681542154, 0.7972972972972973, 'gini = 0.0\\nsamples = 1\\nvalue = [0, 1]'),\n Text(0.133540460386951, 0.8243243243243243, 'gini = 0.0\\nsamples = 27\\nvalue = [27, 0]'),\n Text(0.13489620110153933, 0.8513513513513513, 'x[6] <= 1.365\\ngini = 0.495\\nsamples = 20\\nvalue = [11, 9]'),\n Text(0.1344442875300099, 0.8243243243243243, 'x[6] <= 0.615\\ngini = 0.457\\nsamples = 17\\nvalue = [11, 6]'),\n Text(0.13399237395848043, 0.7972972972972973, 'gini = 0.0\\nsamples = 2\\nvalue = [0, 2]'),\n Text(0.13489620110153933, 0.7972972972972973, 'x[6] <= 0.91\\ngini = 0.391\\nsamples = 15\\nvalue = [11, 4]'),\n Text(0.1344442875300099, 0.7702702702702703, 'gini = 0.0\\nsamples = 5\\nvalue = [5, 0]'),\n Text(0.1353481146730688, 0.7702702702702703, 'x[6] <= 1.175\\ngini = 0.48\\nsamples = 10\\nvalue = [6, 4]'),\n Text(0.13489620110153933, 0.7432432432432432, 'x[3] <= 0.5\\ngini = 0.444\\nsamples = 6\\nvalue = [2, 4]'),\n Text(0.1344442875300099, 0.7162162162162162, 'x[6] <= 1.095\\ngini = 0.444\\nsamples = 3\\nvalue = [2, 1]'),\n Text(0.13399237395848043, 0.6891891891891891, 'gini = 0.0\\nsamples = 2\\nvalue = [2, 0]'),\n Text(0.13489620110153933, 0.6891891891891891, 'gini = 0.0\\nsamples = 1\\nvalue = [0, 1]'),\n Text(0.1353481146730688, 0.7162162162162162, 'gini = 0.0\\nsamples = 3\\nvalue = [0, 3]'),\n Text(0.13580002824459822, 0.7432432432432432, 'gini = 0.0\\nsamples = 4\\nvalue = [4, 0]'),\n Text(0.1353481146730688, 0.8243243243243243, 'gini = 0.0\\nsamples = 3\\nvalue = [0, 3]'),\n Text(0.15579896907216495, 0.8783783783783784, 'x[0] <= 0.5\\ngini = 0.102\\nsamples = 871\\nvalue = [824, 47]'),\n Text(0.15534705550063552, 0.8513513513513513, 'gini = 0.0\\nsamples = 1\\nvalue = [0, 1]'),\n Text(0.15625088264369438, 0.8513513513513513, 'x[6] <= 1.352\\ngini = 0.1\\nsamples = 870\\nvalue = [824, 46]'),\n Text(0.14845713882220024, 0.8243243243243243, 'x[2] <= 35.5\\ngini = 0.151\\nsamples = 378\\nvalue = [347, 31]'),\n Text(0.14052393729699195, 0.7972972972972973, 'x[6] <= 0.545\\ngini = 0.184\\nsamples = 292\\nvalue = [262, 30]'),\n Text(0.13715576895918655, 0.7702702702702703, 'x[6] <= 0.297\\ngini = 0.444\\nsamples = 9\\nvalue = [6, 3]'),\n Text(0.1367038553876571, 0.7432432432432432, 'gini = 0.0\\nsamples = 6\\nvalue = [6, 0]'),\n Text(0.137607682530716, 0.7432432432432432, 'gini = 0.0\\nsamples = 3\\nvalue = [0, 3]'),\n Text(0.14389210563479735, 0.7702702702702703, 'x[6] <= 1.262\\ngini = 0.173\\nsamples = 283\\nvalue = [256, 27]'),\n Text(0.1385115096737749, 0.7432432432432432, 'x[5] <= 0.5\\ngini = 0.131\\nsamples = 198\\nvalue = [184, 14]'),\n Text(0.1369580567716424, 0.7162162162162162, 'x[3] <= 0.5\\ngini = 0.081\\nsamples = 142\\nvalue = [136, 6]'),\n Text(0.13650614320011298, 0.6891891891891891, 'x[6] <= 1.0\\ngini = 0.159\\nsamples = 69\\nvalue = [63, 6]'),\n Text(0.13560231605705408, 0.6621621621621622, 'x[6] <= 0.995\\ngini = 0.444\\nsamples = 12\\nvalue = [8, 4]'),\n Text(0.13515040248552465, 0.6351351351351351, 'x[2] <= 30.5\\ngini = 0.397\\nsamples = 11\\nvalue = [8, 3]'),\n Text(0.1346984889139952, 0.6081081081081081, 'x[6] <= 0.968\\ngini = 0.444\\nsamples = 9\\nvalue = [6, 3]'),\n Text(0.13424657534246576, 0.581081081081081, 'x[6] <= 0.877\\ngini = 0.375\\nsamples = 8\\nvalue = [6, 2]'),\n Text(0.1337946617709363, 0.5540540540540541, 'x[6] <= 0.695\\ngini = 0.48\\nsamples = 5\\nvalue = [3, 2]'),\n Text(0.13334274819940686, 0.527027027027027, 'gini = 0.0\\nsamples = 2\\nvalue = [2, 0]'),\n Text(0.13424657534246576, 0.527027027027027, 'x[2] <= 29.5\\ngini = 0.444\\nsamples = 3\\nvalue = [1, 2]'),\n Text(0.1337946617709363, 0.5, 'gini = 0.0\\nsamples = 2\\nvalue = [0, 2]'),\n Text(0.1346984889139952, 0.5, 'gini = 0.0\\nsamples = 1\\nvalue = [1, 0]'),\n Text(0.1346984889139952, 0.5540540540540541, 'gini = 0.0\\nsamples = 3\\nvalue = [3, 0]'),\n Text(0.13515040248552465, 0.581081081081081, 'gini = 0.0\\nsamples = 1\\nvalue = [0, 1]'),\n Text(0.13560231605705408, 0.6081081081081081, 'gini = 0.0\\nsamples = 2\\nvalue = [2, 0]'),\n Text(0.13605422962858355, 0.6351351351351351, 'gini = 0.0\\nsamples = 1\\nvalue = [0, 1]'),\n Text(0.13740997034317187, 0.6621621621621622, 'x[6] <= 1.181\\ngini = 0.068\\nsamples = 57\\nvalue = [55, 2]'),\n Text(0.1369580567716424, 0.6351351351351351, 'gini = 0.0\\nsamples = 35\\nvalue = [35, 0]'),\n Text(0.1378618839147013, 0.6351351351351351, 'x[6] <= 1.187\\ngini = 0.165\\nsamples = 22\\nvalue = [20, 2]'),\n Text(0.13740997034317187, 0.6081081081081081, 'gini = 0.0\\nsamples = 1\\nvalue = [0, 1]'),\n Text(0.13831379748623077, 0.6081081081081081, 'x[1] <= 4.5\\ngini = 0.091\\nsamples = 21\\nvalue = [20, 1]'),\n Text(0.1378618839147013, 0.581081081081081, 'x[6] <= 1.225\\ngini = 0.198\\nsamples = 9\\nvalue = [8, 1]'),\n Text(0.13740997034317187, 0.5540540540540541, 'gini = 0.0\\nsamples = 4\\nvalue = [4, 0]'),\n Text(0.13831379748623077, 0.5540540540540541, 'x[2] <= 29.5\\ngini = 0.32\\nsamples = 5\\nvalue = [4, 1]'),\n Text(0.1378618839147013, 0.527027027027027, 'x[2] <= 28.5\\ngini = 0.5\\nsamples = 2\\nvalue = [1, 1]'),\n Text(0.13740997034317187, 0.5, 'gini = 0.0\\nsamples = 1\\nvalue = [1, 0]'),\n Text(0.13831379748623077, 0.5, 'gini = 0.0\\nsamples = 1\\nvalue = [0, 1]'),\n Text(0.1387657110577602, 0.527027027027027, 'gini = 0.0\\nsamples = 3\\nvalue = [3, 0]'),\n Text(0.1387657110577602, 0.581081081081081, 'gini = 0.0\\nsamples = 12\\nvalue = [12, 0]'),\n Text(0.13740997034317187, 0.6891891891891891, 'gini = 0.0\\nsamples = 73\\nvalue = [73, 0]'),\n Text(0.14006496257590736, 0.7162162162162162, 'x[6] <= 0.73\\ngini = 0.245\\nsamples = 56\\nvalue = [48, 8]'),\n Text(0.13916113543284847, 0.6891891891891891, 'x[1] <= 5.0\\ngini = 0.5\\nsamples = 2\\nvalue = [1, 1]'),\n Text(0.138709221861319, 0.6621621621621622, 'gini = 0.0\\nsamples = 1\\nvalue = [1, 0]'),\n Text(0.1396130490043779, 0.6621621621621622, 'gini = 0.0\\nsamples = 1\\nvalue = [0, 1]'),\n Text(0.14096878971896626, 0.6891891891891891, 'x[6] <= 0.995\\ngini = 0.226\\nsamples = 54\\nvalue = [47, 7]'),\n Text(0.1405168761474368, 0.6621621621621622, 'gini = 0.0\\nsamples = 16\\nvalue = [16, 0]'),\n Text(0.1414207032904957, 0.6621621621621622, 'x[3] <= 0.5\\ngini = 0.301\\nsamples = 38\\nvalue = [31, 7]'),\n Text(0.1396695382008191, 0.6351351351351351, 'x[6] <= 1.149\\ngini = 0.444\\nsamples = 9\\nvalue = [6, 3]'),\n Text(0.13921762462928966, 0.6081081081081081, 'gini = 0.0\\nsamples = 3\\nvalue = [3, 0]'),\n Text(0.14012145177234853, 0.6081081081081081, 'x[6] <= 1.18\\ngini = 0.5\\nsamples = 6\\nvalue = [3, 3]'),\n Text(0.1396695382008191, 0.581081081081081, 'gini = 0.0\\nsamples = 2\\nvalue = [0, 2]'),\n Text(0.140573365343878, 0.581081081081081, 'x[2] <= 28.5\\ngini = 0.375\\nsamples = 4\\nvalue = [3, 1]'),\n Text(0.14012145177234853, 0.5540540540540541, 'gini = 0.0\\nsamples = 1\\nvalue = [0, 1]'),\n Text(0.14102527891540742, 0.5540540540540541, 'gini = 0.0\\nsamples = 3\\nvalue = [3, 0]'),\n Text(0.1431718683801723, 0.6351351351351351, 'x[4] <= 0.5\\ngini = 0.238\\nsamples = 29\\nvalue = [25, 4]'),\n Text(0.14192910605846631, 0.6081081081081081, 'x[6] <= 1.158\\ngini = 0.5\\nsamples = 2\\nvalue = [1, 1]'),\n Text(0.14147719248693688, 0.581081081081081, 'gini = 0.0\\nsamples = 1\\nvalue = [0, 1]'),\n Text(0.14238101962999578, 0.581081081081081, 'gini = 0.0\\nsamples = 1\\nvalue = [1, 0]'),\n Text(0.14441463070187827, 0.6081081081081081, 'x[6] <= 1.005\\ngini = 0.198\\nsamples = 27\\nvalue = [24, 3]'),\n Text(0.14328484677305464, 0.581081081081081, 'x[2] <= 32.0\\ngini = 0.5\\nsamples = 2\\nvalue = [1, 1]'),\n Text(0.1428329332015252, 0.5540540540540541, 'gini = 0.0\\nsamples = 1\\nvalue = [0, 1]'),\n Text(0.1437367603445841, 0.5540540540540541, 'gini = 0.0\\nsamples = 1\\nvalue = [1, 0]'),\n Text(0.1455444146307019, 0.581081081081081, 'x[2] <= 33.5\\ngini = 0.147\\nsamples = 25\\nvalue = [23, 2]'),\n Text(0.144640587487643, 0.5540540540540541, 'x[2] <= 29.5\\ngini = 0.087\\nsamples = 22\\nvalue = [21, 1]'),\n Text(0.14418867391611354, 0.527027027027027, 'x[1] <= 4.5\\ngini = 0.219\\nsamples = 8\\nvalue = [7, 1]'),\n Text(0.1437367603445841, 0.5, 'gini = 0.0\\nsamples = 5\\nvalue = [5, 0]'),\n Text(0.144640587487643, 0.5, 'x[0] <= 2.5\\ngini = 0.444\\nsamples = 3\\nvalue = [2, 1]'),\n Text(0.14418867391611354, 0.47297297297297297, 'gini = 0.0\\nsamples = 1\\nvalue = [0, 1]'),\n Text(0.14509250105917243, 0.47297297297297297, 'gini = 0.0\\nsamples = 2\\nvalue = [2, 0]'),\n Text(0.14509250105917243, 0.527027027027027, 'gini = 0.0\\nsamples = 14\\nvalue = [14, 0]'),\n Text(0.14644824177376076, 0.5540540540540541, 'x[0] <= 1.5\\ngini = 0.444\\nsamples = 3\\nvalue = [2, 1]'),\n Text(0.14599632820223132, 0.527027027027027, 'gini = 0.0\\nsamples = 2\\nvalue = [2, 0]'),\n Text(0.14690015534529022, 0.527027027027027, 'gini = 0.0\\nsamples = 1\\nvalue = [0, 1]'),\n Text(0.1492727015958198, 0.7432432432432432, 'x[6] <= 1.275\\ngini = 0.259\\nsamples = 85\\nvalue = [72, 13]'),\n Text(0.14644824177376076, 0.7162162162162162, 'x[1] <= 5.5\\ngini = 0.444\\nsamples = 9\\nvalue = [6, 3]'),\n Text(0.14599632820223132, 0.6891891891891891, 'x[6] <= 1.267\\ngini = 0.245\\nsamples = 7\\nvalue = [6, 1]'),\n Text(0.1455444146307019, 0.6621621621621622, 'x[2] <= 29.5\\ngini = 0.444\\nsamples = 3\\nvalue = [2, 1]'),\n Text(0.14509250105917243, 0.6351351351351351, 'gini = 0.0\\nsamples = 1\\nvalue = [0, 1]'),\n Text(0.14599632820223132, 0.6351351351351351, 'gini = 0.0\\nsamples = 2\\nvalue = [2, 0]'),\n Text(0.14644824177376076, 0.6621621621621622, 'gini = 0.0\\nsamples = 4\\nvalue = [4, 0]'),\n Text(0.14690015534529022, 0.6891891891891891, 'gini = 0.0\\nsamples = 2\\nvalue = [0, 2]'),\n Text(0.15209716141787882, 0.7162162162162162, 'x[1] <= 5.5\\ngini = 0.229\\nsamples = 76\\nvalue = [66, 10]'),\n Text(0.14961163677446687, 0.6891891891891891, 'x[0] <= 2.5\\ngini = 0.295\\nsamples = 50\\nvalue = [41, 9]'),\n Text(0.14735206891681965, 0.6621621621621622, 'x[2] <= 30.5\\ngini = 0.188\\nsamples = 38\\nvalue = [34, 4]'),\n Text(0.14690015534529022, 0.6351351351351351, 'gini = 0.0\\nsamples = 19\\nvalue = [19, 0]'),\n Text(0.1478039824883491, 0.6351351351351351, 'x[0] <= 1.5\\ngini = 0.332\\nsamples = 19\\nvalue = [15, 4]'),\n Text(0.14690015534529022, 0.6081081081081081, 'x[4] <= 0.5\\ngini = 0.5\\nsamples = 4\\nvalue = [2, 2]'),\n Text(0.14644824177376076, 0.581081081081081, 'gini = 0.0\\nsamples = 2\\nvalue = [2, 0]'),\n Text(0.14735206891681965, 0.581081081081081, 'gini = 0.0\\nsamples = 2\\nvalue = [0, 2]'),\n Text(0.148707809631408, 0.6081081081081081, 'x[2] <= 31.5\\ngini = 0.231\\nsamples = 15\\nvalue = [13, 2]'),\n Text(0.14825589605987854, 0.581081081081081, 'x[1] <= 4.5\\ngini = 0.5\\nsamples = 4\\nvalue = [2, 2]'),\n Text(0.1478039824883491, 0.5540540540540541, 'gini = 0.0\\nsamples = 1\\nvalue = [1, 0]'),\n Text(0.148707809631408, 0.5540540540540541, 'x[6] <= 1.33\\ngini = 0.444\\nsamples = 3\\nvalue = [1, 2]'),\n Text(0.14825589605987854, 0.527027027027027, 'gini = 0.0\\nsamples = 2\\nvalue = [0, 2]'),\n Text(0.14915972320293744, 0.527027027027027, 'gini = 0.0\\nsamples = 1\\nvalue = [1, 0]'),\n Text(0.14915972320293744, 0.581081081081081, 'gini = 0.0\\nsamples = 11\\nvalue = [11, 0]'),\n Text(0.15187120463211412, 0.6621621621621622, 'x[2] <= 29.5\\ngini = 0.486\\nsamples = 12\\nvalue = [7, 5]'),\n Text(0.15096737748905523, 0.6351351351351351, 'x[2] <= 28.5\\ngini = 0.32\\nsamples = 5\\nvalue = [1, 4]'),\n Text(0.15051546391752577, 0.6081081081081081, 'x[4] <= 0.5\\ngini = 0.5\\nsamples = 2\\nvalue = [1, 1]'),\n Text(0.15006355034599633, 0.581081081081081, 'gini = 0.0\\nsamples = 1\\nvalue = [1, 0]'),\n Text(0.15096737748905523, 0.581081081081081, 'gini = 0.0\\nsamples = 1\\nvalue = [0, 1]'),\n Text(0.15141929106058466, 0.6081081081081081, 'gini = 0.0\\nsamples = 3\\nvalue = [0, 3]'),\n Text(0.152775031775173, 0.6351351351351351, 'x[6] <= 1.347\\ngini = 0.245\\nsamples = 7\\nvalue = [6, 1]'),\n Text(0.15232311820364355, 0.6081081081081081, 'gini = 0.0\\nsamples = 6\\nvalue = [6, 0]'),\n Text(0.15322694534670245, 0.6081081081081081, 'gini = 0.0\\nsamples = 1\\nvalue = [0, 1]'),\n Text(0.15458268606129077, 0.6891891891891891, 'x[6] <= 1.285\\ngini = 0.074\\nsamples = 26\\nvalue = [25, 1]'),\n Text(0.15413077248976134, 0.6621621621621622, 'x[6] <= 1.282\\ngini = 0.5\\nsamples = 2\\nvalue = [1, 1]'),\n Text(0.15367885891823188, 0.6351351351351351, 'gini = 0.0\\nsamples = 1\\nvalue = [1, 0]'),\n Text(0.15458268606129077, 0.6351351351351351, 'gini = 0.0\\nsamples = 1\\nvalue = [0, 1]'),\n Text(0.15503459963282024, 0.6621621621621622, 'gini = 0.0\\nsamples = 24\\nvalue = [24, 0]'),\n Text(0.15639034034740856, 0.7972972972972973, 'x[2] <= 37.5\\ngini = 0.023\\nsamples = 86\\nvalue = [85, 1]'),\n Text(0.1559384267758791, 0.7702702702702703, 'x[6] <= 0.096\\ngini = 0.1\\nsamples = 19\\nvalue = [18, 1]'),\n Text(0.15548651320434967, 0.7432432432432432, 'x[1] <= 6.0\\ngini = 0.32\\nsamples = 5\\nvalue = [4, 1]'),\n Text(0.15503459963282024, 0.7162162162162162, 'gini = 0.0\\nsamples = 2\\nvalue = [2, 0]'),\n Text(0.1559384267758791, 0.7162162162162162, 'x[1] <= 8.0\\ngini = 0.444\\nsamples = 3\\nvalue = [2, 1]'),\n Text(0.15548651320434967, 0.6891891891891891, 'gini = 0.0\\nsamples = 1\\nvalue = [0, 1]'),\n Text(0.15639034034740856, 0.6891891891891891, 'gini = 0.0\\nsamples = 2\\nvalue = [2, 0]'),\n Text(0.15639034034740856, 0.7432432432432432, 'gini = 0.0\\nsamples = 14\\nvalue = [14, 0]'),\n Text(0.156842253918938, 0.7702702702702703, 'gini = 0.0\\nsamples = 67\\nvalue = [67, 0]'),\n Text(0.16404462646518853, 0.8243243243243243, 'x[0] <= 2.5\\ngini = 0.059\\nsamples = 492\\nvalue = [477, 15]'),\n Text(0.1635927128936591, 0.7972972972972973, 'x[1] <= 10.5\\ngini = 0.074\\nsamples = 390\\nvalue = [375, 15]'),\n Text(0.1617568140093207, 0.7702702702702703, 'x[2] <= 38.5\\ngini = 0.07\\nsamples = 387\\nvalue = [373, 14]'),\n Text(0.1594407569552323, 0.7432432432432432, 'x[0] <= 1.5\\ngini = 0.066\\nsamples = 381\\nvalue = [368, 13]'),\n Text(0.15898884338370287, 0.7162162162162162, 'gini = 0.0\\nsamples = 58\\nvalue = [58, 0]'),\n Text(0.15989267052676176, 0.7162162162162162, 'x[6] <= 1.664\\ngini = 0.077\\nsamples = 323\\nvalue = [310, 13]'),\n Text(0.15752012427623216, 0.6891891891891891, 'x[2] <= 29.5\\ngini = 0.07\\nsamples = 305\\nvalue = [294, 11]'),\n Text(0.15706821070470273, 0.6621621621621622, 'gini = 0.0\\nsamples = 41\\nvalue = [41, 0]'),\n Text(0.15797203784776162, 0.6621621621621622, 'x[6] <= 1.522\\ngini = 0.08\\nsamples = 264\\nvalue = [253, 11]'),\n Text(0.15548651320434967, 0.6351351351351351, 'x[6] <= 1.517\\ngini = 0.119\\nsamples = 110\\nvalue = [103, 7]'),\n Text(0.15413077248976134, 0.6081081081081081, 'x[1] <= 4.5\\ngini = 0.092\\nsamples = 103\\nvalue = [98, 5]'),\n Text(0.15367885891823188, 0.581081081081081, 'gini = 0.0\\nsamples = 35\\nvalue = [35, 0]'),\n Text(0.15458268606129077, 0.581081081081081, 'x[6] <= 1.475\\ngini = 0.136\\nsamples = 68\\nvalue = [63, 5]'),\n Text(0.15413077248976134, 0.5540540540540541, 'x[6] <= 1.392\\ngini = 0.19\\nsamples = 47\\nvalue = [42, 5]'),\n Text(0.15367885891823188, 0.527027027027027, 'gini = 0.0\\nsamples = 13\\nvalue = [13, 0]'),\n Text(0.15458268606129077, 0.527027027027027, 'x[6] <= 1.397\\ngini = 0.251\\nsamples = 34\\nvalue = [29, 5]'),\n Text(0.15413077248976134, 0.5, 'gini = 0.0\\nsamples = 1\\nvalue = [0, 1]'),\n Text(0.15503459963282024, 0.5, 'x[1] <= 5.5\\ngini = 0.213\\nsamples = 33\\nvalue = [29, 4]'),\n Text(0.15413077248976134, 0.47297297297297297, 'x[2] <= 30.5\\ngini = 0.42\\nsamples = 10\\nvalue = [7, 3]'),\n Text(0.15367885891823188, 0.44594594594594594, 'gini = 0.0\\nsamples = 1\\nvalue = [0, 1]'),\n Text(0.15458268606129077, 0.44594594594594594, 'x[3] <= 0.5\\ngini = 0.346\\nsamples = 9\\nvalue = [7, 2]'),\n Text(0.15413077248976134, 0.4189189189189189, 'x[2] <= 31.5\\ngini = 0.48\\nsamples = 5\\nvalue = [3, 2]'),\n Text(0.15367885891823188, 0.3918918918918919, 'gini = 0.0\\nsamples = 2\\nvalue = [2, 0]'),\n Text(0.15458268606129077, 0.3918918918918919, 'x[2] <= 35.0\\ngini = 0.444\\nsamples = 3\\nvalue = [1, 2]'),\n Text(0.15413077248976134, 0.36486486486486486, 'gini = 0.0\\nsamples = 2\\nvalue = [0, 2]'),\n Text(0.15503459963282024, 0.36486486486486486, 'gini = 0.0\\nsamples = 1\\nvalue = [1, 0]'),\n Text(0.15503459963282024, 0.4189189189189189, 'gini = 0.0\\nsamples = 4\\nvalue = [4, 0]'),\n Text(0.1559384267758791, 0.47297297297297297, 'x[5] <= 0.5\\ngini = 0.083\\nsamples = 23\\nvalue = [22, 1]'),\n Text(0.15548651320434967, 0.44594594594594594, 'gini = 0.0\\nsamples = 14\\nvalue = [14, 0]'),\n Text(0.15639034034740856, 0.44594594594594594, 'x[2] <= 32.5\\ngini = 0.198\\nsamples = 9\\nvalue = [8, 1]'),\n Text(0.1559384267758791, 0.4189189189189189, 'gini = 0.0\\nsamples = 6\\nvalue = [6, 0]'),\n Text(0.156842253918938, 0.4189189189189189, 'x[2] <= 33.5\\ngini = 0.444\\nsamples = 3\\nvalue = [2, 1]'),\n Text(0.15639034034740856, 0.3918918918918919, 'gini = 0.0\\nsamples = 1\\nvalue = [0, 1]'),\n Text(0.15729416749046746, 0.3918918918918919, 'gini = 0.0\\nsamples = 2\\nvalue = [2, 0]'),\n Text(0.15503459963282024, 0.5540540540540541, 'gini = 0.0\\nsamples = 21\\nvalue = [21, 0]'),\n Text(0.156842253918938, 0.6081081081081081, 'x[2] <= 31.5\\ngini = 0.408\\nsamples = 7\\nvalue = [5, 2]'),\n Text(0.15639034034740856, 0.581081081081081, 'x[3] <= 0.5\\ngini = 0.444\\nsamples = 3\\nvalue = [1, 2]'),\n Text(0.1559384267758791, 0.5540540540540541, 'gini = 0.0\\nsamples = 1\\nvalue = [0, 1]'),\n Text(0.156842253918938, 0.5540540540540541, 'x[5] <= 0.5\\ngini = 0.5\\nsamples = 2\\nvalue = [1, 1]'),\n Text(0.15639034034740856, 0.527027027027027, 'gini = 0.0\\nsamples = 1\\nvalue = [1, 0]'),\n Text(0.15729416749046746, 0.527027027027027, 'gini = 0.0\\nsamples = 1\\nvalue = [0, 1]'),\n Text(0.15729416749046746, 0.581081081081081, 'gini = 0.0\\nsamples = 4\\nvalue = [4, 0]'),\n Text(0.16045756249117357, 0.6351351351351351, 'x[4] <= 0.5\\ngini = 0.051\\nsamples = 154\\nvalue = [150, 4]'),\n Text(0.1600056489196441, 0.6081081081081081, 'x[5] <= 0.5\\ngini = 0.079\\nsamples = 97\\nvalue = [93, 4]'),\n Text(0.15955373534811468, 0.581081081081081, 'x[2] <= 32.5\\ngini = 0.061\\nsamples = 96\\nvalue = [93, 3]'),\n Text(0.15910182177658522, 0.5540540540540541, 'x[2] <= 30.5\\ngini = 0.111\\nsamples = 51\\nvalue = [48, 3]'),\n Text(0.15864990820505578, 0.527027027027027, 'gini = 0.0\\nsamples = 15\\nvalue = [15, 0]'),\n Text(0.15955373534811468, 0.527027027027027, 'x[3] <= 0.5\\ngini = 0.153\\nsamples = 36\\nvalue = [33, 3]'),\n Text(0.15910182177658522, 0.5, 'x[1] <= 4.5\\ngini = 0.219\\nsamples = 24\\nvalue = [21, 3]'),\n Text(0.1577460810619969, 0.47297297297297297, 'x[6] <= 1.57\\ngini = 0.408\\nsamples = 7\\nvalue = [5, 2]'),\n Text(0.15729416749046746, 0.44594594594594594, 'gini = 0.0\\nsamples = 2\\nvalue = [2, 0]'),\n Text(0.15819799463352635, 0.44594594594594594, 'x[6] <= 1.602\\ngini = 0.48\\nsamples = 5\\nvalue = [3, 2]'),\n Text(0.1577460810619969, 0.4189189189189189, 'gini = 0.0\\nsamples = 1\\nvalue = [0, 1]'),\n Text(0.15864990820505578, 0.4189189189189189, 'x[6] <= 1.625\\ngini = 0.375\\nsamples = 4\\nvalue = [3, 1]'),\n Text(0.15819799463352635, 0.3918918918918919, 'gini = 0.0\\nsamples = 2\\nvalue = [2, 0]'),\n Text(0.15910182177658522, 0.3918918918918919, 'x[2] <= 31.5\\ngini = 0.5\\nsamples = 2\\nvalue = [1, 1]'),\n Text(0.15864990820505578, 0.36486486486486486, 'gini = 0.0\\nsamples = 1\\nvalue = [1, 0]'),\n Text(0.15955373534811468, 0.36486486486486486, 'gini = 0.0\\nsamples = 1\\nvalue = [0, 1]'),\n Text(0.16045756249117357, 0.47297297297297297, 'x[6] <= 1.58\\ngini = 0.111\\nsamples = 17\\nvalue = [16, 1]'),\n Text(0.1600056489196441, 0.44594594594594594, 'x[6] <= 1.566\\ngini = 0.444\\nsamples = 3\\nvalue = [2, 1]'),\n Text(0.15955373534811468, 0.4189189189189189, 'gini = 0.0\\nsamples = 2\\nvalue = [2, 0]'),\n Text(0.16045756249117357, 0.4189189189189189, 'gini = 0.0\\nsamples = 1\\nvalue = [0, 1]'),\n Text(0.160909476062703, 0.44594594594594594, 'gini = 0.0\\nsamples = 14\\nvalue = [14, 0]'),\n Text(0.1600056489196441, 0.5, 'gini = 0.0\\nsamples = 12\\nvalue = [12, 0]'),\n Text(0.1600056489196441, 0.5540540540540541, 'gini = 0.0\\nsamples = 45\\nvalue = [45, 0]'),\n Text(0.16045756249117357, 0.581081081081081, 'gini = 0.0\\nsamples = 1\\nvalue = [0, 1]'),\n Text(0.160909476062703, 0.6081081081081081, 'gini = 0.0\\nsamples = 57\\nvalue = [57, 0]'),\n Text(0.16226521677729133, 0.6891891891891891, 'x[6] <= 1.669\\ngini = 0.198\\nsamples = 18\\nvalue = [16, 2]'),\n Text(0.1618133032057619, 0.6621621621621622, 'gini = 0.0\\nsamples = 1\\nvalue = [0, 1]'),\n Text(0.1627171303488208, 0.6621621621621622, 'x[3] <= 0.5\\ngini = 0.111\\nsamples = 17\\nvalue = [16, 1]'),\n Text(0.16226521677729133, 0.6351351351351351, 'x[4] <= 0.5\\ngini = 0.278\\nsamples = 6\\nvalue = [5, 1]'),\n Text(0.1618133032057619, 0.6081081081081081, 'gini = 0.0\\nsamples = 4\\nvalue = [4, 0]'),\n Text(0.1627171303488208, 0.6081081081081081, 'x[2] <= 32.5\\ngini = 0.5\\nsamples = 2\\nvalue = [1, 1]'),\n Text(0.16226521677729133, 0.581081081081081, 'gini = 0.0\\nsamples = 1\\nvalue = [0, 1]'),\n Text(0.16316904392035023, 0.581081081081081, 'gini = 0.0\\nsamples = 1\\nvalue = [1, 0]'),\n Text(0.16316904392035023, 0.6351351351351351, 'gini = 0.0\\nsamples = 11\\nvalue = [11, 0]'),\n Text(0.16407287106340912, 0.7432432432432432, 'x[4] <= 0.5\\ngini = 0.278\\nsamples = 6\\nvalue = [5, 1]'),\n Text(0.1636209574918797, 0.7162162162162162, 'x[6] <= 1.57\\ngini = 0.444\\nsamples = 3\\nvalue = [2, 1]'),\n Text(0.16316904392035023, 0.6891891891891891, 'gini = 0.0\\nsamples = 1\\nvalue = [0, 1]'),\n Text(0.16407287106340912, 0.6891891891891891, 'gini = 0.0\\nsamples = 2\\nvalue = [2, 0]'),\n Text(0.16452478463493858, 0.7162162162162162, 'gini = 0.0\\nsamples = 3\\nvalue = [3, 0]'),\n Text(0.16542861177799745, 0.7702702702702703, 'x[2] <= 32.0\\ngini = 0.444\\nsamples = 3\\nvalue = [2, 1]'),\n Text(0.16497669820646801, 0.7432432432432432, 'gini = 0.0\\nsamples = 1\\nvalue = [0, 1]'),\n Text(0.1658805253495269, 0.7432432432432432, 'gini = 0.0\\nsamples = 2\\nvalue = [2, 0]'),\n Text(0.164496540036718, 0.7972972972972973, 'gini = 0.0\\nsamples = 102\\nvalue = [102, 0]'),\n Text(0.32520028951898367, 0.9324324324324325, 'x[6] <= 2.381\\ngini = 0.009\\nsamples = 128627\\nvalue = [128049, 578]'),\n Text(0.19271769303417596, 0.9054054054054054, 'x[2] <= 29.5\\ngini = 0.048\\nsamples = 4979\\nvalue = [4856, 123]'),\n Text(0.16926987713599775, 0.8783783783783784, 'x[0] <= 2.5\\ngini = 0.355\\nsamples = 26\\nvalue = [20, 6]'),\n Text(0.16814009320717413, 0.8513513513513513, 'x[6] <= 1.925\\ngini = 0.245\\nsamples = 21\\nvalue = [18, 3]'),\n Text(0.16723626606411524, 0.8243243243243243, 'x[6] <= 1.74\\ngini = 0.133\\nsamples = 14\\nvalue = [13, 1]'),\n Text(0.1667843524925858, 0.7972972972972973, 'x[6] <= 1.72\\ngini = 0.278\\nsamples = 6\\nvalue = [5, 1]'),\n Text(0.16633243892105634, 0.7702702702702703, 'gini = 0.0\\nsamples = 4\\nvalue = [4, 0]'),\n Text(0.16723626606411524, 0.7702702702702703, 'x[5] <= 0.5\\ngini = 0.5\\nsamples = 2\\nvalue = [1, 1]'),\n Text(0.1667843524925858, 0.7432432432432432, 'gini = 0.0\\nsamples = 1\\nvalue = [0, 1]'),\n Text(0.1676881796356447, 0.7432432432432432, 'gini = 0.0\\nsamples = 1\\nvalue = [1, 0]'),\n Text(0.1676881796356447, 0.7972972972972973, 'gini = 0.0\\nsamples = 8\\nvalue = [8, 0]'),\n Text(0.16904392035023302, 0.8243243243243243, 'x[6] <= 1.945\\ngini = 0.408\\nsamples = 7\\nvalue = [5, 2]'),\n Text(0.16859200677870356, 0.7972972972972973, 'gini = 0.0\\nsamples = 1\\nvalue = [0, 1]'),\n Text(0.16949583392176246, 0.7972972972972973, 'x[3] <= 0.5\\ngini = 0.278\\nsamples = 6\\nvalue = [5, 1]'),\n Text(0.16904392035023302, 0.7702702702702703, 'gini = 0.0\\nsamples = 4\\nvalue = [4, 0]'),\n Text(0.16994774749329192, 0.7702702702702703, 'x[1] <= 3.0\\ngini = 0.5\\nsamples = 2\\nvalue = [1, 1]'),\n Text(0.16949583392176246, 0.7432432432432432, 'gini = 0.0\\nsamples = 1\\nvalue = [1, 0]'),\n Text(0.17039966106482135, 0.7432432432432432, 'gini = 0.0\\nsamples = 1\\nvalue = [0, 1]'),\n Text(0.17039966106482135, 0.8513513513513513, 'x[2] <= 27.5\\ngini = 0.48\\nsamples = 5\\nvalue = [2, 3]'),\n Text(0.16994774749329192, 0.8243243243243243, 'gini = 0.0\\nsamples = 1\\nvalue = [1, 0]'),\n Text(0.1708515746363508, 0.8243243243243243, 'x[1] <= 3.5\\ngini = 0.375\\nsamples = 4\\nvalue = [1, 3]'),\n Text(0.17039966106482135, 0.7972972972972973, 'gini = 0.0\\nsamples = 1\\nvalue = [1, 0]'),\n Text(0.17130348820788024, 0.7972972972972973, 'gini = 0.0\\nsamples = 3\\nvalue = [0, 3]'),\n Text(0.2161655089323542, 0.8783783783783784, 'x[2] <= 32.5\\ngini = 0.046\\nsamples = 4953\\nvalue = [4836, 117]'),\n Text(0.18807724897613332, 0.8513513513513513, 'x[6] <= 2.355\\ngini = 0.092\\nsamples = 665\\nvalue = [633, 32]'),\n Text(0.18298969072164947, 0.8243243243243243, 'x[5] <= 0.5\\ngini = 0.087\\nsamples = 659\\nvalue = [629, 30]'),\n Text(0.1771924869368733, 0.7972972972972973, 'x[6] <= 2.309\\ngini = 0.06\\nsamples = 454\\nvalue = [440, 14]'),\n Text(0.1743256602174834, 0.7702702702702703, 'x[6] <= 1.978\\ngini = 0.054\\nsamples = 435\\nvalue = [423, 12]'),\n Text(0.17130348820788024, 0.7432432432432432, 'x[6] <= 1.973\\ngini = 0.075\\nsamples = 255\\nvalue = [245, 10]'),\n Text(0.16910040954667419, 0.7162162162162162, 'x[6] <= 1.802\\ngini = 0.069\\nsamples = 253\\nvalue = [244, 9]'),\n Text(0.16604999293885045, 0.6891891891891891, 'x[2] <= 31.5\\ngini = 0.017\\nsamples = 115\\nvalue = [114, 1]'),\n Text(0.165598079367321, 0.6621621621621622, 'gini = 0.0\\nsamples = 76\\nvalue = [76, 0]'),\n Text(0.16650190651037988, 0.6621621621621622, 'x[6] <= 1.733\\ngini = 0.05\\nsamples = 39\\nvalue = [38, 1]'),\n Text(0.16604999293885045, 0.6351351351351351, 'x[6] <= 1.725\\ngini = 0.117\\nsamples = 16\\nvalue = [15, 1]'),\n Text(0.165598079367321, 0.6081081081081081, 'gini = 0.0\\nsamples = 14\\nvalue = [14, 0]'),\n Text(0.16650190651037988, 0.6081081081081081, 'x[0] <= 1.5\\ngini = 0.5\\nsamples = 2\\nvalue = [1, 1]'),\n Text(0.16604999293885045, 0.581081081081081, 'gini = 0.0\\nsamples = 1\\nvalue = [1, 0]'),\n Text(0.16695382008190934, 0.581081081081081, 'gini = 0.0\\nsamples = 1\\nvalue = [0, 1]'),\n Text(0.16695382008190934, 0.6351351351351351, 'gini = 0.0\\nsamples = 23\\nvalue = [23, 0]'),\n Text(0.17215082615449795, 0.6891891891891891, 'x[6] <= 1.807\\ngini = 0.109\\nsamples = 138\\nvalue = [130, 8]'),\n Text(0.17169891258296852, 0.6621621621621622, 'gini = 0.0\\nsamples = 1\\nvalue = [0, 1]'),\n Text(0.1726027397260274, 0.6621621621621622, 'x[6] <= 1.865\\ngini = 0.097\\nsamples = 137\\nvalue = [130, 7]'),\n Text(0.1705691286541449, 0.6351351351351351, 'x[0] <= 2.5\\ngini = 0.194\\nsamples = 46\\nvalue = [41, 5]'),\n Text(0.16921338793955656, 0.6081081081081081, 'x[4] <= 0.5\\ngini = 0.145\\nsamples = 38\\nvalue = [35, 3]'),\n Text(0.16785764722496824, 0.581081081081081, 'x[6] <= 1.855\\ngini = 0.105\\nsamples = 36\\nvalue = [34, 2]'),\n Text(0.16650190651037988, 0.5540540540540541, 'x[1] <= 4.5\\ngini = 0.062\\nsamples = 31\\nvalue = [30, 1]'),\n Text(0.16604999293885045, 0.527027027027027, 'gini = 0.0\\nsamples = 17\\nvalue = [17, 0]'),\n Text(0.16695382008190934, 0.527027027027027, 'x[6] <= 1.843\\ngini = 0.133\\nsamples = 14\\nvalue = [13, 1]'),\n Text(0.16650190651037988, 0.5, 'x[1] <= 5.5\\ngini = 0.245\\nsamples = 7\\nvalue = [6, 1]'),\n Text(0.16604999293885045, 0.47297297297297297, 'x[6] <= 1.835\\ngini = 0.375\\nsamples = 4\\nvalue = [3, 1]'),\n Text(0.165598079367321, 0.44594594594594594, 'gini = 0.0\\nsamples = 2\\nvalue = [2, 0]'),\n Text(0.16650190651037988, 0.44594594594594594, 'x[3] <= 0.5\\ngini = 0.5\\nsamples = 2\\nvalue = [1, 1]'),\n Text(0.16604999293885045, 0.4189189189189189, 'gini = 0.0\\nsamples = 1\\nvalue = [0, 1]'),\n Text(0.16695382008190934, 0.4189189189189189, 'gini = 0.0\\nsamples = 1\\nvalue = [1, 0]'),\n Text(0.16695382008190934, 0.47297297297297297, 'gini = 0.0\\nsamples = 3\\nvalue = [3, 0]'),\n Text(0.16740573365343878, 0.5, 'gini = 0.0\\nsamples = 7\\nvalue = [7, 0]'),\n Text(0.16921338793955656, 0.5540540540540541, 'x[2] <= 31.5\\ngini = 0.32\\nsamples = 5\\nvalue = [4, 1]'),\n Text(0.1687614743680271, 0.527027027027027, 'x[2] <= 30.5\\ngini = 0.444\\nsamples = 3\\nvalue = [2, 1]'),\n Text(0.16830956079649767, 0.5, 'gini = 0.0\\nsamples = 1\\nvalue = [1, 0]'),\n Text(0.16921338793955656, 0.5, 'x[1] <= 2.0\\ngini = 0.5\\nsamples = 2\\nvalue = [1, 1]'),\n Text(0.1687614743680271, 0.47297297297297297, 'gini = 0.0\\nsamples = 1\\nvalue = [1, 0]'),\n Text(0.169665301511086, 0.47297297297297297, 'gini = 0.0\\nsamples = 1\\nvalue = [0, 1]'),\n Text(0.169665301511086, 0.527027027027027, 'gini = 0.0\\nsamples = 2\\nvalue = [2, 0]'),\n Text(0.1705691286541449, 0.581081081081081, 'x[6] <= 1.827\\ngini = 0.5\\nsamples = 2\\nvalue = [1, 1]'),\n Text(0.17011721508261546, 0.5540540540540541, 'gini = 0.0\\nsamples = 1\\nvalue = [1, 0]'),\n Text(0.17102104222567435, 0.5540540540540541, 'gini = 0.0\\nsamples = 1\\nvalue = [0, 1]'),\n Text(0.17192486936873322, 0.6081081081081081, 'x[1] <= 4.0\\ngini = 0.375\\nsamples = 8\\nvalue = [6, 2]'),\n Text(0.17147295579720379, 0.581081081081081, 'gini = 0.0\\nsamples = 2\\nvalue = [0, 2]'),\n Text(0.17237678294026268, 0.581081081081081, 'gini = 0.0\\nsamples = 6\\nvalue = [6, 0]'),\n Text(0.1746363507979099, 0.6351351351351351, 'x[1] <= 7.5\\ngini = 0.043\\nsamples = 91\\nvalue = [89, 2]'),\n Text(0.173732523654851, 0.6081081081081081, 'x[1] <= 0.5\\ngini = 0.023\\nsamples = 85\\nvalue = [84, 1]'),\n Text(0.17328061008332157, 0.581081081081081, 'x[6] <= 1.935\\ngini = 0.165\\nsamples = 11\\nvalue = [10, 1]'),\n Text(0.1728286965117921, 0.5540540540540541, 'gini = 0.0\\nsamples = 6\\nvalue = [6, 0]'),\n Text(0.173732523654851, 0.5540540540540541, 'x[6] <= 1.95\\ngini = 0.32\\nsamples = 5\\nvalue = [4, 1]'),\n Text(0.17328061008332157, 0.527027027027027, 'x[2] <= 31.5\\ngini = 0.5\\nsamples = 2\\nvalue = [1, 1]'),\n Text(0.1728286965117921, 0.5, 'gini = 0.0\\nsamples = 1\\nvalue = [1, 0]'),\n Text(0.173732523654851, 0.5, 'gini = 0.0\\nsamples = 1\\nvalue = [0, 1]'),\n Text(0.17418443722638047, 0.527027027027027, 'gini = 0.0\\nsamples = 3\\nvalue = [3, 0]'),\n Text(0.17418443722638047, 0.581081081081081, 'gini = 0.0\\nsamples = 74\\nvalue = [74, 0]'),\n Text(0.1755401779409688, 0.6081081081081081, 'x[6] <= 1.908\\ngini = 0.278\\nsamples = 6\\nvalue = [5, 1]'),\n Text(0.17508826436943933, 0.581081081081081, 'gini = 0.0\\nsamples = 1\\nvalue = [0, 1]'),\n Text(0.17599209151249823, 0.581081081081081, 'gini = 0.0\\nsamples = 5\\nvalue = [5, 0]'),\n Text(0.17350656686908628, 0.7162162162162162, 'x[3] <= 0.5\\ngini = 0.5\\nsamples = 2\\nvalue = [1, 1]'),\n Text(0.17305465329755684, 0.6891891891891891, 'gini = 0.0\\nsamples = 1\\nvalue = [0, 1]'),\n Text(0.17395848044061574, 0.6891891891891891, 'gini = 0.0\\nsamples = 1\\nvalue = [1, 0]'),\n Text(0.17734783222708658, 0.7432432432432432, 'x[0] <= 1.5\\ngini = 0.022\\nsamples = 180\\nvalue = [178, 2]'),\n Text(0.1764440050840277, 0.7162162162162162, 'x[6] <= 2.025\\ngini = 0.061\\nsamples = 32\\nvalue = [31, 1]'),\n Text(0.17599209151249823, 0.6891891891891891, 'x[6] <= 2.013\\ngini = 0.165\\nsamples = 11\\nvalue = [10, 1]'),\n Text(0.1755401779409688, 0.6621621621621622, 'gini = 0.0\\nsamples = 8\\nvalue = [8, 0]'),\n Text(0.1764440050840277, 0.6621621621621622, 'x[2] <= 31.0\\ngini = 0.444\\nsamples = 3\\nvalue = [2, 1]'),\n Text(0.17599209151249823, 0.6351351351351351, 'gini = 0.0\\nsamples = 1\\nvalue = [1, 0]'),\n Text(0.17689591865555712, 0.6351351351351351, 'x[1] <= 5.5\\ngini = 0.5\\nsamples = 2\\nvalue = [1, 1]'),\n Text(0.1764440050840277, 0.6081081081081081, 'gini = 0.0\\nsamples = 1\\nvalue = [0, 1]'),\n Text(0.17734783222708658, 0.6081081081081081, 'gini = 0.0\\nsamples = 1\\nvalue = [1, 0]'),\n Text(0.17689591865555712, 0.6891891891891891, 'gini = 0.0\\nsamples = 21\\nvalue = [21, 0]'),\n Text(0.17825165937014545, 0.7162162162162162, 'x[1] <= 1.5\\ngini = 0.013\\nsamples = 148\\nvalue = [147, 1]'),\n Text(0.17779974579861602, 0.6891891891891891, 'x[6] <= 2.11\\ngini = 0.071\\nsamples = 27\\nvalue = [26, 1]'),\n Text(0.17734783222708658, 0.6621621621621622, 'gini = 0.0\\nsamples = 18\\nvalue = [18, 0]'),\n Text(0.17825165937014545, 0.6621621621621622, 'x[6] <= 2.135\\ngini = 0.198\\nsamples = 9\\nvalue = [8, 1]'),\n Text(0.17779974579861602, 0.6351351351351351, 'gini = 0.0\\nsamples = 1\\nvalue = [0, 1]'),\n Text(0.1787035729416749, 0.6351351351351351, 'gini = 0.0\\nsamples = 8\\nvalue = [8, 0]'),\n Text(0.1787035729416749, 0.6891891891891891, 'gini = 0.0\\nsamples = 121\\nvalue = [121, 0]'),\n Text(0.18005931365626324, 0.7702702702702703, 'x[2] <= 30.5\\ngini = 0.188\\nsamples = 19\\nvalue = [17, 2]'),\n Text(0.1796074000847338, 0.7432432432432432, 'gini = 0.0\\nsamples = 1\\nvalue = [0, 1]'),\n Text(0.1805112272277927, 0.7432432432432432, 'x[1] <= 3.5\\ngini = 0.105\\nsamples = 18\\nvalue = [17, 1]'),\n Text(0.18005931365626324, 0.7162162162162162, 'x[6] <= 2.332\\ngini = 0.278\\nsamples = 6\\nvalue = [5, 1]'),\n Text(0.1796074000847338, 0.6891891891891891, 'x[2] <= 31.5\\ngini = 0.444\\nsamples = 3\\nvalue = [2, 1]'),\n Text(0.17915548651320434, 0.6621621621621622, 'gini = 0.0\\nsamples = 1\\nvalue = [0, 1]'),\n Text(0.18005931365626324, 0.6621621621621622, 'gini = 0.0\\nsamples = 2\\nvalue = [2, 0]'),\n Text(0.1805112272277927, 0.6891891891891891, 'gini = 0.0\\nsamples = 3\\nvalue = [3, 0]'),\n Text(0.18096314079932213, 0.7162162162162162, 'gini = 0.0\\nsamples = 12\\nvalue = [12, 0]'),\n Text(0.18878689450642563, 0.7972972972972973, 'x[0] <= 2.5\\ngini = 0.144\\nsamples = 205\\nvalue = [189, 16]'),\n Text(0.18531280892529303, 0.7702702702702703, 'x[2] <= 30.5\\ngini = 0.109\\nsamples = 173\\nvalue = [163, 10]'),\n Text(0.18231888151391046, 0.7432432432432432, 'x[6] <= 2.19\\ngini = 0.266\\nsamples = 19\\nvalue = [16, 3]'),\n Text(0.18186696794238102, 0.7162162162162162, 'x[1] <= 3.5\\ngini = 0.198\\nsamples = 18\\nvalue = [16, 2]'),\n Text(0.18141505437085156, 0.6891891891891891, 'x[6] <= 1.91\\ngini = 0.408\\nsamples = 7\\nvalue = [5, 2]'),\n Text(0.18096314079932213, 0.6621621621621622, 'gini = 0.0\\nsamples = 3\\nvalue = [3, 0]'),\n Text(0.18186696794238102, 0.6621621621621622, 'x[6] <= 2.03\\ngini = 0.5\\nsamples = 4\\nvalue = [2, 2]'),\n Text(0.18141505437085156, 0.6351351351351351, 'gini = 0.0\\nsamples = 2\\nvalue = [0, 2]'),\n Text(0.18231888151391046, 0.6351351351351351, 'gini = 0.0\\nsamples = 2\\nvalue = [2, 0]'),\n Text(0.18231888151391046, 0.6891891891891891, 'gini = 0.0\\nsamples = 11\\nvalue = [11, 0]'),\n Text(0.18277079508543992, 0.7162162162162162, 'gini = 0.0\\nsamples = 1\\nvalue = [0, 1]'),\n Text(0.1883067363366756, 0.7432432432432432, 'x[6] <= 2.245\\ngini = 0.087\\nsamples = 154\\nvalue = [147, 7]'),\n Text(0.1866120604434402, 0.7162162162162162, 'x[0] <= 1.5\\ngini = 0.068\\nsamples = 141\\nvalue = [136, 5]'),\n Text(0.18457844937155768, 0.6891891891891891, 'x[1] <= 7.5\\ngini = 0.153\\nsamples = 36\\nvalue = [33, 3]'),\n Text(0.1836746222284988, 0.6621621621621622, 'x[1] <= 3.5\\ngini = 0.111\\nsamples = 34\\nvalue = [32, 2]'),\n Text(0.18322270865696935, 0.6351351351351351, 'gini = 0.0\\nsamples = 21\\nvalue = [21, 0]'),\n Text(0.18412653580002825, 0.6351351351351351, 'x[6] <= 1.895\\ngini = 0.26\\nsamples = 13\\nvalue = [11, 2]'),\n ...]"
     },
     "execution_count": 102,
     "metadata": {},
     "output_type": "execute_result"
    },
    {
     "data": {
      "text/plain": "<Figure size 640x480 with 1 Axes>",
      "image/png": "[encoded data removed]"
     },
     "metadata": {},
     "output_type": "display_data"
    }
   ],
   "source": [
    "tree.plot_tree(dtc)"
   ],
   "metadata": {
    "collapsed": false,
    "ExecuteTime": {
     "end_time": "2023-11-30T15:46:28.904834800Z",
     "start_time": "2023-11-30T15:44:49.427219700Z"
    }
   },
   "id": "fe3ac5f4d47fc629"
  },
  {
   "cell_type": "code",
   "execution_count": 0,
   "outputs": [],
   "source": [
    "export_graphviz(dtc, out_file=dot_data, filled = True, rounded = True,special_characters=True,feature_names = feature_cols,class_names=['0','1'])\n",
    "#graph = pydotplus.graph_from_dot_data(dot_data.getvalue())  \n",
    "graph = pydotplus.graph_from_dot_data(dot_data.getvalue())\n",
    "#graph.write_png('apgar5.png')\n",
    "#graph.write_png('decision_tree.png')  # Write the graph to a PNG file"
   ],
   "metadata": {
    "collapsed": false
   },
   "id": "e9fdcf0c99e9722b"
  },
  {
   "cell_type": "markdown",
   "source": [
    "### Feature Importance"
   ],
   "metadata": {
    "collapsed": false
   },
   "id": "90b02c2834b9da62"
  },
  {
   "cell_type": "code",
   "execution_count": 109,
   "outputs": [
    {
     "data": {
      "text/plain": "RandomForestClassifier(random_state=0)",
      "text/html": "<style>#sk-container-id-1 {color: black;}#sk-container-id-1 pre{padding: 0;}#sk-container-id-1 div.sk-toggleable {background-color: white;}#sk-container-id-1 label.sk-toggleable__label {cursor: pointer;display: block;width: 100%;margin-bottom: 0;padding: 0.3em;box-sizing: border-box;text-align: center;}#sk-container-id-1 label.sk-toggleable__label-arrow:before {content: \"▸\";float: left;margin-right: 0.25em;color: #696969;}#sk-container-id-1 label.sk-toggleable__label-arrow:hover:before {color: black;}#sk-container-id-1 div.sk-estimator:hover label.sk-toggleable__label-arrow:before {color: black;}#sk-container-id-1 div.sk-toggleable__content {max-height: 0;max-width: 0;overflow: hidden;text-align: left;background-color: #f0f8ff;}#sk-container-id-1 div.sk-toggleable__content pre {margin: 0.2em;color: black;border-radius: 0.25em;background-color: #f0f8ff;}#sk-container-id-1 input.sk-toggleable__control:checked~div.sk-toggleable__content {max-height: 200px;max-width: 100%;overflow: auto;}#sk-container-id-1 input.sk-toggleable__control:checked~label.sk-toggleable__label-arrow:before {content: \"▾\";}#sk-container-id-1 div.sk-estimator input.sk-toggleable__control:checked~label.sk-toggleable__label {background-color: #d4ebff;}#sk-container-id-1 div.sk-label input.sk-toggleable__control:checked~label.sk-toggleable__label {background-color: #d4ebff;}#sk-container-id-1 input.sk-hidden--visually {border: 0;clip: rect(1px 1px 1px 1px);clip: rect(1px, 1px, 1px, 1px);height: 1px;margin: -1px;overflow: hidden;padding: 0;position: absolute;width: 1px;}#sk-container-id-1 div.sk-estimator {font-family: monospace;background-color: #f0f8ff;border: 1px dotted black;border-radius: 0.25em;box-sizing: border-box;margin-bottom: 0.5em;}#sk-container-id-1 div.sk-estimator:hover {background-color: #d4ebff;}#sk-container-id-1 div.sk-parallel-item::after {content: \"\";width: 100%;border-bottom: 1px solid gray;flex-grow: 1;}#sk-container-id-1 div.sk-label:hover label.sk-toggleable__label {background-color: #d4ebff;}#sk-container-id-1 div.sk-serial::before {content: \"\";position: absolute;border-left: 1px solid gray;box-sizing: border-box;top: 0;bottom: 0;left: 50%;z-index: 0;}#sk-container-id-1 div.sk-serial {display: flex;flex-direction: column;align-items: center;background-color: white;padding-right: 0.2em;padding-left: 0.2em;position: relative;}#sk-container-id-1 div.sk-item {position: relative;z-index: 1;}#sk-container-id-1 div.sk-parallel {display: flex;align-items: stretch;justify-content: center;background-color: white;position: relative;}#sk-container-id-1 div.sk-item::before, #sk-container-id-1 div.sk-parallel-item::before {content: \"\";position: absolute;border-left: 1px solid gray;box-sizing: border-box;top: 0;bottom: 0;left: 50%;z-index: -1;}#sk-container-id-1 div.sk-parallel-item {display: flex;flex-direction: column;z-index: 1;position: relative;background-color: white;}#sk-container-id-1 div.sk-parallel-item:first-child::after {align-self: flex-end;width: 50%;}#sk-container-id-1 div.sk-parallel-item:last-child::after {align-self: flex-start;width: 50%;}#sk-container-id-1 div.sk-parallel-item:only-child::after {width: 0;}#sk-container-id-1 div.sk-dashed-wrapped {border: 1px dashed gray;margin: 0 0.4em 0.5em 0.4em;box-sizing: border-box;padding-bottom: 0.4em;background-color: white;}#sk-container-id-1 div.sk-label label {font-family: monospace;font-weight: bold;display: inline-block;line-height: 1.2em;}#sk-container-id-1 div.sk-label-container {text-align: center;}#sk-container-id-1 div.sk-container {/* jupyter's `normalize.less` sets `[hidden] { display: none; }` but bootstrap.min.css set `[hidden] { display: none !important; }` so we also need the `!important` here to be able to override the default hidden behavior on the sphinx rendered scikit-learn.org. See: https://github.com/scikit-learn/scikit-learn/issues/21755 */display: inline-block !important;position: relative;}#sk-container-id-1 div.sk-text-repr-fallback {display: none;}</style><div id=\"sk-container-id-1\" class=\"sk-top-container\"><div class=\"sk-text-repr-fallback\"><pre>RandomForestClassifier(random_state=0)</pre><b>In a Jupyter environment, please rerun this cell to show the HTML representation or trust the notebook. <br />On GitHub, the HTML representation is unable to render, please try loading this page with nbviewer.org.</b></div><div class=\"sk-container\" hidden><div class=\"sk-item\"><div class=\"sk-estimator sk-toggleable\"><input class=\"sk-toggleable__control sk-hidden--visually\" id=\"sk-estimator-id-1\" type=\"checkbox\" checked><label for=\"sk-estimator-id-1\" class=\"sk-toggleable__label sk-toggleable__label-arrow\">RandomForestClassifier</label><div class=\"sk-toggleable__content\"><pre>RandomForestClassifier(random_state=0)</pre></div></div></div></div></div>"
     },
     "execution_count": 109,
     "metadata": {},
     "output_type": "execute_result"
    }
   ],
   "source": [
    "from sklearn.ensemble import RandomForestClassifier\n",
    "\n",
    "feature_names = feature_cols\n",
    "forest = RandomForestClassifier(random_state=0)\n",
    "forest.fit(x_train, y_train)"
   ],
   "metadata": {
    "collapsed": false,
    "ExecuteTime": {
     "end_time": "2023-11-30T16:23:42.210042500Z",
     "start_time": "2023-11-30T16:23:28.651323800Z"
    }
   },
   "id": "b403487dfbddab19"
  },
  {
   "cell_type": "code",
   "execution_count": 119,
   "outputs": [
    {
     "data": {
      "text/plain": "<Figure size 640x480 with 1 Axes>",
      "image/png": "[encoded data removed]"
     },
     "metadata": {},
     "output_type": "display_data"
    }
   ],
   "source": [
    "importances = forest.feature_importances_\n",
    "\n",
    "import pandas as pd\n",
    "forest_importances = pd.Series(importances, index=feature_names)\n",
    "\n",
    "fig, ax = plt.subplots()\n",
    "forest_importances.sort_values(ascending=False).plot.bar()\n",
    "plt.savefig('prueba1.png')\n",
    "ax.set_title(\"Feature importances using MDI\")\n",
    "ax.set_ylabel(\"Mean decrease in impurity\")\n",
    "fig.tight_layout()"
   ],
   "metadata": {
    "collapsed": false,
    "ExecuteTime": {
     "end_time": "2023-11-30T16:42:39.046992300Z",
     "start_time": "2023-11-30T16:42:38.745369500Z"
    }
   },
   "id": "aeb04b976dc9936"
  },
  {
   "cell_type": "code",
   "execution_count": 111,
   "outputs": [
    {
     "data": {
      "text/plain": "<Figure size 640x480 with 1 Axes>",
      "image/png": "[encoded data removed]"
     },
     "metadata": {},
     "output_type": "display_data"
    }
   ],
   "source": [],
   "metadata": {
    "collapsed": false,
    "ExecuteTime": {
     "start_time": "2023-11-30T16:27:55.451785500Z"
    }
   },
   "id": "e53599569f15ee97"
  },
  {
   "cell_type": "code",
   "execution_count": null,
   "outputs": [],
   "source": [
    "dtc.feature_importances_"
   ],
   "metadata": {
    "collapsed": false
   },
   "id": "c9ece7a4c3e4dd57"
  }
 ],
 "metadata": {
  "kernelspec": {
   "display_name": "Python 3",
   "language": "python",
   "name": "python3"
  },
  "language_info": {
   "codemirror_mode": {
    "name": "ipython",
    "version": 2
   },
   "file_extension": ".py",
   "mimetype": "text/x-python",
   "name": "python",
   "nbconvert_exporter": "python",
   "pygments_lexer": "ipython2",
   "version": "2.7.6"
  }
 },
 "nbformat": 4,
 "nbformat_minor": 5
}
